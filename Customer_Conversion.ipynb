{
  "nbformat": 4,
  "nbformat_minor": 0,
  "metadata": {
    "colab": {
      "provenance": []
    },
    "kernelspec": {
      "name": "python3",
      "display_name": "Python 3"
    },
    "language_info": {
      "name": "python"
    }
  },
  "cells": [
    {
      "cell_type": "markdown",
      "source": [
        "# **Customer Conversion Prediction**\n",
        "Problem Statement\n",
        "You are working for a new-age insurance company and employ mutiple outreach plans to sell term insurance to your customers. Telephonic marketing campaigns still remain one of the most effective way to reach out to people however they incur a lot of cost. Hence, it is important to identify the customers that are most likely to convert beforehand so that they can be specifically targeted via call. We are given the historical marketing data of the insurance company and are required to build a ML model that will predict if a client will subscribe to the insurance.\n",
        "\n",
        "# **Basic Analysis of Dataset from Problem Statement**\n",
        "\n",
        "It is a supervised learning problem - We are predicting target variable From target varible we can clearly understand it is a classification problem From target variable we can tell it is a binary classification problem."
      ],
      "metadata": {
        "id": "Bt9tUSIe7sC2"
      }
    },
    {
      "cell_type": "markdown",
      "source": [
        "#  **Importing Initial Libraries**"
      ],
      "metadata": {
        "id": "R-UF2fDa8FcM"
      }
    },
    {
      "cell_type": "code",
      "source": [
        "import pandas as pd\n",
        "import numpy as np\n",
        "import matplotlib.pyplot as plt\n",
        "import seaborn as sns"
      ],
      "metadata": {
        "id": "1gbHs56r7n0w"
      },
      "execution_count": 5,
      "outputs": []
    },
    {
      "cell_type": "code",
      "source": [
        "import warnings\n",
        "warnings.filterwarnings(\"ignore\")"
      ],
      "metadata": {
        "id": "pvhpB8LI4ofT"
      },
      "execution_count": 6,
      "outputs": []
    },
    {
      "cell_type": "markdown",
      "source": [
        "# **Loading the Dataset**"
      ],
      "metadata": {
        "id": "uNGPqxsW8Pyb"
      }
    },
    {
      "cell_type": "code",
      "source": [
        "data = pd.read_csv(\"/content/train (1).csv\")"
      ],
      "metadata": {
        "id": "J1Uax4757n4a"
      },
      "execution_count": 105,
      "outputs": []
    },
    {
      "cell_type": "markdown",
      "source": [
        "# **Data Analysis**"
      ],
      "metadata": {
        "id": "5cVyeG6g80TQ"
      }
    },
    {
      "cell_type": "code",
      "source": [
        "# Checking the size\n",
        "data.shape"
      ],
      "metadata": {
        "colab": {
          "base_uri": "https://localhost:8080/"
        },
        "id": "1XJnRXXn7n6b",
        "outputId": "d522e80d-9954-4cb7-8b25-a3cbd0126d40"
      },
      "execution_count": 8,
      "outputs": [
        {
          "output_type": "execute_result",
          "data": {
            "text/plain": [
              "(45211, 11)"
            ]
          },
          "metadata": {},
          "execution_count": 8
        }
      ]
    },
    {
      "cell_type": "code",
      "source": [
        "# Fetching the top 5 rows\n",
        "data.head()"
      ],
      "metadata": {
        "colab": {
          "base_uri": "https://localhost:8080/",
          "height": 270
        },
        "id": "INFVBqu57n8Q",
        "outputId": "b862b193-8d99-4721-b38f-15e6a0f3317c"
      },
      "execution_count": 9,
      "outputs": [
        {
          "output_type": "execute_result",
          "data": {
            "text/plain": [
              "   age           job  marital education_qual call_type  day  mon  dur  \\\n",
              "0   58    management  married       tertiary   unknown    5  may  261   \n",
              "1   44    technician   single      secondary   unknown    5  may  151   \n",
              "2   33  entrepreneur  married      secondary   unknown    5  may   76   \n",
              "3   47   blue-collar  married        unknown   unknown    5  may   92   \n",
              "4   33       unknown   single        unknown   unknown    5  may  198   \n",
              "\n",
              "   num_calls prev_outcome   y  \n",
              "0          1      unknown  no  \n",
              "1          1      unknown  no  \n",
              "2          1      unknown  no  \n",
              "3          1      unknown  no  \n",
              "4          1      unknown  no  "
            ],
            "text/html": [
              "\n",
              "\n",
              "  <div id=\"df-07191759-8722-48aa-a122-546302324c3c\">\n",
              "    <div class=\"colab-df-container\">\n",
              "      <div>\n",
              "<style scoped>\n",
              "    .dataframe tbody tr th:only-of-type {\n",
              "        vertical-align: middle;\n",
              "    }\n",
              "\n",
              "    .dataframe tbody tr th {\n",
              "        vertical-align: top;\n",
              "    }\n",
              "\n",
              "    .dataframe thead th {\n",
              "        text-align: right;\n",
              "    }\n",
              "</style>\n",
              "<table border=\"1\" class=\"dataframe\">\n",
              "  <thead>\n",
              "    <tr style=\"text-align: right;\">\n",
              "      <th></th>\n",
              "      <th>age</th>\n",
              "      <th>job</th>\n",
              "      <th>marital</th>\n",
              "      <th>education_qual</th>\n",
              "      <th>call_type</th>\n",
              "      <th>day</th>\n",
              "      <th>mon</th>\n",
              "      <th>dur</th>\n",
              "      <th>num_calls</th>\n",
              "      <th>prev_outcome</th>\n",
              "      <th>y</th>\n",
              "    </tr>\n",
              "  </thead>\n",
              "  <tbody>\n",
              "    <tr>\n",
              "      <th>0</th>\n",
              "      <td>58</td>\n",
              "      <td>management</td>\n",
              "      <td>married</td>\n",
              "      <td>tertiary</td>\n",
              "      <td>unknown</td>\n",
              "      <td>5</td>\n",
              "      <td>may</td>\n",
              "      <td>261</td>\n",
              "      <td>1</td>\n",
              "      <td>unknown</td>\n",
              "      <td>no</td>\n",
              "    </tr>\n",
              "    <tr>\n",
              "      <th>1</th>\n",
              "      <td>44</td>\n",
              "      <td>technician</td>\n",
              "      <td>single</td>\n",
              "      <td>secondary</td>\n",
              "      <td>unknown</td>\n",
              "      <td>5</td>\n",
              "      <td>may</td>\n",
              "      <td>151</td>\n",
              "      <td>1</td>\n",
              "      <td>unknown</td>\n",
              "      <td>no</td>\n",
              "    </tr>\n",
              "    <tr>\n",
              "      <th>2</th>\n",
              "      <td>33</td>\n",
              "      <td>entrepreneur</td>\n",
              "      <td>married</td>\n",
              "      <td>secondary</td>\n",
              "      <td>unknown</td>\n",
              "      <td>5</td>\n",
              "      <td>may</td>\n",
              "      <td>76</td>\n",
              "      <td>1</td>\n",
              "      <td>unknown</td>\n",
              "      <td>no</td>\n",
              "    </tr>\n",
              "    <tr>\n",
              "      <th>3</th>\n",
              "      <td>47</td>\n",
              "      <td>blue-collar</td>\n",
              "      <td>married</td>\n",
              "      <td>unknown</td>\n",
              "      <td>unknown</td>\n",
              "      <td>5</td>\n",
              "      <td>may</td>\n",
              "      <td>92</td>\n",
              "      <td>1</td>\n",
              "      <td>unknown</td>\n",
              "      <td>no</td>\n",
              "    </tr>\n",
              "    <tr>\n",
              "      <th>4</th>\n",
              "      <td>33</td>\n",
              "      <td>unknown</td>\n",
              "      <td>single</td>\n",
              "      <td>unknown</td>\n",
              "      <td>unknown</td>\n",
              "      <td>5</td>\n",
              "      <td>may</td>\n",
              "      <td>198</td>\n",
              "      <td>1</td>\n",
              "      <td>unknown</td>\n",
              "      <td>no</td>\n",
              "    </tr>\n",
              "  </tbody>\n",
              "</table>\n",
              "</div>\n",
              "      <button class=\"colab-df-convert\" onclick=\"convertToInteractive('df-07191759-8722-48aa-a122-546302324c3c')\"\n",
              "              title=\"Convert this dataframe to an interactive table.\"\n",
              "              style=\"display:none;\">\n",
              "\n",
              "  <svg xmlns=\"http://www.w3.org/2000/svg\" height=\"24px\"viewBox=\"0 0 24 24\"\n",
              "       width=\"24px\">\n",
              "    <path d=\"M0 0h24v24H0V0z\" fill=\"none\"/>\n",
              "    <path d=\"M18.56 5.44l.94 2.06.94-2.06 2.06-.94-2.06-.94-.94-2.06-.94 2.06-2.06.94zm-11 1L8.5 8.5l.94-2.06 2.06-.94-2.06-.94L8.5 2.5l-.94 2.06-2.06.94zm10 10l.94 2.06.94-2.06 2.06-.94-2.06-.94-.94-2.06-.94 2.06-2.06.94z\"/><path d=\"M17.41 7.96l-1.37-1.37c-.4-.4-.92-.59-1.43-.59-.52 0-1.04.2-1.43.59L10.3 9.45l-7.72 7.72c-.78.78-.78 2.05 0 2.83L4 21.41c.39.39.9.59 1.41.59.51 0 1.02-.2 1.41-.59l7.78-7.78 2.81-2.81c.8-.78.8-2.07 0-2.86zM5.41 20L4 18.59l7.72-7.72 1.47 1.35L5.41 20z\"/>\n",
              "  </svg>\n",
              "      </button>\n",
              "\n",
              "\n",
              "\n",
              "    <div id=\"df-1906f549-6157-4864-a7e5-b6d79c4f31f1\">\n",
              "      <button class=\"colab-df-quickchart\" onclick=\"quickchart('df-1906f549-6157-4864-a7e5-b6d79c4f31f1')\"\n",
              "              title=\"Suggest charts.\"\n",
              "              style=\"display:none;\">\n",
              "\n",
              "<svg xmlns=\"http://www.w3.org/2000/svg\" height=\"24px\"viewBox=\"0 0 24 24\"\n",
              "     width=\"24px\">\n",
              "    <g>\n",
              "        <path d=\"M19 3H5c-1.1 0-2 .9-2 2v14c0 1.1.9 2 2 2h14c1.1 0 2-.9 2-2V5c0-1.1-.9-2-2-2zM9 17H7v-7h2v7zm4 0h-2V7h2v10zm4 0h-2v-4h2v4z\"/>\n",
              "    </g>\n",
              "</svg>\n",
              "      </button>\n",
              "    </div>\n",
              "\n",
              "<style>\n",
              "  .colab-df-quickchart {\n",
              "    background-color: #E8F0FE;\n",
              "    border: none;\n",
              "    border-radius: 50%;\n",
              "    cursor: pointer;\n",
              "    display: none;\n",
              "    fill: #1967D2;\n",
              "    height: 32px;\n",
              "    padding: 0 0 0 0;\n",
              "    width: 32px;\n",
              "  }\n",
              "\n",
              "  .colab-df-quickchart:hover {\n",
              "    background-color: #E2EBFA;\n",
              "    box-shadow: 0px 1px 2px rgba(60, 64, 67, 0.3), 0px 1px 3px 1px rgba(60, 64, 67, 0.15);\n",
              "    fill: #174EA6;\n",
              "  }\n",
              "\n",
              "  [theme=dark] .colab-df-quickchart {\n",
              "    background-color: #3B4455;\n",
              "    fill: #D2E3FC;\n",
              "  }\n",
              "\n",
              "  [theme=dark] .colab-df-quickchart:hover {\n",
              "    background-color: #434B5C;\n",
              "    box-shadow: 0px 1px 3px 1px rgba(0, 0, 0, 0.15);\n",
              "    filter: drop-shadow(0px 1px 2px rgba(0, 0, 0, 0.3));\n",
              "    fill: #FFFFFF;\n",
              "  }\n",
              "</style>\n",
              "\n",
              "    <script>\n",
              "      async function quickchart(key) {\n",
              "        const containerElement = document.querySelector('#' + key);\n",
              "        const charts = await google.colab.kernel.invokeFunction(\n",
              "            'suggestCharts', [key], {});\n",
              "      }\n",
              "    </script>\n",
              "\n",
              "      <script>\n",
              "\n",
              "function displayQuickchartButton(domScope) {\n",
              "  let quickchartButtonEl =\n",
              "    domScope.querySelector('#df-1906f549-6157-4864-a7e5-b6d79c4f31f1 button.colab-df-quickchart');\n",
              "  quickchartButtonEl.style.display =\n",
              "    google.colab.kernel.accessAllowed ? 'block' : 'none';\n",
              "}\n",
              "\n",
              "        displayQuickchartButton(document);\n",
              "      </script>\n",
              "      <style>\n",
              "    .colab-df-container {\n",
              "      display:flex;\n",
              "      flex-wrap:wrap;\n",
              "      gap: 12px;\n",
              "    }\n",
              "\n",
              "    .colab-df-convert {\n",
              "      background-color: #E8F0FE;\n",
              "      border: none;\n",
              "      border-radius: 50%;\n",
              "      cursor: pointer;\n",
              "      display: none;\n",
              "      fill: #1967D2;\n",
              "      height: 32px;\n",
              "      padding: 0 0 0 0;\n",
              "      width: 32px;\n",
              "    }\n",
              "\n",
              "    .colab-df-convert:hover {\n",
              "      background-color: #E2EBFA;\n",
              "      box-shadow: 0px 1px 2px rgba(60, 64, 67, 0.3), 0px 1px 3px 1px rgba(60, 64, 67, 0.15);\n",
              "      fill: #174EA6;\n",
              "    }\n",
              "\n",
              "    [theme=dark] .colab-df-convert {\n",
              "      background-color: #3B4455;\n",
              "      fill: #D2E3FC;\n",
              "    }\n",
              "\n",
              "    [theme=dark] .colab-df-convert:hover {\n",
              "      background-color: #434B5C;\n",
              "      box-shadow: 0px 1px 3px 1px rgba(0, 0, 0, 0.15);\n",
              "      filter: drop-shadow(0px 1px 2px rgba(0, 0, 0, 0.3));\n",
              "      fill: #FFFFFF;\n",
              "    }\n",
              "  </style>\n",
              "\n",
              "      <script>\n",
              "        const buttonEl =\n",
              "          document.querySelector('#df-07191759-8722-48aa-a122-546302324c3c button.colab-df-convert');\n",
              "        buttonEl.style.display =\n",
              "          google.colab.kernel.accessAllowed ? 'block' : 'none';\n",
              "\n",
              "        async function convertToInteractive(key) {\n",
              "          const element = document.querySelector('#df-07191759-8722-48aa-a122-546302324c3c');\n",
              "          const dataTable =\n",
              "            await google.colab.kernel.invokeFunction('convertToInteractive',\n",
              "                                                     [key], {});\n",
              "          if (!dataTable) return;\n",
              "\n",
              "          const docLinkHtml = 'Like what you see? Visit the ' +\n",
              "            '<a target=\"_blank\" href=https://colab.research.google.com/notebooks/data_table.ipynb>data table notebook</a>'\n",
              "            + ' to learn more about interactive tables.';\n",
              "          element.innerHTML = '';\n",
              "          dataTable['output_type'] = 'display_data';\n",
              "          await google.colab.output.renderOutput(dataTable, element);\n",
              "          const docLink = document.createElement('div');\n",
              "          docLink.innerHTML = docLinkHtml;\n",
              "          element.appendChild(docLink);\n",
              "        }\n",
              "      </script>\n",
              "    </div>\n",
              "  </div>\n"
            ]
          },
          "metadata": {},
          "execution_count": 9
        }
      ]
    },
    {
      "cell_type": "code",
      "source": [
        "# Fetching the bottom 5 rows\n",
        "data.tail()"
      ],
      "metadata": {
        "colab": {
          "base_uri": "https://localhost:8080/",
          "height": 270
        },
        "id": "n5LltDXp7n-V",
        "outputId": "e9bfb0e9-2bc6-47e7-898c-12702178f7b1"
      },
      "execution_count": 10,
      "outputs": [
        {
          "output_type": "execute_result",
          "data": {
            "text/plain": [
              "       age           job   marital education_qual  call_type  day  mon   dur  \\\n",
              "45206   51    technician   married       tertiary   cellular   17  nov   977   \n",
              "45207   71       retired  divorced        primary   cellular   17  nov   456   \n",
              "45208   72       retired   married      secondary   cellular   17  nov  1127   \n",
              "45209   57   blue-collar   married      secondary  telephone   17  nov   508   \n",
              "45210   37  entrepreneur   married      secondary   cellular   17  nov   361   \n",
              "\n",
              "       num_calls prev_outcome    y  \n",
              "45206          3      unknown  yes  \n",
              "45207          2      unknown  yes  \n",
              "45208          5      success  yes  \n",
              "45209          4      unknown   no  \n",
              "45210          2        other   no  "
            ],
            "text/html": [
              "\n",
              "\n",
              "  <div id=\"df-a0653ef4-5349-4c1f-8210-d2329574bd98\">\n",
              "    <div class=\"colab-df-container\">\n",
              "      <div>\n",
              "<style scoped>\n",
              "    .dataframe tbody tr th:only-of-type {\n",
              "        vertical-align: middle;\n",
              "    }\n",
              "\n",
              "    .dataframe tbody tr th {\n",
              "        vertical-align: top;\n",
              "    }\n",
              "\n",
              "    .dataframe thead th {\n",
              "        text-align: right;\n",
              "    }\n",
              "</style>\n",
              "<table border=\"1\" class=\"dataframe\">\n",
              "  <thead>\n",
              "    <tr style=\"text-align: right;\">\n",
              "      <th></th>\n",
              "      <th>age</th>\n",
              "      <th>job</th>\n",
              "      <th>marital</th>\n",
              "      <th>education_qual</th>\n",
              "      <th>call_type</th>\n",
              "      <th>day</th>\n",
              "      <th>mon</th>\n",
              "      <th>dur</th>\n",
              "      <th>num_calls</th>\n",
              "      <th>prev_outcome</th>\n",
              "      <th>y</th>\n",
              "    </tr>\n",
              "  </thead>\n",
              "  <tbody>\n",
              "    <tr>\n",
              "      <th>45206</th>\n",
              "      <td>51</td>\n",
              "      <td>technician</td>\n",
              "      <td>married</td>\n",
              "      <td>tertiary</td>\n",
              "      <td>cellular</td>\n",
              "      <td>17</td>\n",
              "      <td>nov</td>\n",
              "      <td>977</td>\n",
              "      <td>3</td>\n",
              "      <td>unknown</td>\n",
              "      <td>yes</td>\n",
              "    </tr>\n",
              "    <tr>\n",
              "      <th>45207</th>\n",
              "      <td>71</td>\n",
              "      <td>retired</td>\n",
              "      <td>divorced</td>\n",
              "      <td>primary</td>\n",
              "      <td>cellular</td>\n",
              "      <td>17</td>\n",
              "      <td>nov</td>\n",
              "      <td>456</td>\n",
              "      <td>2</td>\n",
              "      <td>unknown</td>\n",
              "      <td>yes</td>\n",
              "    </tr>\n",
              "    <tr>\n",
              "      <th>45208</th>\n",
              "      <td>72</td>\n",
              "      <td>retired</td>\n",
              "      <td>married</td>\n",
              "      <td>secondary</td>\n",
              "      <td>cellular</td>\n",
              "      <td>17</td>\n",
              "      <td>nov</td>\n",
              "      <td>1127</td>\n",
              "      <td>5</td>\n",
              "      <td>success</td>\n",
              "      <td>yes</td>\n",
              "    </tr>\n",
              "    <tr>\n",
              "      <th>45209</th>\n",
              "      <td>57</td>\n",
              "      <td>blue-collar</td>\n",
              "      <td>married</td>\n",
              "      <td>secondary</td>\n",
              "      <td>telephone</td>\n",
              "      <td>17</td>\n",
              "      <td>nov</td>\n",
              "      <td>508</td>\n",
              "      <td>4</td>\n",
              "      <td>unknown</td>\n",
              "      <td>no</td>\n",
              "    </tr>\n",
              "    <tr>\n",
              "      <th>45210</th>\n",
              "      <td>37</td>\n",
              "      <td>entrepreneur</td>\n",
              "      <td>married</td>\n",
              "      <td>secondary</td>\n",
              "      <td>cellular</td>\n",
              "      <td>17</td>\n",
              "      <td>nov</td>\n",
              "      <td>361</td>\n",
              "      <td>2</td>\n",
              "      <td>other</td>\n",
              "      <td>no</td>\n",
              "    </tr>\n",
              "  </tbody>\n",
              "</table>\n",
              "</div>\n",
              "      <button class=\"colab-df-convert\" onclick=\"convertToInteractive('df-a0653ef4-5349-4c1f-8210-d2329574bd98')\"\n",
              "              title=\"Convert this dataframe to an interactive table.\"\n",
              "              style=\"display:none;\">\n",
              "\n",
              "  <svg xmlns=\"http://www.w3.org/2000/svg\" height=\"24px\"viewBox=\"0 0 24 24\"\n",
              "       width=\"24px\">\n",
              "    <path d=\"M0 0h24v24H0V0z\" fill=\"none\"/>\n",
              "    <path d=\"M18.56 5.44l.94 2.06.94-2.06 2.06-.94-2.06-.94-.94-2.06-.94 2.06-2.06.94zm-11 1L8.5 8.5l.94-2.06 2.06-.94-2.06-.94L8.5 2.5l-.94 2.06-2.06.94zm10 10l.94 2.06.94-2.06 2.06-.94-2.06-.94-.94-2.06-.94 2.06-2.06.94z\"/><path d=\"M17.41 7.96l-1.37-1.37c-.4-.4-.92-.59-1.43-.59-.52 0-1.04.2-1.43.59L10.3 9.45l-7.72 7.72c-.78.78-.78 2.05 0 2.83L4 21.41c.39.39.9.59 1.41.59.51 0 1.02-.2 1.41-.59l7.78-7.78 2.81-2.81c.8-.78.8-2.07 0-2.86zM5.41 20L4 18.59l7.72-7.72 1.47 1.35L5.41 20z\"/>\n",
              "  </svg>\n",
              "      </button>\n",
              "\n",
              "\n",
              "\n",
              "    <div id=\"df-97e2919c-5333-4113-8b7e-20644f0d570c\">\n",
              "      <button class=\"colab-df-quickchart\" onclick=\"quickchart('df-97e2919c-5333-4113-8b7e-20644f0d570c')\"\n",
              "              title=\"Suggest charts.\"\n",
              "              style=\"display:none;\">\n",
              "\n",
              "<svg xmlns=\"http://www.w3.org/2000/svg\" height=\"24px\"viewBox=\"0 0 24 24\"\n",
              "     width=\"24px\">\n",
              "    <g>\n",
              "        <path d=\"M19 3H5c-1.1 0-2 .9-2 2v14c0 1.1.9 2 2 2h14c1.1 0 2-.9 2-2V5c0-1.1-.9-2-2-2zM9 17H7v-7h2v7zm4 0h-2V7h2v10zm4 0h-2v-4h2v4z\"/>\n",
              "    </g>\n",
              "</svg>\n",
              "      </button>\n",
              "    </div>\n",
              "\n",
              "<style>\n",
              "  .colab-df-quickchart {\n",
              "    background-color: #E8F0FE;\n",
              "    border: none;\n",
              "    border-radius: 50%;\n",
              "    cursor: pointer;\n",
              "    display: none;\n",
              "    fill: #1967D2;\n",
              "    height: 32px;\n",
              "    padding: 0 0 0 0;\n",
              "    width: 32px;\n",
              "  }\n",
              "\n",
              "  .colab-df-quickchart:hover {\n",
              "    background-color: #E2EBFA;\n",
              "    box-shadow: 0px 1px 2px rgba(60, 64, 67, 0.3), 0px 1px 3px 1px rgba(60, 64, 67, 0.15);\n",
              "    fill: #174EA6;\n",
              "  }\n",
              "\n",
              "  [theme=dark] .colab-df-quickchart {\n",
              "    background-color: #3B4455;\n",
              "    fill: #D2E3FC;\n",
              "  }\n",
              "\n",
              "  [theme=dark] .colab-df-quickchart:hover {\n",
              "    background-color: #434B5C;\n",
              "    box-shadow: 0px 1px 3px 1px rgba(0, 0, 0, 0.15);\n",
              "    filter: drop-shadow(0px 1px 2px rgba(0, 0, 0, 0.3));\n",
              "    fill: #FFFFFF;\n",
              "  }\n",
              "</style>\n",
              "\n",
              "    <script>\n",
              "      async function quickchart(key) {\n",
              "        const containerElement = document.querySelector('#' + key);\n",
              "        const charts = await google.colab.kernel.invokeFunction(\n",
              "            'suggestCharts', [key], {});\n",
              "      }\n",
              "    </script>\n",
              "\n",
              "      <script>\n",
              "\n",
              "function displayQuickchartButton(domScope) {\n",
              "  let quickchartButtonEl =\n",
              "    domScope.querySelector('#df-97e2919c-5333-4113-8b7e-20644f0d570c button.colab-df-quickchart');\n",
              "  quickchartButtonEl.style.display =\n",
              "    google.colab.kernel.accessAllowed ? 'block' : 'none';\n",
              "}\n",
              "\n",
              "        displayQuickchartButton(document);\n",
              "      </script>\n",
              "      <style>\n",
              "    .colab-df-container {\n",
              "      display:flex;\n",
              "      flex-wrap:wrap;\n",
              "      gap: 12px;\n",
              "    }\n",
              "\n",
              "    .colab-df-convert {\n",
              "      background-color: #E8F0FE;\n",
              "      border: none;\n",
              "      border-radius: 50%;\n",
              "      cursor: pointer;\n",
              "      display: none;\n",
              "      fill: #1967D2;\n",
              "      height: 32px;\n",
              "      padding: 0 0 0 0;\n",
              "      width: 32px;\n",
              "    }\n",
              "\n",
              "    .colab-df-convert:hover {\n",
              "      background-color: #E2EBFA;\n",
              "      box-shadow: 0px 1px 2px rgba(60, 64, 67, 0.3), 0px 1px 3px 1px rgba(60, 64, 67, 0.15);\n",
              "      fill: #174EA6;\n",
              "    }\n",
              "\n",
              "    [theme=dark] .colab-df-convert {\n",
              "      background-color: #3B4455;\n",
              "      fill: #D2E3FC;\n",
              "    }\n",
              "\n",
              "    [theme=dark] .colab-df-convert:hover {\n",
              "      background-color: #434B5C;\n",
              "      box-shadow: 0px 1px 3px 1px rgba(0, 0, 0, 0.15);\n",
              "      filter: drop-shadow(0px 1px 2px rgba(0, 0, 0, 0.3));\n",
              "      fill: #FFFFFF;\n",
              "    }\n",
              "  </style>\n",
              "\n",
              "      <script>\n",
              "        const buttonEl =\n",
              "          document.querySelector('#df-a0653ef4-5349-4c1f-8210-d2329574bd98 button.colab-df-convert');\n",
              "        buttonEl.style.display =\n",
              "          google.colab.kernel.accessAllowed ? 'block' : 'none';\n",
              "\n",
              "        async function convertToInteractive(key) {\n",
              "          const element = document.querySelector('#df-a0653ef4-5349-4c1f-8210-d2329574bd98');\n",
              "          const dataTable =\n",
              "            await google.colab.kernel.invokeFunction('convertToInteractive',\n",
              "                                                     [key], {});\n",
              "          if (!dataTable) return;\n",
              "\n",
              "          const docLinkHtml = 'Like what you see? Visit the ' +\n",
              "            '<a target=\"_blank\" href=https://colab.research.google.com/notebooks/data_table.ipynb>data table notebook</a>'\n",
              "            + ' to learn more about interactive tables.';\n",
              "          element.innerHTML = '';\n",
              "          dataTable['output_type'] = 'display_data';\n",
              "          await google.colab.output.renderOutput(dataTable, element);\n",
              "          const docLink = document.createElement('div');\n",
              "          docLink.innerHTML = docLinkHtml;\n",
              "          element.appendChild(docLink);\n",
              "        }\n",
              "      </script>\n",
              "    </div>\n",
              "  </div>\n"
            ]
          },
          "metadata": {},
          "execution_count": 10
        }
      ]
    },
    {
      "cell_type": "code",
      "source": [
        "# Getting the basic info of the dataset\n",
        "data.info()"
      ],
      "metadata": {
        "colab": {
          "base_uri": "https://localhost:8080/"
        },
        "id": "0rOl2ar17oAK",
        "outputId": "899ebc28-b1d4-471d-9905-98c440315472"
      },
      "execution_count": 11,
      "outputs": [
        {
          "output_type": "stream",
          "name": "stdout",
          "text": [
            "<class 'pandas.core.frame.DataFrame'>\n",
            "RangeIndex: 45211 entries, 0 to 45210\n",
            "Data columns (total 11 columns):\n",
            " #   Column          Non-Null Count  Dtype \n",
            "---  ------          --------------  ----- \n",
            " 0   age             45211 non-null  int64 \n",
            " 1   job             45211 non-null  object\n",
            " 2   marital         45211 non-null  object\n",
            " 3   education_qual  45211 non-null  object\n",
            " 4   call_type       45211 non-null  object\n",
            " 5   day             45211 non-null  int64 \n",
            " 6   mon             45211 non-null  object\n",
            " 7   dur             45211 non-null  int64 \n",
            " 8   num_calls       45211 non-null  int64 \n",
            " 9   prev_outcome    45211 non-null  object\n",
            " 10  y               45211 non-null  object\n",
            "dtypes: int64(4), object(7)\n",
            "memory usage: 3.8+ MB\n"
          ]
        }
      ]
    },
    {
      "cell_type": "code",
      "source": [
        "# Finding Column Names\n",
        "data.columns"
      ],
      "metadata": {
        "colab": {
          "base_uri": "https://localhost:8080/"
        },
        "id": "b__ozJMC7oCN",
        "outputId": "dba515f0-daa9-4859-e1cb-094b054da70d"
      },
      "execution_count": 12,
      "outputs": [
        {
          "output_type": "execute_result",
          "data": {
            "text/plain": [
              "Index(['age', 'job', 'marital', 'education_qual', 'call_type', 'day', 'mon',\n",
              "       'dur', 'num_calls', 'prev_outcome', 'y'],\n",
              "      dtype='object')"
            ]
          },
          "metadata": {},
          "execution_count": 12
        }
      ]
    },
    {
      "cell_type": "markdown",
      "source": [
        "# **Finding Unique values of each** **column**"
      ],
      "metadata": {
        "id": "y-Zug11j9o5w"
      }
    },
    {
      "cell_type": "code",
      "source": [
        "for i in data.columns:\n",
        "  print(i)\n",
        "  print(data[i].unique())"
      ],
      "metadata": {
        "colab": {
          "base_uri": "https://localhost:8080/"
        },
        "id": "4Y0EFF2r7oEN",
        "outputId": "394d48c6-acee-4917-856e-ac719804b874"
      },
      "execution_count": 13,
      "outputs": [
        {
          "output_type": "stream",
          "name": "stdout",
          "text": [
            "age\n",
            "[58 44 33 47 35 28 42 43 41 29 53 57 51 45 60 56 32 25 40 39 52 46 36 49\n",
            " 59 37 50 54 55 48 24 38 31 30 27 34 23 26 61 22 21 20 66 62 83 75 67 70\n",
            " 65 68 64 69 72 71 19 76 85 63 90 82 73 74 78 80 94 79 77 86 95 81 18 89\n",
            " 84 87 92 93 88]\n",
            "job\n",
            "['management' 'technician' 'entrepreneur' 'blue-collar' 'unknown'\n",
            " 'retired' 'admin.' 'services' 'self-employed' 'unemployed' 'housemaid'\n",
            " 'student']\n",
            "marital\n",
            "['married' 'single' 'divorced']\n",
            "education_qual\n",
            "['tertiary' 'secondary' 'unknown' 'primary']\n",
            "call_type\n",
            "['unknown' 'cellular' 'telephone']\n",
            "day\n",
            "[ 5  6  7  8  9 12 13 14 15 16 19 20 21 23 26 27 28 29 30  2  3  4 11 17\n",
            " 18 24 25  1 10 22 31]\n",
            "mon\n",
            "['may' 'jun' 'jul' 'aug' 'oct' 'nov' 'dec' 'jan' 'feb' 'mar' 'apr' 'sep']\n",
            "dur\n",
            "[ 261  151   76 ... 1298 1246 1556]\n",
            "num_calls\n",
            "[ 1  2  3  5  4  6  7  8  9 10 11 12 13 19 14 24 16 32 18 22 15 17 25 21\n",
            " 43 51 63 41 26 28 55 50 38 23 20 29 31 37 30 46 27 58 33 35 34 36 39 44]\n",
            "prev_outcome\n",
            "['unknown' 'failure' 'other' 'success']\n",
            "y\n",
            "['no' 'yes']\n"
          ]
        }
      ]
    },
    {
      "cell_type": "markdown",
      "source": [
        "We can see from above result that all values are unique meaning there are no no incorrect or wrong data that is spelling mistake, upper case and lower case mismatch of each values."
      ],
      "metadata": {
        "id": "1rmbjvGp9x7j"
      }
    },
    {
      "cell_type": "code",
      "source": [
        "# Identifing integer columns\n",
        "number = data.select_dtypes(include=[np.number])\n",
        "number.columns"
      ],
      "metadata": {
        "colab": {
          "base_uri": "https://localhost:8080/"
        },
        "id": "j7vZ0bKP7oF7",
        "outputId": "c7abaf26-0601-4d52-9d75-688f23f9e37a"
      },
      "execution_count": 14,
      "outputs": [
        {
          "output_type": "execute_result",
          "data": {
            "text/plain": [
              "Index(['age', 'day', 'dur', 'num_calls'], dtype='object')"
            ]
          },
          "metadata": {},
          "execution_count": 14
        }
      ]
    },
    {
      "cell_type": "code",
      "source": [
        "# Identifing category columns\n",
        "string = data.select_dtypes(include=['object']).columns\n",
        "string"
      ],
      "metadata": {
        "colab": {
          "base_uri": "https://localhost:8080/"
        },
        "id": "YQD-GAc-7oHx",
        "outputId": "03bedd12-708f-4773-f4cd-193bff7a5a77"
      },
      "execution_count": 15,
      "outputs": [
        {
          "output_type": "execute_result",
          "data": {
            "text/plain": [
              "Index(['job', 'marital', 'education_qual', 'call_type', 'mon', 'prev_outcome',\n",
              "       'y'],\n",
              "      dtype='object')"
            ]
          },
          "metadata": {},
          "execution_count": 15
        }
      ]
    },
    {
      "cell_type": "code",
      "source": [
        "# Checking for correct datatypes\n",
        "data.dtypes"
      ],
      "metadata": {
        "colab": {
          "base_uri": "https://localhost:8080/"
        },
        "id": "sbYhad7F7oKS",
        "outputId": "14d4767e-6999-469c-b869-66b2c96ab056"
      },
      "execution_count": 16,
      "outputs": [
        {
          "output_type": "execute_result",
          "data": {
            "text/plain": [
              "age                int64\n",
              "job               object\n",
              "marital           object\n",
              "education_qual    object\n",
              "call_type         object\n",
              "day                int64\n",
              "mon               object\n",
              "dur                int64\n",
              "num_calls          int64\n",
              "prev_outcome      object\n",
              "y                 object\n",
              "dtype: object"
            ]
          },
          "metadata": {},
          "execution_count": 16
        }
      ]
    },
    {
      "cell_type": "code",
      "source": [
        "# checking the unknown priority\n",
        "data.job.value_counts()"
      ],
      "metadata": {
        "colab": {
          "base_uri": "https://localhost:8080/"
        },
        "id": "OQUeUQVL7oMS",
        "outputId": "f4281279-ca54-4dd2-e745-30129808e6d5"
      },
      "execution_count": 17,
      "outputs": [
        {
          "output_type": "execute_result",
          "data": {
            "text/plain": [
              "blue-collar      9732\n",
              "management       9458\n",
              "technician       7597\n",
              "admin.           5171\n",
              "services         4154\n",
              "retired          2264\n",
              "self-employed    1579\n",
              "entrepreneur     1487\n",
              "unemployed       1303\n",
              "housemaid        1240\n",
              "student           938\n",
              "unknown           288\n",
              "Name: job, dtype: int64"
            ]
          },
          "metadata": {},
          "execution_count": 17
        }
      ]
    },
    {
      "cell_type": "code",
      "source": [
        " # Replacing the unknown values\n",
        "data.job = data.job.str.replace(\"unknown\",\"blue-collar\")"
      ],
      "metadata": {
        "id": "KWRi7nlh7oOY"
      },
      "execution_count": 18,
      "outputs": []
    },
    {
      "cell_type": "code",
      "source": [
        "# Checking the unknown has been replaced or not\n",
        "data.job.value_counts()"
      ],
      "metadata": {
        "colab": {
          "base_uri": "https://localhost:8080/"
        },
        "id": "AFe97yRV7oQm",
        "outputId": "a8cd42f6-06a3-44e3-95a8-f02bce5e7467"
      },
      "execution_count": 19,
      "outputs": [
        {
          "output_type": "execute_result",
          "data": {
            "text/plain": [
              "blue-collar      10020\n",
              "management        9458\n",
              "technician        7597\n",
              "admin.            5171\n",
              "services          4154\n",
              "retired           2264\n",
              "self-employed     1579\n",
              "entrepreneur      1487\n",
              "unemployed        1303\n",
              "housemaid         1240\n",
              "student            938\n",
              "Name: job, dtype: int64"
            ]
          },
          "metadata": {},
          "execution_count": 19
        }
      ]
    },
    {
      "cell_type": "code",
      "source": [
        "# Checking for unknown priority\n",
        "data.education_qual.value_counts()"
      ],
      "metadata": {
        "colab": {
          "base_uri": "https://localhost:8080/"
        },
        "id": "mo-1iZxu7oSy",
        "outputId": "2ba31c39-5490-4a4d-c132-53159a5b014a"
      },
      "execution_count": 20,
      "outputs": [
        {
          "output_type": "execute_result",
          "data": {
            "text/plain": [
              "secondary    23202\n",
              "tertiary     13301\n",
              "primary       6851\n",
              "unknown       1857\n",
              "Name: education_qual, dtype: int64"
            ]
          },
          "metadata": {},
          "execution_count": 20
        }
      ]
    },
    {
      "cell_type": "code",
      "source": [
        "# Replacing the unknown values\n",
        "data.education_qual = data.education_qual.str.replace(\"unknown\",\"secondary\")"
      ],
      "metadata": {
        "id": "zX70a8x27oUw"
      },
      "execution_count": 21,
      "outputs": []
    },
    {
      "cell_type": "code",
      "source": [
        "# Checking for the unknown value replaced or not\n",
        "data.education_qual.value_counts()"
      ],
      "metadata": {
        "colab": {
          "base_uri": "https://localhost:8080/"
        },
        "id": "xiUOBCzT7oWp",
        "outputId": "8cd0459a-5c86-41a9-e60a-b246f58cf82d"
      },
      "execution_count": 22,
      "outputs": [
        {
          "output_type": "execute_result",
          "data": {
            "text/plain": [
              "secondary    25059\n",
              "tertiary     13301\n",
              "primary       6851\n",
              "Name: education_qual, dtype: int64"
            ]
          },
          "metadata": {},
          "execution_count": 22
        }
      ]
    },
    {
      "cell_type": "code",
      "source": [
        "# Unknown value is large so it is defined as a category\n",
        "data.call_type.value_counts()"
      ],
      "metadata": {
        "colab": {
          "base_uri": "https://localhost:8080/"
        },
        "id": "nogAGpst7oYr",
        "outputId": "c1cdd1e8-41dc-4597-dd43-12b4e01ee3cd"
      },
      "execution_count": 23,
      "outputs": [
        {
          "output_type": "execute_result",
          "data": {
            "text/plain": [
              "cellular     29285\n",
              "unknown      13020\n",
              "telephone     2906\n",
              "Name: call_type, dtype: int64"
            ]
          },
          "metadata": {},
          "execution_count": 23
        }
      ]
    },
    {
      "cell_type": "code",
      "source": [
        "# Unknown value is large so it is defined as a category\n",
        "data.prev_outcome.value_counts()"
      ],
      "metadata": {
        "colab": {
          "base_uri": "https://localhost:8080/"
        },
        "id": "Ok-zEyHT7obD",
        "outputId": "1d37bc4a-8092-47df-d23a-fd9e3c0e721d"
      },
      "execution_count": 24,
      "outputs": [
        {
          "output_type": "execute_result",
          "data": {
            "text/plain": [
              "unknown    36959\n",
              "failure     4901\n",
              "other       1840\n",
              "success     1511\n",
              "Name: prev_outcome, dtype: int64"
            ]
          },
          "metadata": {},
          "execution_count": 24
        }
      ]
    },
    {
      "cell_type": "markdown",
      "source": [
        "# **Balanced/Imbalanced**"
      ],
      "metadata": {
        "id": "U3KRdKRv_Gyk"
      }
    },
    {
      "cell_type": "code",
      "source": [
        "# checking whether the data is balanced or not\n",
        "data['y'].value_counts()"
      ],
      "metadata": {
        "colab": {
          "base_uri": "https://localhost:8080/"
        },
        "id": "YEaQbDmd7odH",
        "outputId": "aa123f47-a632-47ef-a038-0ca7ab4bc819"
      },
      "execution_count": 25,
      "outputs": [
        {
          "output_type": "execute_result",
          "data": {
            "text/plain": [
              "no     39922\n",
              "yes     5289\n",
              "Name: y, dtype: int64"
            ]
          },
          "metadata": {},
          "execution_count": 25
        }
      ]
    },
    {
      "cell_type": "markdown",
      "source": [
        "As we can see that the dataset is imbalanced from the above result."
      ],
      "metadata": {
        "id": "fx8KweWx_6PL"
      }
    },
    {
      "cell_type": "code",
      "source": [
        "# Find the sum of y variable\n",
        "d = pd.Series({'no': 39922, 'yes': 5289})\n",
        "total = d.sum()\n",
        "\n",
        "print(total)\n",
        "\n",
        "# Finding the percentage of the data\n",
        "print('Percentage for \"no\": ',((39922) / (39922+5289)) * 100 )\n",
        "print('Percentage for \"yes\": ',((5289) / (39922+5289)) * 100 )"
      ],
      "metadata": {
        "colab": {
          "base_uri": "https://localhost:8080/"
        },
        "id": "Ihi5GbF87ofE",
        "outputId": "3c657e90-268b-4f6d-bd22-d8b9059310aa"
      },
      "execution_count": 26,
      "outputs": [
        {
          "output_type": "stream",
          "name": "stdout",
          "text": [
            "45211\n",
            "Percentage for \"no\":  88.30151954170445\n",
            "Percentage for \"yes\":  11.698480458295547\n"
          ]
        }
      ]
    },
    {
      "cell_type": "markdown",
      "source": [
        "We can see the percentage for no being very high so the Majority class is \"no\" with 88.29% and Minority class is \"yes\" with 11.7%"
      ],
      "metadata": {
        "id": "fPM4-lZt_75q"
      }
    },
    {
      "cell_type": "markdown",
      "source": [
        "# **Exploration** **of** **the** **dataset**"
      ],
      "metadata": {
        "id": "QGcsy2UFAX2F"
      }
    },
    {
      "cell_type": "code",
      "source": [
        "# Converting catergorical target column into numerical\n",
        "data['y'] = data[\"y\"].map({\"yes\":1 , \"no\": 0})"
      ],
      "metadata": {
        "id": "gBj10aDQ7ohG"
      },
      "execution_count": 27,
      "outputs": []
    },
    {
      "cell_type": "code",
      "source": [
        "# Checking the target values are converted into numerical values or not\n",
        "data"
      ],
      "metadata": {
        "colab": {
          "base_uri": "https://localhost:8080/",
          "height": 487
        },
        "id": "z8T6-ZsP7ojW",
        "outputId": "ca44ce14-b33e-4f85-8b80-1ec2c53bb51a"
      },
      "execution_count": 28,
      "outputs": [
        {
          "output_type": "execute_result",
          "data": {
            "text/plain": [
              "       age           job   marital education_qual  call_type  day  mon   dur  \\\n",
              "0       58    management   married       tertiary    unknown    5  may   261   \n",
              "1       44    technician    single      secondary    unknown    5  may   151   \n",
              "2       33  entrepreneur   married      secondary    unknown    5  may    76   \n",
              "3       47   blue-collar   married      secondary    unknown    5  may    92   \n",
              "4       33   blue-collar    single      secondary    unknown    5  may   198   \n",
              "...    ...           ...       ...            ...        ...  ...  ...   ...   \n",
              "45206   51    technician   married       tertiary   cellular   17  nov   977   \n",
              "45207   71       retired  divorced        primary   cellular   17  nov   456   \n",
              "45208   72       retired   married      secondary   cellular   17  nov  1127   \n",
              "45209   57   blue-collar   married      secondary  telephone   17  nov   508   \n",
              "45210   37  entrepreneur   married      secondary   cellular   17  nov   361   \n",
              "\n",
              "       num_calls prev_outcome  y  \n",
              "0              1      unknown  0  \n",
              "1              1      unknown  0  \n",
              "2              1      unknown  0  \n",
              "3              1      unknown  0  \n",
              "4              1      unknown  0  \n",
              "...          ...          ... ..  \n",
              "45206          3      unknown  1  \n",
              "45207          2      unknown  1  \n",
              "45208          5      success  1  \n",
              "45209          4      unknown  0  \n",
              "45210          2        other  0  \n",
              "\n",
              "[45211 rows x 11 columns]"
            ],
            "text/html": [
              "\n",
              "\n",
              "  <div id=\"df-9ca0f57d-ac29-423f-b5b1-f848f3e78573\">\n",
              "    <div class=\"colab-df-container\">\n",
              "      <div>\n",
              "<style scoped>\n",
              "    .dataframe tbody tr th:only-of-type {\n",
              "        vertical-align: middle;\n",
              "    }\n",
              "\n",
              "    .dataframe tbody tr th {\n",
              "        vertical-align: top;\n",
              "    }\n",
              "\n",
              "    .dataframe thead th {\n",
              "        text-align: right;\n",
              "    }\n",
              "</style>\n",
              "<table border=\"1\" class=\"dataframe\">\n",
              "  <thead>\n",
              "    <tr style=\"text-align: right;\">\n",
              "      <th></th>\n",
              "      <th>age</th>\n",
              "      <th>job</th>\n",
              "      <th>marital</th>\n",
              "      <th>education_qual</th>\n",
              "      <th>call_type</th>\n",
              "      <th>day</th>\n",
              "      <th>mon</th>\n",
              "      <th>dur</th>\n",
              "      <th>num_calls</th>\n",
              "      <th>prev_outcome</th>\n",
              "      <th>y</th>\n",
              "    </tr>\n",
              "  </thead>\n",
              "  <tbody>\n",
              "    <tr>\n",
              "      <th>0</th>\n",
              "      <td>58</td>\n",
              "      <td>management</td>\n",
              "      <td>married</td>\n",
              "      <td>tertiary</td>\n",
              "      <td>unknown</td>\n",
              "      <td>5</td>\n",
              "      <td>may</td>\n",
              "      <td>261</td>\n",
              "      <td>1</td>\n",
              "      <td>unknown</td>\n",
              "      <td>0</td>\n",
              "    </tr>\n",
              "    <tr>\n",
              "      <th>1</th>\n",
              "      <td>44</td>\n",
              "      <td>technician</td>\n",
              "      <td>single</td>\n",
              "      <td>secondary</td>\n",
              "      <td>unknown</td>\n",
              "      <td>5</td>\n",
              "      <td>may</td>\n",
              "      <td>151</td>\n",
              "      <td>1</td>\n",
              "      <td>unknown</td>\n",
              "      <td>0</td>\n",
              "    </tr>\n",
              "    <tr>\n",
              "      <th>2</th>\n",
              "      <td>33</td>\n",
              "      <td>entrepreneur</td>\n",
              "      <td>married</td>\n",
              "      <td>secondary</td>\n",
              "      <td>unknown</td>\n",
              "      <td>5</td>\n",
              "      <td>may</td>\n",
              "      <td>76</td>\n",
              "      <td>1</td>\n",
              "      <td>unknown</td>\n",
              "      <td>0</td>\n",
              "    </tr>\n",
              "    <tr>\n",
              "      <th>3</th>\n",
              "      <td>47</td>\n",
              "      <td>blue-collar</td>\n",
              "      <td>married</td>\n",
              "      <td>secondary</td>\n",
              "      <td>unknown</td>\n",
              "      <td>5</td>\n",
              "      <td>may</td>\n",
              "      <td>92</td>\n",
              "      <td>1</td>\n",
              "      <td>unknown</td>\n",
              "      <td>0</td>\n",
              "    </tr>\n",
              "    <tr>\n",
              "      <th>4</th>\n",
              "      <td>33</td>\n",
              "      <td>blue-collar</td>\n",
              "      <td>single</td>\n",
              "      <td>secondary</td>\n",
              "      <td>unknown</td>\n",
              "      <td>5</td>\n",
              "      <td>may</td>\n",
              "      <td>198</td>\n",
              "      <td>1</td>\n",
              "      <td>unknown</td>\n",
              "      <td>0</td>\n",
              "    </tr>\n",
              "    <tr>\n",
              "      <th>...</th>\n",
              "      <td>...</td>\n",
              "      <td>...</td>\n",
              "      <td>...</td>\n",
              "      <td>...</td>\n",
              "      <td>...</td>\n",
              "      <td>...</td>\n",
              "      <td>...</td>\n",
              "      <td>...</td>\n",
              "      <td>...</td>\n",
              "      <td>...</td>\n",
              "      <td>...</td>\n",
              "    </tr>\n",
              "    <tr>\n",
              "      <th>45206</th>\n",
              "      <td>51</td>\n",
              "      <td>technician</td>\n",
              "      <td>married</td>\n",
              "      <td>tertiary</td>\n",
              "      <td>cellular</td>\n",
              "      <td>17</td>\n",
              "      <td>nov</td>\n",
              "      <td>977</td>\n",
              "      <td>3</td>\n",
              "      <td>unknown</td>\n",
              "      <td>1</td>\n",
              "    </tr>\n",
              "    <tr>\n",
              "      <th>45207</th>\n",
              "      <td>71</td>\n",
              "      <td>retired</td>\n",
              "      <td>divorced</td>\n",
              "      <td>primary</td>\n",
              "      <td>cellular</td>\n",
              "      <td>17</td>\n",
              "      <td>nov</td>\n",
              "      <td>456</td>\n",
              "      <td>2</td>\n",
              "      <td>unknown</td>\n",
              "      <td>1</td>\n",
              "    </tr>\n",
              "    <tr>\n",
              "      <th>45208</th>\n",
              "      <td>72</td>\n",
              "      <td>retired</td>\n",
              "      <td>married</td>\n",
              "      <td>secondary</td>\n",
              "      <td>cellular</td>\n",
              "      <td>17</td>\n",
              "      <td>nov</td>\n",
              "      <td>1127</td>\n",
              "      <td>5</td>\n",
              "      <td>success</td>\n",
              "      <td>1</td>\n",
              "    </tr>\n",
              "    <tr>\n",
              "      <th>45209</th>\n",
              "      <td>57</td>\n",
              "      <td>blue-collar</td>\n",
              "      <td>married</td>\n",
              "      <td>secondary</td>\n",
              "      <td>telephone</td>\n",
              "      <td>17</td>\n",
              "      <td>nov</td>\n",
              "      <td>508</td>\n",
              "      <td>4</td>\n",
              "      <td>unknown</td>\n",
              "      <td>0</td>\n",
              "    </tr>\n",
              "    <tr>\n",
              "      <th>45210</th>\n",
              "      <td>37</td>\n",
              "      <td>entrepreneur</td>\n",
              "      <td>married</td>\n",
              "      <td>secondary</td>\n",
              "      <td>cellular</td>\n",
              "      <td>17</td>\n",
              "      <td>nov</td>\n",
              "      <td>361</td>\n",
              "      <td>2</td>\n",
              "      <td>other</td>\n",
              "      <td>0</td>\n",
              "    </tr>\n",
              "  </tbody>\n",
              "</table>\n",
              "<p>45211 rows × 11 columns</p>\n",
              "</div>\n",
              "      <button class=\"colab-df-convert\" onclick=\"convertToInteractive('df-9ca0f57d-ac29-423f-b5b1-f848f3e78573')\"\n",
              "              title=\"Convert this dataframe to an interactive table.\"\n",
              "              style=\"display:none;\">\n",
              "\n",
              "  <svg xmlns=\"http://www.w3.org/2000/svg\" height=\"24px\"viewBox=\"0 0 24 24\"\n",
              "       width=\"24px\">\n",
              "    <path d=\"M0 0h24v24H0V0z\" fill=\"none\"/>\n",
              "    <path d=\"M18.56 5.44l.94 2.06.94-2.06 2.06-.94-2.06-.94-.94-2.06-.94 2.06-2.06.94zm-11 1L8.5 8.5l.94-2.06 2.06-.94-2.06-.94L8.5 2.5l-.94 2.06-2.06.94zm10 10l.94 2.06.94-2.06 2.06-.94-2.06-.94-.94-2.06-.94 2.06-2.06.94z\"/><path d=\"M17.41 7.96l-1.37-1.37c-.4-.4-.92-.59-1.43-.59-.52 0-1.04.2-1.43.59L10.3 9.45l-7.72 7.72c-.78.78-.78 2.05 0 2.83L4 21.41c.39.39.9.59 1.41.59.51 0 1.02-.2 1.41-.59l7.78-7.78 2.81-2.81c.8-.78.8-2.07 0-2.86zM5.41 20L4 18.59l7.72-7.72 1.47 1.35L5.41 20z\"/>\n",
              "  </svg>\n",
              "      </button>\n",
              "\n",
              "\n",
              "\n",
              "    <div id=\"df-991c9a40-571e-416b-9010-de7287378d8c\">\n",
              "      <button class=\"colab-df-quickchart\" onclick=\"quickchart('df-991c9a40-571e-416b-9010-de7287378d8c')\"\n",
              "              title=\"Suggest charts.\"\n",
              "              style=\"display:none;\">\n",
              "\n",
              "<svg xmlns=\"http://www.w3.org/2000/svg\" height=\"24px\"viewBox=\"0 0 24 24\"\n",
              "     width=\"24px\">\n",
              "    <g>\n",
              "        <path d=\"M19 3H5c-1.1 0-2 .9-2 2v14c0 1.1.9 2 2 2h14c1.1 0 2-.9 2-2V5c0-1.1-.9-2-2-2zM9 17H7v-7h2v7zm4 0h-2V7h2v10zm4 0h-2v-4h2v4z\"/>\n",
              "    </g>\n",
              "</svg>\n",
              "      </button>\n",
              "    </div>\n",
              "\n",
              "<style>\n",
              "  .colab-df-quickchart {\n",
              "    background-color: #E8F0FE;\n",
              "    border: none;\n",
              "    border-radius: 50%;\n",
              "    cursor: pointer;\n",
              "    display: none;\n",
              "    fill: #1967D2;\n",
              "    height: 32px;\n",
              "    padding: 0 0 0 0;\n",
              "    width: 32px;\n",
              "  }\n",
              "\n",
              "  .colab-df-quickchart:hover {\n",
              "    background-color: #E2EBFA;\n",
              "    box-shadow: 0px 1px 2px rgba(60, 64, 67, 0.3), 0px 1px 3px 1px rgba(60, 64, 67, 0.15);\n",
              "    fill: #174EA6;\n",
              "  }\n",
              "\n",
              "  [theme=dark] .colab-df-quickchart {\n",
              "    background-color: #3B4455;\n",
              "    fill: #D2E3FC;\n",
              "  }\n",
              "\n",
              "  [theme=dark] .colab-df-quickchart:hover {\n",
              "    background-color: #434B5C;\n",
              "    box-shadow: 0px 1px 3px 1px rgba(0, 0, 0, 0.15);\n",
              "    filter: drop-shadow(0px 1px 2px rgba(0, 0, 0, 0.3));\n",
              "    fill: #FFFFFF;\n",
              "  }\n",
              "</style>\n",
              "\n",
              "    <script>\n",
              "      async function quickchart(key) {\n",
              "        const containerElement = document.querySelector('#' + key);\n",
              "        const charts = await google.colab.kernel.invokeFunction(\n",
              "            'suggestCharts', [key], {});\n",
              "      }\n",
              "    </script>\n",
              "\n",
              "      <script>\n",
              "\n",
              "function displayQuickchartButton(domScope) {\n",
              "  let quickchartButtonEl =\n",
              "    domScope.querySelector('#df-991c9a40-571e-416b-9010-de7287378d8c button.colab-df-quickchart');\n",
              "  quickchartButtonEl.style.display =\n",
              "    google.colab.kernel.accessAllowed ? 'block' : 'none';\n",
              "}\n",
              "\n",
              "        displayQuickchartButton(document);\n",
              "      </script>\n",
              "      <style>\n",
              "    .colab-df-container {\n",
              "      display:flex;\n",
              "      flex-wrap:wrap;\n",
              "      gap: 12px;\n",
              "    }\n",
              "\n",
              "    .colab-df-convert {\n",
              "      background-color: #E8F0FE;\n",
              "      border: none;\n",
              "      border-radius: 50%;\n",
              "      cursor: pointer;\n",
              "      display: none;\n",
              "      fill: #1967D2;\n",
              "      height: 32px;\n",
              "      padding: 0 0 0 0;\n",
              "      width: 32px;\n",
              "    }\n",
              "\n",
              "    .colab-df-convert:hover {\n",
              "      background-color: #E2EBFA;\n",
              "      box-shadow: 0px 1px 2px rgba(60, 64, 67, 0.3), 0px 1px 3px 1px rgba(60, 64, 67, 0.15);\n",
              "      fill: #174EA6;\n",
              "    }\n",
              "\n",
              "    [theme=dark] .colab-df-convert {\n",
              "      background-color: #3B4455;\n",
              "      fill: #D2E3FC;\n",
              "    }\n",
              "\n",
              "    [theme=dark] .colab-df-convert:hover {\n",
              "      background-color: #434B5C;\n",
              "      box-shadow: 0px 1px 3px 1px rgba(0, 0, 0, 0.15);\n",
              "      filter: drop-shadow(0px 1px 2px rgba(0, 0, 0, 0.3));\n",
              "      fill: #FFFFFF;\n",
              "    }\n",
              "  </style>\n",
              "\n",
              "      <script>\n",
              "        const buttonEl =\n",
              "          document.querySelector('#df-9ca0f57d-ac29-423f-b5b1-f848f3e78573 button.colab-df-convert');\n",
              "        buttonEl.style.display =\n",
              "          google.colab.kernel.accessAllowed ? 'block' : 'none';\n",
              "\n",
              "        async function convertToInteractive(key) {\n",
              "          const element = document.querySelector('#df-9ca0f57d-ac29-423f-b5b1-f848f3e78573');\n",
              "          const dataTable =\n",
              "            await google.colab.kernel.invokeFunction('convertToInteractive',\n",
              "                                                     [key], {});\n",
              "          if (!dataTable) return;\n",
              "\n",
              "          const docLinkHtml = 'Like what you see? Visit the ' +\n",
              "            '<a target=\"_blank\" href=https://colab.research.google.com/notebooks/data_table.ipynb>data table notebook</a>'\n",
              "            + ' to learn more about interactive tables.';\n",
              "          element.innerHTML = '';\n",
              "          dataTable['output_type'] = 'display_data';\n",
              "          await google.colab.output.renderOutput(dataTable, element);\n",
              "          const docLink = document.createElement('div');\n",
              "          docLink.innerHTML = docLinkHtml;\n",
              "          element.appendChild(docLink);\n",
              "        }\n",
              "      </script>\n",
              "    </div>\n",
              "  </div>\n"
            ]
          },
          "metadata": {},
          "execution_count": 28
        }
      ]
    },
    {
      "cell_type": "code",
      "source": [
        "# Checking whether the target column has converted into integer(int64)\n",
        "data.dtypes"
      ],
      "metadata": {
        "colab": {
          "base_uri": "https://localhost:8080/"
        },
        "id": "tngqqZa37olc",
        "outputId": "b6660ecf-a7bd-4ba5-87a0-18dbede2923d"
      },
      "execution_count": 29,
      "outputs": [
        {
          "output_type": "execute_result",
          "data": {
            "text/plain": [
              "age                int64\n",
              "job               object\n",
              "marital           object\n",
              "education_qual    object\n",
              "call_type         object\n",
              "day                int64\n",
              "mon               object\n",
              "dur                int64\n",
              "num_calls          int64\n",
              "prev_outcome      object\n",
              "y                  int64\n",
              "dtype: object"
            ]
          },
          "metadata": {},
          "execution_count": 29
        }
      ]
    },
    {
      "cell_type": "markdown",
      "source": [
        "# **Data Cleaning**"
      ],
      "metadata": {
        "id": "-myJ9Wu3BWMA"
      }
    },
    {
      "cell_type": "markdown",
      "source": [
        "### **Missing Values**"
      ],
      "metadata": {
        "id": "vh6r1AhdBgJn"
      }
    },
    {
      "cell_type": "code",
      "source": [
        "# Checking for null values\n",
        "data.isnull().sum()"
      ],
      "metadata": {
        "colab": {
          "base_uri": "https://localhost:8080/"
        },
        "id": "YthXN9Xh7onW",
        "outputId": "3a6ff579-9008-4307-c3eb-b9cdbd6e645d"
      },
      "execution_count": 30,
      "outputs": [
        {
          "output_type": "execute_result",
          "data": {
            "text/plain": [
              "age               0\n",
              "job               0\n",
              "marital           0\n",
              "education_qual    0\n",
              "call_type         0\n",
              "day               0\n",
              "mon               0\n",
              "dur               0\n",
              "num_calls         0\n",
              "prev_outcome      0\n",
              "y                 0\n",
              "dtype: int64"
            ]
          },
          "metadata": {},
          "execution_count": 30
        }
      ]
    },
    {
      "cell_type": "markdown",
      "source": [
        "### **Duplicate Values**"
      ],
      "metadata": {
        "id": "VhFqCubLBxxh"
      }
    },
    {
      "cell_type": "code",
      "source": [
        "# Checking for no of duplicate values\n",
        "data.duplicated().sum()"
      ],
      "metadata": {
        "colab": {
          "base_uri": "https://localhost:8080/"
        },
        "id": "LQMe_vFZ7opo",
        "outputId": "62ca8b9d-6b40-4d60-db3c-1568ed1d24b8"
      },
      "execution_count": 31,
      "outputs": [
        {
          "output_type": "execute_result",
          "data": {
            "text/plain": [
              "6"
            ]
          },
          "metadata": {},
          "execution_count": 31
        }
      ]
    },
    {
      "cell_type": "markdown",
      "source": [
        "There are 6 duplicates in data that needs to be removed"
      ],
      "metadata": {
        "id": "Q6yaqXeIB9Tz"
      }
    },
    {
      "cell_type": "code",
      "source": [
        "# Droping duplicates\n",
        "data = data.drop_duplicates()"
      ],
      "metadata": {
        "id": "mBywFVEy7orr"
      },
      "execution_count": 32,
      "outputs": []
    },
    {
      "cell_type": "code",
      "source": [
        "# Checking after droping the duplicates\n",
        "data.duplicated().sum()"
      ],
      "metadata": {
        "colab": {
          "base_uri": "https://localhost:8080/"
        },
        "id": "JKzT-eAK7otx",
        "outputId": "679faef6-0105-438f-a5a2-217ebaa909b6"
      },
      "execution_count": 33,
      "outputs": [
        {
          "output_type": "execute_result",
          "data": {
            "text/plain": [
              "0"
            ]
          },
          "metadata": {},
          "execution_count": 33
        }
      ]
    },
    {
      "cell_type": "code",
      "source": [
        "# Checking the shape of dataset\n",
        "data.shape"
      ],
      "metadata": {
        "colab": {
          "base_uri": "https://localhost:8080/"
        },
        "id": "XFh0j0Ik7owB",
        "outputId": "f827185c-6ea9-4d7a-ec57-a07ad9774e23"
      },
      "execution_count": 34,
      "outputs": [
        {
          "output_type": "execute_result",
          "data": {
            "text/plain": [
              "(45205, 11)"
            ]
          },
          "metadata": {},
          "execution_count": 34
        }
      ]
    },
    {
      "cell_type": "code",
      "source": [
        "# Describing the data\n",
        "data.describe()"
      ],
      "metadata": {
        "colab": {
          "base_uri": "https://localhost:8080/",
          "height": 344
        },
        "id": "nAfZfd0u7oyA",
        "outputId": "02191b3e-3376-421d-d1f8-b51f9c733637"
      },
      "execution_count": 35,
      "outputs": [
        {
          "output_type": "execute_result",
          "data": {
            "text/plain": [
              "                age          day           dur     num_calls             y\n",
              "count  45205.000000  45205.00000  45205.000000  45205.000000  45205.000000\n",
              "mean      40.937087     15.80688    258.183055      2.763898      0.117000\n",
              "std       10.619130      8.32234    257.538504      3.098189      0.321424\n",
              "min       18.000000      1.00000      0.000000      1.000000      0.000000\n",
              "25%       33.000000      8.00000    103.000000      1.000000      0.000000\n",
              "50%       39.000000     16.00000    180.000000      2.000000      0.000000\n",
              "75%       48.000000     21.00000    319.000000      3.000000      0.000000\n",
              "max       95.000000     31.00000   4918.000000     63.000000      1.000000"
            ],
            "text/html": [
              "\n",
              "\n",
              "  <div id=\"df-095be794-22bd-4641-b2ae-c026bd19877f\">\n",
              "    <div class=\"colab-df-container\">\n",
              "      <div>\n",
              "<style scoped>\n",
              "    .dataframe tbody tr th:only-of-type {\n",
              "        vertical-align: middle;\n",
              "    }\n",
              "\n",
              "    .dataframe tbody tr th {\n",
              "        vertical-align: top;\n",
              "    }\n",
              "\n",
              "    .dataframe thead th {\n",
              "        text-align: right;\n",
              "    }\n",
              "</style>\n",
              "<table border=\"1\" class=\"dataframe\">\n",
              "  <thead>\n",
              "    <tr style=\"text-align: right;\">\n",
              "      <th></th>\n",
              "      <th>age</th>\n",
              "      <th>day</th>\n",
              "      <th>dur</th>\n",
              "      <th>num_calls</th>\n",
              "      <th>y</th>\n",
              "    </tr>\n",
              "  </thead>\n",
              "  <tbody>\n",
              "    <tr>\n",
              "      <th>count</th>\n",
              "      <td>45205.000000</td>\n",
              "      <td>45205.00000</td>\n",
              "      <td>45205.000000</td>\n",
              "      <td>45205.000000</td>\n",
              "      <td>45205.000000</td>\n",
              "    </tr>\n",
              "    <tr>\n",
              "      <th>mean</th>\n",
              "      <td>40.937087</td>\n",
              "      <td>15.80688</td>\n",
              "      <td>258.183055</td>\n",
              "      <td>2.763898</td>\n",
              "      <td>0.117000</td>\n",
              "    </tr>\n",
              "    <tr>\n",
              "      <th>std</th>\n",
              "      <td>10.619130</td>\n",
              "      <td>8.32234</td>\n",
              "      <td>257.538504</td>\n",
              "      <td>3.098189</td>\n",
              "      <td>0.321424</td>\n",
              "    </tr>\n",
              "    <tr>\n",
              "      <th>min</th>\n",
              "      <td>18.000000</td>\n",
              "      <td>1.00000</td>\n",
              "      <td>0.000000</td>\n",
              "      <td>1.000000</td>\n",
              "      <td>0.000000</td>\n",
              "    </tr>\n",
              "    <tr>\n",
              "      <th>25%</th>\n",
              "      <td>33.000000</td>\n",
              "      <td>8.00000</td>\n",
              "      <td>103.000000</td>\n",
              "      <td>1.000000</td>\n",
              "      <td>0.000000</td>\n",
              "    </tr>\n",
              "    <tr>\n",
              "      <th>50%</th>\n",
              "      <td>39.000000</td>\n",
              "      <td>16.00000</td>\n",
              "      <td>180.000000</td>\n",
              "      <td>2.000000</td>\n",
              "      <td>0.000000</td>\n",
              "    </tr>\n",
              "    <tr>\n",
              "      <th>75%</th>\n",
              "      <td>48.000000</td>\n",
              "      <td>21.00000</td>\n",
              "      <td>319.000000</td>\n",
              "      <td>3.000000</td>\n",
              "      <td>0.000000</td>\n",
              "    </tr>\n",
              "    <tr>\n",
              "      <th>max</th>\n",
              "      <td>95.000000</td>\n",
              "      <td>31.00000</td>\n",
              "      <td>4918.000000</td>\n",
              "      <td>63.000000</td>\n",
              "      <td>1.000000</td>\n",
              "    </tr>\n",
              "  </tbody>\n",
              "</table>\n",
              "</div>\n",
              "      <button class=\"colab-df-convert\" onclick=\"convertToInteractive('df-095be794-22bd-4641-b2ae-c026bd19877f')\"\n",
              "              title=\"Convert this dataframe to an interactive table.\"\n",
              "              style=\"display:none;\">\n",
              "\n",
              "  <svg xmlns=\"http://www.w3.org/2000/svg\" height=\"24px\"viewBox=\"0 0 24 24\"\n",
              "       width=\"24px\">\n",
              "    <path d=\"M0 0h24v24H0V0z\" fill=\"none\"/>\n",
              "    <path d=\"M18.56 5.44l.94 2.06.94-2.06 2.06-.94-2.06-.94-.94-2.06-.94 2.06-2.06.94zm-11 1L8.5 8.5l.94-2.06 2.06-.94-2.06-.94L8.5 2.5l-.94 2.06-2.06.94zm10 10l.94 2.06.94-2.06 2.06-.94-2.06-.94-.94-2.06-.94 2.06-2.06.94z\"/><path d=\"M17.41 7.96l-1.37-1.37c-.4-.4-.92-.59-1.43-.59-.52 0-1.04.2-1.43.59L10.3 9.45l-7.72 7.72c-.78.78-.78 2.05 0 2.83L4 21.41c.39.39.9.59 1.41.59.51 0 1.02-.2 1.41-.59l7.78-7.78 2.81-2.81c.8-.78.8-2.07 0-2.86zM5.41 20L4 18.59l7.72-7.72 1.47 1.35L5.41 20z\"/>\n",
              "  </svg>\n",
              "      </button>\n",
              "\n",
              "\n",
              "\n",
              "    <div id=\"df-46869254-26a6-4c12-b77a-4b1cb8e69cec\">\n",
              "      <button class=\"colab-df-quickchart\" onclick=\"quickchart('df-46869254-26a6-4c12-b77a-4b1cb8e69cec')\"\n",
              "              title=\"Suggest charts.\"\n",
              "              style=\"display:none;\">\n",
              "\n",
              "<svg xmlns=\"http://www.w3.org/2000/svg\" height=\"24px\"viewBox=\"0 0 24 24\"\n",
              "     width=\"24px\">\n",
              "    <g>\n",
              "        <path d=\"M19 3H5c-1.1 0-2 .9-2 2v14c0 1.1.9 2 2 2h14c1.1 0 2-.9 2-2V5c0-1.1-.9-2-2-2zM9 17H7v-7h2v7zm4 0h-2V7h2v10zm4 0h-2v-4h2v4z\"/>\n",
              "    </g>\n",
              "</svg>\n",
              "      </button>\n",
              "    </div>\n",
              "\n",
              "<style>\n",
              "  .colab-df-quickchart {\n",
              "    background-color: #E8F0FE;\n",
              "    border: none;\n",
              "    border-radius: 50%;\n",
              "    cursor: pointer;\n",
              "    display: none;\n",
              "    fill: #1967D2;\n",
              "    height: 32px;\n",
              "    padding: 0 0 0 0;\n",
              "    width: 32px;\n",
              "  }\n",
              "\n",
              "  .colab-df-quickchart:hover {\n",
              "    background-color: #E2EBFA;\n",
              "    box-shadow: 0px 1px 2px rgba(60, 64, 67, 0.3), 0px 1px 3px 1px rgba(60, 64, 67, 0.15);\n",
              "    fill: #174EA6;\n",
              "  }\n",
              "\n",
              "  [theme=dark] .colab-df-quickchart {\n",
              "    background-color: #3B4455;\n",
              "    fill: #D2E3FC;\n",
              "  }\n",
              "\n",
              "  [theme=dark] .colab-df-quickchart:hover {\n",
              "    background-color: #434B5C;\n",
              "    box-shadow: 0px 1px 3px 1px rgba(0, 0, 0, 0.15);\n",
              "    filter: drop-shadow(0px 1px 2px rgba(0, 0, 0, 0.3));\n",
              "    fill: #FFFFFF;\n",
              "  }\n",
              "</style>\n",
              "\n",
              "    <script>\n",
              "      async function quickchart(key) {\n",
              "        const containerElement = document.querySelector('#' + key);\n",
              "        const charts = await google.colab.kernel.invokeFunction(\n",
              "            'suggestCharts', [key], {});\n",
              "      }\n",
              "    </script>\n",
              "\n",
              "      <script>\n",
              "\n",
              "function displayQuickchartButton(domScope) {\n",
              "  let quickchartButtonEl =\n",
              "    domScope.querySelector('#df-46869254-26a6-4c12-b77a-4b1cb8e69cec button.colab-df-quickchart');\n",
              "  quickchartButtonEl.style.display =\n",
              "    google.colab.kernel.accessAllowed ? 'block' : 'none';\n",
              "}\n",
              "\n",
              "        displayQuickchartButton(document);\n",
              "      </script>\n",
              "      <style>\n",
              "    .colab-df-container {\n",
              "      display:flex;\n",
              "      flex-wrap:wrap;\n",
              "      gap: 12px;\n",
              "    }\n",
              "\n",
              "    .colab-df-convert {\n",
              "      background-color: #E8F0FE;\n",
              "      border: none;\n",
              "      border-radius: 50%;\n",
              "      cursor: pointer;\n",
              "      display: none;\n",
              "      fill: #1967D2;\n",
              "      height: 32px;\n",
              "      padding: 0 0 0 0;\n",
              "      width: 32px;\n",
              "    }\n",
              "\n",
              "    .colab-df-convert:hover {\n",
              "      background-color: #E2EBFA;\n",
              "      box-shadow: 0px 1px 2px rgba(60, 64, 67, 0.3), 0px 1px 3px 1px rgba(60, 64, 67, 0.15);\n",
              "      fill: #174EA6;\n",
              "    }\n",
              "\n",
              "    [theme=dark] .colab-df-convert {\n",
              "      background-color: #3B4455;\n",
              "      fill: #D2E3FC;\n",
              "    }\n",
              "\n",
              "    [theme=dark] .colab-df-convert:hover {\n",
              "      background-color: #434B5C;\n",
              "      box-shadow: 0px 1px 3px 1px rgba(0, 0, 0, 0.15);\n",
              "      filter: drop-shadow(0px 1px 2px rgba(0, 0, 0, 0.3));\n",
              "      fill: #FFFFFF;\n",
              "    }\n",
              "  </style>\n",
              "\n",
              "      <script>\n",
              "        const buttonEl =\n",
              "          document.querySelector('#df-095be794-22bd-4641-b2ae-c026bd19877f button.colab-df-convert');\n",
              "        buttonEl.style.display =\n",
              "          google.colab.kernel.accessAllowed ? 'block' : 'none';\n",
              "\n",
              "        async function convertToInteractive(key) {\n",
              "          const element = document.querySelector('#df-095be794-22bd-4641-b2ae-c026bd19877f');\n",
              "          const dataTable =\n",
              "            await google.colab.kernel.invokeFunction('convertToInteractive',\n",
              "                                                     [key], {});\n",
              "          if (!dataTable) return;\n",
              "\n",
              "          const docLinkHtml = 'Like what you see? Visit the ' +\n",
              "            '<a target=\"_blank\" href=https://colab.research.google.com/notebooks/data_table.ipynb>data table notebook</a>'\n",
              "            + ' to learn more about interactive tables.';\n",
              "          element.innerHTML = '';\n",
              "          dataTable['output_type'] = 'display_data';\n",
              "          await google.colab.output.renderOutput(dataTable, element);\n",
              "          const docLink = document.createElement('div');\n",
              "          docLink.innerHTML = docLinkHtml;\n",
              "          element.appendChild(docLink);\n",
              "        }\n",
              "      </script>\n",
              "    </div>\n",
              "  </div>\n"
            ]
          },
          "metadata": {},
          "execution_count": 35
        }
      ]
    },
    {
      "cell_type": "markdown",
      "source": [
        "### **Detecting** **Outliers**"
      ],
      "metadata": {
        "id": "OkjunuzUFSyV"
      }
    },
    {
      "cell_type": "code",
      "source": [
        "# Detcting outliers for 'AGE' column\n",
        "iqr = data.age.quantile(0.75) - data.age.quantile(0.25)\n",
        "print('Interquantile range is',iqr)\n",
        "up_threshold = data.age.quantile(0.75) + (1.5*iqr)\n",
        "low_threshold = data.age.quantile(0.25) - (1.5*iqr)\n",
        "\n",
        "# Clipping the outliers to upper and lower threshold\n",
        "data.age =data.age.clip(up_threshold,low_threshold)\n",
        "\n",
        "print('upper_threshold is',up_threshold)\n",
        "print('lower_threshold is',low_threshold)\n",
        "\n",
        "# Converting the 'age' column to int64\n",
        "data['age'] = data['age'].astype('int64')\n",
        "\n",
        "# Counting the number of outliers above and below the thresholds\n",
        "below = data[data['age'] < low_threshold]['age'].count()\n",
        "above = data[data['age'] > up_threshold]['age'].count()\n",
        "\n",
        "print('above outlier count is',above)\n",
        "print('below outlier count is',below)"
      ],
      "metadata": {
        "colab": {
          "base_uri": "https://localhost:8080/"
        },
        "id": "vqK9VKuL7o0N",
        "outputId": "9f236d0c-a10e-44fa-c023-a7eb6c3d667f"
      },
      "execution_count": 36,
      "outputs": [
        {
          "output_type": "stream",
          "name": "stdout",
          "text": [
            "Interquantile range is 15.0\n",
            "upper_threshold is 70.5\n",
            "lower_threshold is 10.5\n",
            "above outlier count is 0\n",
            "below outlier count is 0\n"
          ]
        }
      ]
    },
    {
      "cell_type": "code",
      "source": [
        "# Detcting outliers for 'DUR' column\n",
        "iqr = data.dur.quantile(0.75) - data.dur.quantile(0.25)\n",
        "print('Interquantile range is',iqr)\n",
        "up_threshold = data.dur.quantile(0.75) + (1.5*iqr)\n",
        "low_threshold = data.dur.quantile(0.25) - (1.5*iqr)\n",
        "\n",
        "# Clipping the outliers to upper and lower threshold\n",
        "data.dur =data.dur.clip(up_threshold,low_threshold)\n",
        "\n",
        "print('upper_threshold is',up_threshold)\n",
        "print('lower_threshold is',low_threshold)\n",
        "\n",
        "# Counting the number of outliers above and below the thresholds\n",
        "below = data[data['dur'] < low_threshold]['dur'].count()\n",
        "above = data[data['dur'] > up_threshold]['dur'].count()\n",
        "\n",
        "print('above outlier count is',above)\n",
        "print('below outlier count is',below)"
      ],
      "metadata": {
        "colab": {
          "base_uri": "https://localhost:8080/"
        },
        "id": "6r3JH3JH7o2c",
        "outputId": "8f71e185-10f1-470c-df3f-638c65e48404"
      },
      "execution_count": 37,
      "outputs": [
        {
          "output_type": "stream",
          "name": "stdout",
          "text": [
            "Interquantile range is 216.0\n",
            "upper_threshold is 643.0\n",
            "lower_threshold is -221.0\n",
            "above outlier count is 0\n",
            "below outlier count is 0\n"
          ]
        }
      ]
    },
    {
      "cell_type": "code",
      "source": [
        "# Detcting outliers for 'NUM_CALLS' column\n",
        "iqr = data.num_calls.quantile(0.75) - data.num_calls.quantile(0.25)\n",
        "print('Interquantile range is',iqr)\n",
        "up_threshold = data.num_calls.quantile(0.75) + (1.5*iqr)\n",
        "low_threshold = data.num_calls.quantile(0.25) - (1.5*iqr)\n",
        "\n",
        "# Clipping the outliers to upper and lower threshold\n",
        "data.num_calls =data.num_calls.clip(up_threshold,low_threshold)\n",
        "\n",
        "print('upper_threshold is',up_threshold)\n",
        "print('lower_threshold is',low_threshold)\n",
        "\n",
        "# Counting the number of outliers above and below the thresholds\n",
        "below = data[data['num_calls'] < low_threshold]['num_calls'].count()\n",
        "above = data[data['num_calls'] > up_threshold]['num_calls'].count()\n",
        "\n",
        "print('above outlier count is',above)\n",
        "print('below outlier count is',below)"
      ],
      "metadata": {
        "colab": {
          "base_uri": "https://localhost:8080/"
        },
        "id": "5kePd2rF7o4Y",
        "outputId": "11c7631c-05f8-46b5-ae4f-2c8202dba75d"
      },
      "execution_count": 38,
      "outputs": [
        {
          "output_type": "stream",
          "name": "stdout",
          "text": [
            "Interquantile range is 2.0\n",
            "upper_threshold is 6.0\n",
            "lower_threshold is -2.0\n",
            "above outlier count is 0\n",
            "below outlier count is 0\n"
          ]
        }
      ]
    },
    {
      "cell_type": "code",
      "source": [
        "# Describing num of calls\n",
        "data.num_calls.describe()"
      ],
      "metadata": {
        "colab": {
          "base_uri": "https://localhost:8080/"
        },
        "id": "a5FODNT97o6c",
        "outputId": "223d6a96-80ad-4a46-d593-a33bc259767e"
      },
      "execution_count": 39,
      "outputs": [
        {
          "output_type": "execute_result",
          "data": {
            "text/plain": [
              "count    45205.000000\n",
              "mean         2.392235\n",
              "std          1.600152\n",
              "min          1.000000\n",
              "25%          1.000000\n",
              "50%          2.000000\n",
              "75%          3.000000\n",
              "max          6.000000\n",
              "Name: num_calls, dtype: float64"
            ]
          },
          "metadata": {},
          "execution_count": 39
        }
      ]
    },
    {
      "cell_type": "code",
      "source": [
        "# Describing the dataset\n",
        "data.describe()"
      ],
      "metadata": {
        "colab": {
          "base_uri": "https://localhost:8080/",
          "height": 300
        },
        "id": "q9UWFegh7o8m",
        "outputId": "fd117179-df83-4de2-c8e4-c931799fab0b"
      },
      "execution_count": 40,
      "outputs": [
        {
          "output_type": "execute_result",
          "data": {
            "text/plain": [
              "                age          day          dur     num_calls             y\n",
              "count  45205.000000  45205.00000  45205.00000  45205.000000  45205.000000\n",
              "mean      40.863666     15.80688    234.95620      2.392235      0.117000\n",
              "std       10.380009      8.32234    176.75476      1.600152      0.321424\n",
              "min       18.000000      1.00000      0.00000      1.000000      0.000000\n",
              "25%       33.000000      8.00000    103.00000      1.000000      0.000000\n",
              "50%       39.000000     16.00000    180.00000      2.000000      0.000000\n",
              "75%       48.000000     21.00000    319.00000      3.000000      0.000000\n",
              "max       70.000000     31.00000    643.00000      6.000000      1.000000"
            ],
            "text/html": [
              "\n",
              "\n",
              "  <div id=\"df-857ebb37-860d-4776-8d0e-1e9518ab7719\">\n",
              "    <div class=\"colab-df-container\">\n",
              "      <div>\n",
              "<style scoped>\n",
              "    .dataframe tbody tr th:only-of-type {\n",
              "        vertical-align: middle;\n",
              "    }\n",
              "\n",
              "    .dataframe tbody tr th {\n",
              "        vertical-align: top;\n",
              "    }\n",
              "\n",
              "    .dataframe thead th {\n",
              "        text-align: right;\n",
              "    }\n",
              "</style>\n",
              "<table border=\"1\" class=\"dataframe\">\n",
              "  <thead>\n",
              "    <tr style=\"text-align: right;\">\n",
              "      <th></th>\n",
              "      <th>age</th>\n",
              "      <th>day</th>\n",
              "      <th>dur</th>\n",
              "      <th>num_calls</th>\n",
              "      <th>y</th>\n",
              "    </tr>\n",
              "  </thead>\n",
              "  <tbody>\n",
              "    <tr>\n",
              "      <th>count</th>\n",
              "      <td>45205.000000</td>\n",
              "      <td>45205.00000</td>\n",
              "      <td>45205.00000</td>\n",
              "      <td>45205.000000</td>\n",
              "      <td>45205.000000</td>\n",
              "    </tr>\n",
              "    <tr>\n",
              "      <th>mean</th>\n",
              "      <td>40.863666</td>\n",
              "      <td>15.80688</td>\n",
              "      <td>234.95620</td>\n",
              "      <td>2.392235</td>\n",
              "      <td>0.117000</td>\n",
              "    </tr>\n",
              "    <tr>\n",
              "      <th>std</th>\n",
              "      <td>10.380009</td>\n",
              "      <td>8.32234</td>\n",
              "      <td>176.75476</td>\n",
              "      <td>1.600152</td>\n",
              "      <td>0.321424</td>\n",
              "    </tr>\n",
              "    <tr>\n",
              "      <th>min</th>\n",
              "      <td>18.000000</td>\n",
              "      <td>1.00000</td>\n",
              "      <td>0.00000</td>\n",
              "      <td>1.000000</td>\n",
              "      <td>0.000000</td>\n",
              "    </tr>\n",
              "    <tr>\n",
              "      <th>25%</th>\n",
              "      <td>33.000000</td>\n",
              "      <td>8.00000</td>\n",
              "      <td>103.00000</td>\n",
              "      <td>1.000000</td>\n",
              "      <td>0.000000</td>\n",
              "    </tr>\n",
              "    <tr>\n",
              "      <th>50%</th>\n",
              "      <td>39.000000</td>\n",
              "      <td>16.00000</td>\n",
              "      <td>180.00000</td>\n",
              "      <td>2.000000</td>\n",
              "      <td>0.000000</td>\n",
              "    </tr>\n",
              "    <tr>\n",
              "      <th>75%</th>\n",
              "      <td>48.000000</td>\n",
              "      <td>21.00000</td>\n",
              "      <td>319.00000</td>\n",
              "      <td>3.000000</td>\n",
              "      <td>0.000000</td>\n",
              "    </tr>\n",
              "    <tr>\n",
              "      <th>max</th>\n",
              "      <td>70.000000</td>\n",
              "      <td>31.00000</td>\n",
              "      <td>643.00000</td>\n",
              "      <td>6.000000</td>\n",
              "      <td>1.000000</td>\n",
              "    </tr>\n",
              "  </tbody>\n",
              "</table>\n",
              "</div>\n",
              "      <button class=\"colab-df-convert\" onclick=\"convertToInteractive('df-857ebb37-860d-4776-8d0e-1e9518ab7719')\"\n",
              "              title=\"Convert this dataframe to an interactive table.\"\n",
              "              style=\"display:none;\">\n",
              "\n",
              "  <svg xmlns=\"http://www.w3.org/2000/svg\" height=\"24px\"viewBox=\"0 0 24 24\"\n",
              "       width=\"24px\">\n",
              "    <path d=\"M0 0h24v24H0V0z\" fill=\"none\"/>\n",
              "    <path d=\"M18.56 5.44l.94 2.06.94-2.06 2.06-.94-2.06-.94-.94-2.06-.94 2.06-2.06.94zm-11 1L8.5 8.5l.94-2.06 2.06-.94-2.06-.94L8.5 2.5l-.94 2.06-2.06.94zm10 10l.94 2.06.94-2.06 2.06-.94-2.06-.94-.94-2.06-.94 2.06-2.06.94z\"/><path d=\"M17.41 7.96l-1.37-1.37c-.4-.4-.92-.59-1.43-.59-.52 0-1.04.2-1.43.59L10.3 9.45l-7.72 7.72c-.78.78-.78 2.05 0 2.83L4 21.41c.39.39.9.59 1.41.59.51 0 1.02-.2 1.41-.59l7.78-7.78 2.81-2.81c.8-.78.8-2.07 0-2.86zM5.41 20L4 18.59l7.72-7.72 1.47 1.35L5.41 20z\"/>\n",
              "  </svg>\n",
              "      </button>\n",
              "\n",
              "\n",
              "\n",
              "    <div id=\"df-5c72357c-87c0-4d8c-8464-43202772f311\">\n",
              "      <button class=\"colab-df-quickchart\" onclick=\"quickchart('df-5c72357c-87c0-4d8c-8464-43202772f311')\"\n",
              "              title=\"Suggest charts.\"\n",
              "              style=\"display:none;\">\n",
              "\n",
              "<svg xmlns=\"http://www.w3.org/2000/svg\" height=\"24px\"viewBox=\"0 0 24 24\"\n",
              "     width=\"24px\">\n",
              "    <g>\n",
              "        <path d=\"M19 3H5c-1.1 0-2 .9-2 2v14c0 1.1.9 2 2 2h14c1.1 0 2-.9 2-2V5c0-1.1-.9-2-2-2zM9 17H7v-7h2v7zm4 0h-2V7h2v10zm4 0h-2v-4h2v4z\"/>\n",
              "    </g>\n",
              "</svg>\n",
              "      </button>\n",
              "    </div>\n",
              "\n",
              "<style>\n",
              "  .colab-df-quickchart {\n",
              "    background-color: #E8F0FE;\n",
              "    border: none;\n",
              "    border-radius: 50%;\n",
              "    cursor: pointer;\n",
              "    display: none;\n",
              "    fill: #1967D2;\n",
              "    height: 32px;\n",
              "    padding: 0 0 0 0;\n",
              "    width: 32px;\n",
              "  }\n",
              "\n",
              "  .colab-df-quickchart:hover {\n",
              "    background-color: #E2EBFA;\n",
              "    box-shadow: 0px 1px 2px rgba(60, 64, 67, 0.3), 0px 1px 3px 1px rgba(60, 64, 67, 0.15);\n",
              "    fill: #174EA6;\n",
              "  }\n",
              "\n",
              "  [theme=dark] .colab-df-quickchart {\n",
              "    background-color: #3B4455;\n",
              "    fill: #D2E3FC;\n",
              "  }\n",
              "\n",
              "  [theme=dark] .colab-df-quickchart:hover {\n",
              "    background-color: #434B5C;\n",
              "    box-shadow: 0px 1px 3px 1px rgba(0, 0, 0, 0.15);\n",
              "    filter: drop-shadow(0px 1px 2px rgba(0, 0, 0, 0.3));\n",
              "    fill: #FFFFFF;\n",
              "  }\n",
              "</style>\n",
              "\n",
              "    <script>\n",
              "      async function quickchart(key) {\n",
              "        const containerElement = document.querySelector('#' + key);\n",
              "        const charts = await google.colab.kernel.invokeFunction(\n",
              "            'suggestCharts', [key], {});\n",
              "      }\n",
              "    </script>\n",
              "\n",
              "      <script>\n",
              "\n",
              "function displayQuickchartButton(domScope) {\n",
              "  let quickchartButtonEl =\n",
              "    domScope.querySelector('#df-5c72357c-87c0-4d8c-8464-43202772f311 button.colab-df-quickchart');\n",
              "  quickchartButtonEl.style.display =\n",
              "    google.colab.kernel.accessAllowed ? 'block' : 'none';\n",
              "}\n",
              "\n",
              "        displayQuickchartButton(document);\n",
              "      </script>\n",
              "      <style>\n",
              "    .colab-df-container {\n",
              "      display:flex;\n",
              "      flex-wrap:wrap;\n",
              "      gap: 12px;\n",
              "    }\n",
              "\n",
              "    .colab-df-convert {\n",
              "      background-color: #E8F0FE;\n",
              "      border: none;\n",
              "      border-radius: 50%;\n",
              "      cursor: pointer;\n",
              "      display: none;\n",
              "      fill: #1967D2;\n",
              "      height: 32px;\n",
              "      padding: 0 0 0 0;\n",
              "      width: 32px;\n",
              "    }\n",
              "\n",
              "    .colab-df-convert:hover {\n",
              "      background-color: #E2EBFA;\n",
              "      box-shadow: 0px 1px 2px rgba(60, 64, 67, 0.3), 0px 1px 3px 1px rgba(60, 64, 67, 0.15);\n",
              "      fill: #174EA6;\n",
              "    }\n",
              "\n",
              "    [theme=dark] .colab-df-convert {\n",
              "      background-color: #3B4455;\n",
              "      fill: #D2E3FC;\n",
              "    }\n",
              "\n",
              "    [theme=dark] .colab-df-convert:hover {\n",
              "      background-color: #434B5C;\n",
              "      box-shadow: 0px 1px 3px 1px rgba(0, 0, 0, 0.15);\n",
              "      filter: drop-shadow(0px 1px 2px rgba(0, 0, 0, 0.3));\n",
              "      fill: #FFFFFF;\n",
              "    }\n",
              "  </style>\n",
              "\n",
              "      <script>\n",
              "        const buttonEl =\n",
              "          document.querySelector('#df-857ebb37-860d-4776-8d0e-1e9518ab7719 button.colab-df-convert');\n",
              "        buttonEl.style.display =\n",
              "          google.colab.kernel.accessAllowed ? 'block' : 'none';\n",
              "\n",
              "        async function convertToInteractive(key) {\n",
              "          const element = document.querySelector('#df-857ebb37-860d-4776-8d0e-1e9518ab7719');\n",
              "          const dataTable =\n",
              "            await google.colab.kernel.invokeFunction('convertToInteractive',\n",
              "                                                     [key], {});\n",
              "          if (!dataTable) return;\n",
              "\n",
              "          const docLinkHtml = 'Like what you see? Visit the ' +\n",
              "            '<a target=\"_blank\" href=https://colab.research.google.com/notebooks/data_table.ipynb>data table notebook</a>'\n",
              "            + ' to learn more about interactive tables.';\n",
              "          element.innerHTML = '';\n",
              "          dataTable['output_type'] = 'display_data';\n",
              "          await google.colab.output.renderOutput(dataTable, element);\n",
              "          const docLink = document.createElement('div');\n",
              "          docLink.innerHTML = docLinkHtml;\n",
              "          element.appendChild(docLink);\n",
              "        }\n",
              "      </script>\n",
              "    </div>\n",
              "  </div>\n"
            ]
          },
          "metadata": {},
          "execution_count": 40
        }
      ]
    },
    {
      "cell_type": "code",
      "source": [
        "data.dtypes"
      ],
      "metadata": {
        "colab": {
          "base_uri": "https://localhost:8080/"
        },
        "id": "gb-560fw7o-u",
        "outputId": "7d73e0db-4d3f-4f36-d884-f3f24e9e02ad"
      },
      "execution_count": 41,
      "outputs": [
        {
          "output_type": "execute_result",
          "data": {
            "text/plain": [
              "age                int64\n",
              "job               object\n",
              "marital           object\n",
              "education_qual    object\n",
              "call_type         object\n",
              "day                int64\n",
              "mon               object\n",
              "dur                int64\n",
              "num_calls          int64\n",
              "prev_outcome      object\n",
              "y                  int64\n",
              "dtype: object"
            ]
          },
          "metadata": {},
          "execution_count": 41
        }
      ]
    },
    {
      "cell_type": "markdown",
      "source": [
        "# **EDA - Exploratory Data Analysis**"
      ],
      "metadata": {
        "id": "9sCq0GKFIM0Z"
      }
    },
    {
      "cell_type": "markdown",
      "source": [
        "### **Distribution of Feature and Target variable**"
      ],
      "metadata": {
        "id": "1PYeZf8WINbN"
      }
    },
    {
      "cell_type": "code",
      "source": [
        "# Age distribution\n",
        "plt.figure(figsize = (20,20),dpi=180)\n",
        "plt.subplot(3,4,1)\n",
        "sns.histplot((data.age),color='BlueViolet')\n",
        "\n",
        "# Get the current Axes object\n",
        "ax = plt.gca()\n",
        "\n",
        "# Calculate and annotate the percentage of each category\n",
        "total = float(len(data['age']))\n",
        "for p in ax.patches:\n",
        "    height = p.get_height()\n",
        "    percentage = '{:.1f}%'.format(100 * height/total)\n",
        "    x = p.get_x() + p.get_width() / 2 - 0.1\n",
        "    y = height + 5\n",
        "    ax.text(x, y, percentage, fontsize=8, rotation=90, ha='center', va='bottom', color='Purple')\n",
        "\n",
        "plt.title('Age Distribution', fontsize = 12, color='maroon', fontweight='bold')\n",
        "plt.xlabel('Age',fontsize = 12, color='green')\n",
        "plt.ylabel('Count',fontsize = 12, color='green')"
      ],
      "metadata": {
        "colab": {
          "base_uri": "https://localhost:8080/",
          "height": 855
        },
        "id": "fCPVQ-Gb7pAy",
        "outputId": "5dffe79f-36b0-49b8-99c1-b70f107abbb9"
      },
      "execution_count": 42,
      "outputs": [
        {
          "output_type": "execute_result",
          "data": {
            "text/plain": [
              "Text(0, 0.5, 'Count')"
            ]
          },
          "metadata": {},
          "execution_count": 42
        },
        {
          "output_type": "display_data",
          "data": {
            "text/plain": [
              "<Figure size 3600x3600 with 1 Axes>"
            ],
            "image/png": "[encoded data removed]"
          },
          "metadata": {}
        }
      ]
    },
    {
      "cell_type": "markdown",
      "source": [
        "1. Age\n",
        "Most Target : 30 to 40 years\n",
        "Least Target : belove 20 and above 60"
      ],
      "metadata": {
        "id": "p1KlvowWI0fI"
      }
    },
    {
      "cell_type": "code",
      "source": [
        "# Creating a plot to check the distribution for DAY\n",
        "plt.figure(figsize=(12,6))\n",
        "plt.subplot(1,2,2)\n",
        "sns.distplot(data.day,color = 'blue')\n",
        "plt.tight_layout()"
      ],
      "metadata": {
        "colab": {
          "base_uri": "https://localhost:8080/",
          "height": 607
        },
        "id": "fUPXK0foO-wf",
        "outputId": "daf1f397-3626-40a4-ab46-b734c2d9909e"
      },
      "execution_count": 43,
      "outputs": [
        {
          "output_type": "display_data",
          "data": {
            "text/plain": [
              "<Figure size 1200x600 with 1 Axes>"
            ],
            "image/png": "[encoded data removed]"
          },
          "metadata": {}
        }
      ]
    },
    {
      "cell_type": "markdown",
      "source": [
        "The day distributed between 1 to 31 days"
      ],
      "metadata": {
        "id": "yxJ0m5K_PWXs"
      }
    },
    {
      "cell_type": "code",
      "source": [
        "# Creating a plot to check the distribution for DUR\n",
        "plt.figure(figsize=(12,6))\n",
        "plt.subplot(1,2,1)\n",
        "sns.distplot(data.dur, color = 'pink')"
      ],
      "metadata": {
        "colab": {
          "base_uri": "https://localhost:8080/",
          "height": 559
        },
        "id": "R_FoDXrhPeKc",
        "outputId": "43d160de-f1b0-4355-e8d8-a1e8b4cf847f"
      },
      "execution_count": 44,
      "outputs": [
        {
          "output_type": "execute_result",
          "data": {
            "text/plain": [
              "<Axes: xlabel='dur', ylabel='Density'>"
            ]
          },
          "metadata": {},
          "execution_count": 44
        },
        {
          "output_type": "display_data",
          "data": {
            "text/plain": [
              "<Figure size 1200x600 with 1 Axes>"
            ],
            "image/png": "[encoded data removed]"
          },
          "metadata": {}
        }
      ]
    },
    {
      "cell_type": "markdown",
      "source": [
        "The duration between 0 to 650"
      ],
      "metadata": {
        "id": "A3Xa_kvpPv2G"
      }
    },
    {
      "cell_type": "code",
      "source": [
        "# Creating a plot to check the distribution for NUM_CALLS\n",
        "plt.figure(figsize=(12,6))\n",
        "plt.subplot(1,2,2)\n",
        "sns.distplot(data.num_calls,color = 'green')\n",
        "plt.tight_layout()"
      ],
      "metadata": {
        "colab": {
          "base_uri": "https://localhost:8080/",
          "height": 607
        },
        "id": "Lm4mgx1SPeT-",
        "outputId": "b44525d5-9590-4e4c-cdce-19e4a59add0e"
      },
      "execution_count": 45,
      "outputs": [
        {
          "output_type": "display_data",
          "data": {
            "text/plain": [
              "<Figure size 1200x600 with 1 Axes>"
            ],
            "image/png": "[encoded data removed]"
          },
          "metadata": {}
        }
      ]
    },
    {
      "cell_type": "markdown",
      "source": [
        "The number of calls is distributed between 1 to 6"
      ],
      "metadata": {
        "id": "JU1uuL4mQQQz"
      }
    },
    {
      "cell_type": "markdown",
      "source": [
        "# **Feature** **vs** **Target**"
      ],
      "metadata": {
        "id": "iFMG1u5uSK_m"
      }
    },
    {
      "cell_type": "markdown",
      "source": [
        "### **Job**"
      ],
      "metadata": {
        "id": "gDheMbuQSMLz"
      }
    },
    {
      "cell_type": "code",
      "source": [
        "# Plotting the figure using barplot\n",
        "plt.figure(figsize=(10,6))\n",
        "sns.barplot(x='job',y='y',data=data,order=data.groupby('job')['y'].mean().reset_index().sort_values('y')['job'])\n",
        "plt.xticks(rotation=45)\n",
        "plt.title('Job vs Target')\n",
        "plt.show()"
      ],
      "metadata": {
        "colab": {
          "base_uri": "https://localhost:8080/",
          "height": 479
        },
        "id": "rHY2HlFj7pC6",
        "outputId": "8fb14d95-5f8e-42ad-8d8e-de278815253d"
      },
      "execution_count": 46,
      "outputs": [
        {
          "output_type": "display_data",
          "data": {
            "text/plain": [
              "<Figure size 1000x600 with 1 Axes>"
            ],
            "image/png": "[encoded data removed]"
          },
          "metadata": {}
        }
      ]
    },
    {
      "cell_type": "markdown",
      "source": [
        "Students are targeted more compared with other professions, second highest is retired persons we can see a linear increase in job column so we go with label encoding.\n",
        "\n",
        "{'blue-collar' :0, 'entrepreneur' :1, 'housemaid' :2, 'services' :3, 'technician' :4, 'self-employed' :5, 'admin.' :6, 'management' :7, 'unemployed' :8, 'retired' :9, 'student' :10}"
      ],
      "metadata": {
        "id": "mHEp9fn6LXzz"
      }
    },
    {
      "cell_type": "markdown",
      "source": [
        "### **Marital**"
      ],
      "metadata": {
        "id": "T6hOzsE2RaTq"
      }
    },
    {
      "cell_type": "code",
      "source": [
        "# Plotting the figure using barplot\n",
        "plt.figure(figsize=(10,6))\n",
        "sns.barplot(x='marital',y='y',data=data,order=data.groupby('marital')['y'].mean().reset_index().sort_values('y')['marital'])\n",
        "plt.xticks(rotation=0)\n",
        "plt.title('Marital vs Target')\n",
        "plt.show()"
      ],
      "metadata": {
        "colab": {
          "base_uri": "https://localhost:8080/",
          "height": 430
        },
        "id": "NzKfPgxLRvHZ",
        "outputId": "e0c690dc-bc40-4015-cb5b-b6f21556e118"
      },
      "execution_count": 47,
      "outputs": [
        {
          "output_type": "display_data",
          "data": {
            "text/plain": [
              "<Figure size 1000x600 with 1 Axes>"
            ],
            "image/png": "[encoded data removed]"
          },
          "metadata": {}
        }
      ]
    },
    {
      "cell_type": "markdown",
      "source": [
        "Single category has subsribed to insurance other than married and divorced there is a linear increase\n",
        "\n",
        "{'married' :0, 'divorced' :1, 'single' :2}"
      ],
      "metadata": {
        "id": "vm6O62c4R3V4"
      }
    },
    {
      "cell_type": "markdown",
      "source": [
        "### **Education** **Qualification**"
      ],
      "metadata": {
        "id": "jWgvzfBaReDs"
      }
    },
    {
      "cell_type": "code",
      "source": [
        "# Plotting the figure using barplot\n",
        "plt.figure(figsize=(10,6))\n",
        "sns.barplot(x='education_qual',y='y',data=data,order=data.groupby('education_qual')['y'].mean().reset_index().sort_values('y')['education_qual'])\n",
        "plt.xticks(rotation=0)\n",
        "plt.title('Education_qual vs Target')\n",
        "plt.show()"
      ],
      "metadata": {
        "colab": {
          "base_uri": "https://localhost:8080/",
          "height": 430
        },
        "id": "K7ggSG5HR-QR",
        "outputId": "3b418482-def3-448c-fabf-3bba54058ccf"
      },
      "execution_count": 48,
      "outputs": [
        {
          "output_type": "display_data",
          "data": {
            "text/plain": [
              "<Figure size 1000x600 with 1 Axes>"
            ],
            "image/png": "[encoded data removed]"
          },
          "metadata": {}
        }
      ]
    },
    {
      "cell_type": "markdown",
      "source": [
        "Tertiary category is intrested more to subscribe to the insurance other than primary and secondary, we can see a linear increase, so we can use label encoding.\n",
        "\n",
        "{'primary' :0, 'secondary' :1, 'tertiary' :2}"
      ],
      "metadata": {
        "id": "ej92RfsNR-ne"
      }
    },
    {
      "cell_type": "markdown",
      "source": [
        "### **Call** **Type**"
      ],
      "metadata": {
        "id": "ov5cNkz2RnFE"
      }
    },
    {
      "cell_type": "code",
      "source": [
        "# Plotting the figure using barplot\n",
        "plt.figure(figsize=(10,6))\n",
        "sns.barplot(x='call_type',y='y',data=data,order=data.groupby('call_type')['y'].mean().reset_index().sort_values('y')['call_type'])\n",
        "plt.xticks(rotation=0)\n",
        "plt.title('Call_type vs Target')\n",
        "plt.show()"
      ],
      "metadata": {
        "colab": {
          "base_uri": "https://localhost:8080/",
          "height": 430
        },
        "id": "07ktHbAfS1oi",
        "outputId": "109db6ef-0902-409b-a064-ca6d2c404728"
      },
      "execution_count": 49,
      "outputs": [
        {
          "output_type": "display_data",
          "data": {
            "text/plain": [
              "<Figure size 1000x600 with 1 Axes>"
            ],
            "image/png": "[encoded data removed]"
          },
          "metadata": {}
        }
      ]
    },
    {
      "cell_type": "markdown",
      "source": [
        "We can see, through cellular the most calls were registered and subscribed to insurance plan , there is no linear increase so we go with one-hot encoding.\n",
        "\n",
        "{'unknown' :0, 'telephone' :1, 'cellular' :2}"
      ],
      "metadata": {
        "id": "GMYr0IvqS0JQ"
      }
    },
    {
      "cell_type": "markdown",
      "source": [
        "### **Month(Mon)**"
      ],
      "metadata": {
        "id": "YPoKGGPXRfUu"
      }
    },
    {
      "cell_type": "code",
      "source": [
        "# Plotting the figure using barplot\n",
        "plt.figure(figsize=(10,6))\n",
        "sns.barplot(x='mon',y='y',data=data,order=data.groupby('mon')['y'].mean().reset_index().sort_values('y')['mon'])\n",
        "plt.xticks(rotation=0)\n",
        "plt.title('Mon vs Target')\n",
        "plt.show()"
      ],
      "metadata": {
        "colab": {
          "base_uri": "https://localhost:8080/",
          "height": 434
        },
        "id": "obiVihbgTYXo",
        "outputId": "94a1174a-62ad-46bd-9288-6dc26b20b512"
      },
      "execution_count": 50,
      "outputs": [
        {
          "output_type": "display_data",
          "data": {
            "text/plain": [
              "<Figure size 1000x600 with 1 Axes>"
            ],
            "image/png": "[encoded data removed]"
          },
          "metadata": {}
        }
      ]
    },
    {
      "cell_type": "markdown",
      "source": [
        "We can see that month of march, have more insurance policy subscribed.\n",
        "\n",
        "{'may' :0, 'jul' :1, 'jan' :2, 'nov' :3, 'jun' :4, 'aug' :5, 'feb' :6, 'apr' :7, 'oct' :8, 'sep' :9, 'dec' :10, 'mar' :11}"
      ],
      "metadata": {
        "id": "R6vjEvcrRnxF"
      }
    },
    {
      "cell_type": "markdown",
      "source": [
        "### **Prev** **Outcome**"
      ],
      "metadata": {
        "id": "Jp3OEk_hRoSa"
      }
    },
    {
      "cell_type": "code",
      "source": [
        "# Plotting the figure using barplot\n",
        "plt.figure(figsize=(10,6))\n",
        "sns.barplot(x='prev_outcome',y='y',data=data,order=data.groupby('prev_outcome')['y'].mean().reset_index().sort_values('y')['prev_outcome'])\n",
        "plt.xticks(rotation=0)\n",
        "plt.title('Prev_outcome vs Target')\n",
        "plt.show()"
      ],
      "metadata": {
        "colab": {
          "base_uri": "https://localhost:8080/",
          "height": 434
        },
        "id": "ev8Gmaw8Tveu",
        "outputId": "b1ceb622-acba-4e7f-b729-3570506eadc4"
      },
      "execution_count": 51,
      "outputs": [
        {
          "output_type": "display_data",
          "data": {
            "text/plain": [
              "<Figure size 1000x600 with 1 Axes>"
            ],
            "image/png": "[encoded data removed]"
          },
          "metadata": {}
        }
      ]
    },
    {
      "cell_type": "markdown",
      "source": [
        "Success rate is higher for the previous oucome column"
      ],
      "metadata": {
        "id": "7Tdfux9FTvwE"
      }
    },
    {
      "cell_type": "markdown",
      "source": [
        "# **Numerical Data**"
      ],
      "metadata": {
        "id": "XwxyWt7ZRo0J"
      }
    },
    {
      "cell_type": "markdown",
      "source": [
        "# **Age**"
      ],
      "metadata": {
        "id": "S4uGCgBLUDbz"
      }
    },
    {
      "cell_type": "code",
      "source": [
        "# Plotting the figure using barplot\n",
        "sorted_age = sorted(data['age'].unique())\n",
        "plt.figure(figsize=(15,6))\n",
        "sns.barplot(x='age', y='y', data=data, order=sorted_age)\n",
        "plt.xticks(rotation=0)\n",
        "plt.title('Age vs Target')\n",
        "plt.show()"
      ],
      "metadata": {
        "colab": {
          "base_uri": "https://localhost:8080/",
          "height": 303
        },
        "id": "RgxvbXUM7pHW",
        "outputId": "9000eb12-dd68-4e7a-d18f-83cca281a3ba"
      },
      "execution_count": 52,
      "outputs": [
        {
          "output_type": "display_data",
          "data": {
            "text/plain": [
              "<Figure size 1500x600 with 1 Axes>"
            ],
            "image/png": "[encoded data removed]"
          },
          "metadata": {}
        }
      ]
    },
    {
      "cell_type": "markdown",
      "source": [
        "# **Day**"
      ],
      "metadata": {
        "id": "KrsijB2TULmK"
      }
    },
    {
      "cell_type": "code",
      "source": [
        "# Plotting the figure using barplot\n",
        "sorted_days = sorted(data['day'].unique())\n",
        "plt.figure(figsize=(10,6))\n",
        "sns.barplot(x='day', y='y', data=data, order=sorted_days)\n",
        "plt.xticks(rotation=0)\n",
        "plt.title('Day vs Target')\n",
        "plt.show()"
      ],
      "metadata": {
        "colab": {
          "base_uri": "https://localhost:8080/",
          "height": 430
        },
        "id": "EAdGkN7m7pKx",
        "outputId": "2e58a0c3-da02-4723-ee9d-57f6973d273d"
      },
      "execution_count": 53,
      "outputs": [
        {
          "output_type": "display_data",
          "data": {
            "text/plain": [
              "<Figure size 1000x600 with 1 Axes>"
            ],
            "image/png": "[encoded data removed]"
          },
          "metadata": {}
        }
      ]
    },
    {
      "cell_type": "markdown",
      "source": [
        "We can see that the day 1 has the highest conversion rate and day 10 has the second highest conversion rate."
      ],
      "metadata": {
        "id": "sW2iZGQJUYu8"
      }
    },
    {
      "cell_type": "markdown",
      "source": [
        "# **Num calls**"
      ],
      "metadata": {
        "id": "FkchnkW-UmxD"
      }
    },
    {
      "cell_type": "code",
      "source": [
        "# Plotting the figure using barplot\n",
        "sort = sorted(data['num_calls'].unique())\n",
        "plt.figure(figsize=(10,6))\n",
        "sns.barplot(x='num_calls', y='y', data=data, order=sort)\n",
        "plt.xticks(rotation=0)\n",
        "plt.title('Num_calls vs Target')\n",
        "plt.show()"
      ],
      "metadata": {
        "colab": {
          "base_uri": "https://localhost:8080/",
          "height": 430
        },
        "id": "kiFV1LEoVIZg",
        "outputId": "fdf2b2c0-1ebd-4ef3-e4ac-c8f76df44a02"
      },
      "execution_count": 54,
      "outputs": [
        {
          "output_type": "display_data",
          "data": {
            "text/plain": [
              "<Figure size 1000x600 with 1 Axes>"
            ],
            "image/png": "[encoded data removed]"
          },
          "metadata": {}
        }
      ]
    },
    {
      "cell_type": "markdown",
      "source": [
        "we can see that no 1 has the highest conversion rate."
      ],
      "metadata": {
        "id": "21Y10tpMVJFf"
      }
    },
    {
      "cell_type": "markdown",
      "source": [
        "# Dur"
      ],
      "metadata": {
        "id": "dOpkjJeOUnw3"
      }
    },
    {
      "cell_type": "code",
      "source": [
        "# Plotting the figure using barplot\n",
        "sort_dur = sorted(data['dur'].unique())\n",
        "plt.figure(figsize=(15,6))\n",
        "sns.barplot(x='dur', y='y', data=data, order=sort_dur)\n",
        "plt.xticks(rotation=0)\n",
        "plt.title('Dur vs Target')\n",
        "plt.show()"
      ],
      "metadata": {
        "colab": {
          "base_uri": "https://localhost:8080/",
          "height": 300
        },
        "id": "aQ1yw3hlVXwt",
        "outputId": "95123301-4fea-42f3-c19e-7d20be8041c9"
      },
      "execution_count": 55,
      "outputs": [
        {
          "output_type": "display_data",
          "data": {
            "text/plain": [
              "<Figure size 1500x600 with 1 Axes>"
            ],
            "image/png": "[encoded data removed]"
          },
          "metadata": {}
        }
      ]
    },
    {
      "cell_type": "markdown",
      "source": [
        "The plot is not clear and it is difficult to understand the conversion rate.\n",
        "\n"
      ],
      "metadata": {
        "id": "NBXAFh5-VYEf"
      }
    },
    {
      "cell_type": "markdown",
      "source": [
        "# **Features Vs Target plots together (for our reference)**"
      ],
      "metadata": {
        "id": "rUyiwISeUojB"
      }
    },
    {
      "cell_type": "code",
      "source": [
        "# Plotting the figure using barplot\n",
        "plt.figure(figsize=(20,15))\n",
        "\n",
        "plt.subplot(231)\n",
        "sns.barplot(x='job',y='y',data=data,order=data.groupby('job')['y'].mean().reset_index().sort_values('y')['job'])\n",
        "plt.xticks(rotation=45)\n",
        "plt.title('Job vs Target')\n",
        "\n",
        "plt.subplot(232)\n",
        "sns.barplot(x='marital',y='y',data=data,order=data.groupby('marital')['y'].mean().reset_index().sort_values('y')['marital'])\n",
        "plt.xticks(rotation=0)\n",
        "plt.title('Marital vs Target')\n",
        "\n",
        "plt.subplot(233)\n",
        "sns.barplot(x='education_qual',y='y',data=data,order=data.groupby('education_qual')['y'].mean().reset_index().sort_values('y')['education_qual'])\n",
        "plt.xticks(rotation=0)\n",
        "plt.title('Education_qual vs Target')\n",
        "\n",
        "plt.subplot(234)\n",
        "sns.barplot(x='call_type',y='y',data=data,order=data.groupby('call_type')['y'].mean().reset_index().sort_values('y')['call_type'])\n",
        "plt.xticks(rotation=0)\n",
        "plt.title('Call_type vs Target')\n",
        "\n",
        "plt.subplot(235)\n",
        "sns.barplot(x='mon',y='y',data=data,order=data.groupby('mon')['y'].mean().reset_index().sort_values('y')['mon'])\n",
        "plt.xticks(rotation=0)\n",
        "plt.title('Mon vs Target')\n",
        "\n",
        "plt.subplot(236)\n",
        "sns.barplot(x='prev_outcome',y='y',data=data,order=data.groupby('prev_outcome')['y'].mean().reset_index().sort_values('y')['prev_outcome'])\n",
        "plt.xticks(rotation=0)\n",
        "plt.title('Prev_outcome vs Target')\n",
        "\n",
        "plt.show()\n",
        "plt.tight_layout()"
      ],
      "metadata": {
        "colab": {
          "base_uri": "https://localhost:8080/",
          "height": 525
        },
        "id": "eecPva8HV3Nl",
        "outputId": "ee51a6de-b706-47d5-dd65-34372260a137"
      },
      "execution_count": 56,
      "outputs": [
        {
          "output_type": "display_data",
          "data": {
            "text/plain": [
              "<Figure size 2000x1500 with 6 Axes>"
            ],
            "image/png": "[encoded data removed]"
          },
          "metadata": {}
        },
        {
          "output_type": "display_data",
          "data": {
            "text/plain": [
              "<Figure size 640x480 with 0 Axes>"
            ]
          },
          "metadata": {}
        }
      ]
    },
    {
      "cell_type": "markdown",
      "source": [
        "# **Finding Conversion rate for Age & Duration**"
      ],
      "metadata": {
        "id": "1awcjyodUpIP"
      }
    },
    {
      "cell_type": "markdown",
      "source": [
        "# **Age**"
      ],
      "metadata": {
        "id": "OIqmDZBlUqJZ"
      }
    },
    {
      "cell_type": "code",
      "source": [
        "bins = np.linspace(data.age.min(), data.age.max(), 20)\n",
        "c = np.digitize(data.age, bins)\n",
        "\n",
        "# Define colors for each bar based on the condition\n",
        "colors = ['blue' if i == 1 else 'orange' for i in c]\n",
        "\n",
        "plt.bar(\n",
        "    bins[:-1],\n",
        "    [np.mean(data.y.values[c == i]) for i in range(1, len(bins))],\n",
        "    width=bins[1] - bins[0],\n",
        "    color=colors  # Adding the colors parameter\n",
        ")\n",
        "\n",
        "plt.title('Age vs Target')  # Adding the title\n",
        "plt.xlabel('Age', labelpad=12)\n",
        "plt.ylabel('Y', labelpad=12)\n",
        "plt.show()"
      ],
      "metadata": {
        "colab": {
          "base_uri": "https://localhost:8080/",
          "height": 483
        },
        "id": "Fu7cvXgLWlPb",
        "outputId": "99def8a4-4a1b-4ffa-d1c8-49d56fa29cc1"
      },
      "execution_count": 57,
      "outputs": [
        {
          "output_type": "display_data",
          "data": {
            "text/plain": [
              "<Figure size 640x480 with 1 Axes>"
            ],
            "image/png": "[encoded data removed]"
          },
          "metadata": {}
        }
      ]
    },
    {
      "cell_type": "markdown",
      "source": [
        "# **Dur**"
      ],
      "metadata": {
        "id": "KXLScPOgUq3d"
      }
    },
    {
      "cell_type": "code",
      "source": [
        "bins = np.linspace(data.dur.min(), data.dur.max(), 20)\n",
        "c = np.digitize(data.dur, bins)\n",
        "\n",
        "# Define colors for each bar based on the condition\n",
        "colors = ['blue' if i == 1 else 'orange' for i in c]\n",
        "\n",
        "plt.bar(\n",
        "    bins[:-1],\n",
        "    [np.mean(data.y.values[c == i]) for i in range(1, len(bins))],\n",
        "    width=bins[1] - bins[0],\n",
        "    color=colors  # Adding the colors parameter\n",
        ")\n",
        "\n",
        "plt.title('Dur vs Target')  # Adding the title\n",
        "plt.xlabel('Dur', labelpad=12)\n",
        "plt.ylabel('Y', labelpad=12)\n",
        "plt.show()"
      ],
      "metadata": {
        "colab": {
          "base_uri": "https://localhost:8080/",
          "height": 483
        },
        "id": "qBWOge0WWzYR",
        "outputId": "8061ec57-887d-40e5-d28a-c950b0f34e3e"
      },
      "execution_count": 58,
      "outputs": [
        {
          "output_type": "display_data",
          "data": {
            "text/plain": [
              "<Figure size 640x480 with 1 Axes>"
            ],
            "image/png": "[encoded data removed]"
          },
          "metadata": {}
        }
      ]
    },
    {
      "cell_type": "markdown",
      "source": [
        "# Encoding the data"
      ],
      "metadata": {
        "id": "GdPyZkNHUrcd"
      }
    },
    {
      "cell_type": "code",
      "source": [
        "# Checking the data types before encoding\n",
        "data.dtypes"
      ],
      "metadata": {
        "colab": {
          "base_uri": "https://localhost:8080/"
        },
        "id": "YGTr62upW8dv",
        "outputId": "ad2d5048-c6ca-4bb5-81f5-baced3c9bb9b"
      },
      "execution_count": 59,
      "outputs": [
        {
          "output_type": "execute_result",
          "data": {
            "text/plain": [
              "age                int64\n",
              "job               object\n",
              "marital           object\n",
              "education_qual    object\n",
              "call_type         object\n",
              "day                int64\n",
              "mon               object\n",
              "dur                int64\n",
              "num_calls          int64\n",
              "prev_outcome      object\n",
              "y                  int64\n",
              "dtype: object"
            ]
          },
          "metadata": {},
          "execution_count": 59
        }
      ]
    },
    {
      "cell_type": "markdown",
      "source": [
        "# **Label Encoding**"
      ],
      "metadata": {
        "id": "q5OU3g3sUsI5"
      }
    },
    {
      "cell_type": "code",
      "source": [
        "data['job'] = data['job'].map({'blue-collar':0, 'entrepreneur':1, 'housemaid':2, 'services':3, 'technician':4, 'self-employed':5, 'admin.':6, 'management':7, 'unemployed':8, 'retired':9, 'student':10})\n",
        "data['education_qual'] = data['education_qual'].map({'primary':0, 'secondary':1, 'tertiary':2})\n",
        "data['marital'] = data['marital'].map({'married':0, 'divorced':1, 'single':2})\n",
        "\n",
        "data.head()"
      ],
      "metadata": {
        "colab": {
          "base_uri": "https://localhost:8080/",
          "height": 270
        },
        "id": "GF0BW3rJnES5",
        "outputId": "573f3e1c-654a-4ddf-8be9-a43c295092b8"
      },
      "execution_count": 60,
      "outputs": [
        {
          "output_type": "execute_result",
          "data": {
            "text/plain": [
              "   age  job  marital  education_qual call_type  day  mon  dur  num_calls  \\\n",
              "0   58    7        0               2   unknown    5  may  261          1   \n",
              "1   44    4        2               1   unknown    5  may  151          1   \n",
              "2   33    1        0               1   unknown    5  may   76          1   \n",
              "3   47    0        0               1   unknown    5  may   92          1   \n",
              "4   33    0        2               1   unknown    5  may  198          1   \n",
              "\n",
              "  prev_outcome  y  \n",
              "0      unknown  0  \n",
              "1      unknown  0  \n",
              "2      unknown  0  \n",
              "3      unknown  0  \n",
              "4      unknown  0  "
            ],
            "text/html": [
              "\n",
              "\n",
              "  <div id=\"df-2fd35457-2739-49fc-87b2-471784928508\">\n",
              "    <div class=\"colab-df-container\">\n",
              "      <div>\n",
              "<style scoped>\n",
              "    .dataframe tbody tr th:only-of-type {\n",
              "        vertical-align: middle;\n",
              "    }\n",
              "\n",
              "    .dataframe tbody tr th {\n",
              "        vertical-align: top;\n",
              "    }\n",
              "\n",
              "    .dataframe thead th {\n",
              "        text-align: right;\n",
              "    }\n",
              "</style>\n",
              "<table border=\"1\" class=\"dataframe\">\n",
              "  <thead>\n",
              "    <tr style=\"text-align: right;\">\n",
              "      <th></th>\n",
              "      <th>age</th>\n",
              "      <th>job</th>\n",
              "      <th>marital</th>\n",
              "      <th>education_qual</th>\n",
              "      <th>call_type</th>\n",
              "      <th>day</th>\n",
              "      <th>mon</th>\n",
              "      <th>dur</th>\n",
              "      <th>num_calls</th>\n",
              "      <th>prev_outcome</th>\n",
              "      <th>y</th>\n",
              "    </tr>\n",
              "  </thead>\n",
              "  <tbody>\n",
              "    <tr>\n",
              "      <th>0</th>\n",
              "      <td>58</td>\n",
              "      <td>7</td>\n",
              "      <td>0</td>\n",
              "      <td>2</td>\n",
              "      <td>unknown</td>\n",
              "      <td>5</td>\n",
              "      <td>may</td>\n",
              "      <td>261</td>\n",
              "      <td>1</td>\n",
              "      <td>unknown</td>\n",
              "      <td>0</td>\n",
              "    </tr>\n",
              "    <tr>\n",
              "      <th>1</th>\n",
              "      <td>44</td>\n",
              "      <td>4</td>\n",
              "      <td>2</td>\n",
              "      <td>1</td>\n",
              "      <td>unknown</td>\n",
              "      <td>5</td>\n",
              "      <td>may</td>\n",
              "      <td>151</td>\n",
              "      <td>1</td>\n",
              "      <td>unknown</td>\n",
              "      <td>0</td>\n",
              "    </tr>\n",
              "    <tr>\n",
              "      <th>2</th>\n",
              "      <td>33</td>\n",
              "      <td>1</td>\n",
              "      <td>0</td>\n",
              "      <td>1</td>\n",
              "      <td>unknown</td>\n",
              "      <td>5</td>\n",
              "      <td>may</td>\n",
              "      <td>76</td>\n",
              "      <td>1</td>\n",
              "      <td>unknown</td>\n",
              "      <td>0</td>\n",
              "    </tr>\n",
              "    <tr>\n",
              "      <th>3</th>\n",
              "      <td>47</td>\n",
              "      <td>0</td>\n",
              "      <td>0</td>\n",
              "      <td>1</td>\n",
              "      <td>unknown</td>\n",
              "      <td>5</td>\n",
              "      <td>may</td>\n",
              "      <td>92</td>\n",
              "      <td>1</td>\n",
              "      <td>unknown</td>\n",
              "      <td>0</td>\n",
              "    </tr>\n",
              "    <tr>\n",
              "      <th>4</th>\n",
              "      <td>33</td>\n",
              "      <td>0</td>\n",
              "      <td>2</td>\n",
              "      <td>1</td>\n",
              "      <td>unknown</td>\n",
              "      <td>5</td>\n",
              "      <td>may</td>\n",
              "      <td>198</td>\n",
              "      <td>1</td>\n",
              "      <td>unknown</td>\n",
              "      <td>0</td>\n",
              "    </tr>\n",
              "  </tbody>\n",
              "</table>\n",
              "</div>\n",
              "      <button class=\"colab-df-convert\" onclick=\"convertToInteractive('df-2fd35457-2739-49fc-87b2-471784928508')\"\n",
              "              title=\"Convert this dataframe to an interactive table.\"\n",
              "              style=\"display:none;\">\n",
              "\n",
              "  <svg xmlns=\"http://www.w3.org/2000/svg\" height=\"24px\"viewBox=\"0 0 24 24\"\n",
              "       width=\"24px\">\n",
              "    <path d=\"M0 0h24v24H0V0z\" fill=\"none\"/>\n",
              "    <path d=\"M18.56 5.44l.94 2.06.94-2.06 2.06-.94-2.06-.94-.94-2.06-.94 2.06-2.06.94zm-11 1L8.5 8.5l.94-2.06 2.06-.94-2.06-.94L8.5 2.5l-.94 2.06-2.06.94zm10 10l.94 2.06.94-2.06 2.06-.94-2.06-.94-.94-2.06-.94 2.06-2.06.94z\"/><path d=\"M17.41 7.96l-1.37-1.37c-.4-.4-.92-.59-1.43-.59-.52 0-1.04.2-1.43.59L10.3 9.45l-7.72 7.72c-.78.78-.78 2.05 0 2.83L4 21.41c.39.39.9.59 1.41.59.51 0 1.02-.2 1.41-.59l7.78-7.78 2.81-2.81c.8-.78.8-2.07 0-2.86zM5.41 20L4 18.59l7.72-7.72 1.47 1.35L5.41 20z\"/>\n",
              "  </svg>\n",
              "      </button>\n",
              "\n",
              "\n",
              "\n",
              "    <div id=\"df-fff02d56-8f10-4bf2-8d2a-e1eba70be84d\">\n",
              "      <button class=\"colab-df-quickchart\" onclick=\"quickchart('df-fff02d56-8f10-4bf2-8d2a-e1eba70be84d')\"\n",
              "              title=\"Suggest charts.\"\n",
              "              style=\"display:none;\">\n",
              "\n",
              "<svg xmlns=\"http://www.w3.org/2000/svg\" height=\"24px\"viewBox=\"0 0 24 24\"\n",
              "     width=\"24px\">\n",
              "    <g>\n",
              "        <path d=\"M19 3H5c-1.1 0-2 .9-2 2v14c0 1.1.9 2 2 2h14c1.1 0 2-.9 2-2V5c0-1.1-.9-2-2-2zM9 17H7v-7h2v7zm4 0h-2V7h2v10zm4 0h-2v-4h2v4z\"/>\n",
              "    </g>\n",
              "</svg>\n",
              "      </button>\n",
              "    </div>\n",
              "\n",
              "<style>\n",
              "  .colab-df-quickchart {\n",
              "    background-color: #E8F0FE;\n",
              "    border: none;\n",
              "    border-radius: 50%;\n",
              "    cursor: pointer;\n",
              "    display: none;\n",
              "    fill: #1967D2;\n",
              "    height: 32px;\n",
              "    padding: 0 0 0 0;\n",
              "    width: 32px;\n",
              "  }\n",
              "\n",
              "  .colab-df-quickchart:hover {\n",
              "    background-color: #E2EBFA;\n",
              "    box-shadow: 0px 1px 2px rgba(60, 64, 67, 0.3), 0px 1px 3px 1px rgba(60, 64, 67, 0.15);\n",
              "    fill: #174EA6;\n",
              "  }\n",
              "\n",
              "  [theme=dark] .colab-df-quickchart {\n",
              "    background-color: #3B4455;\n",
              "    fill: #D2E3FC;\n",
              "  }\n",
              "\n",
              "  [theme=dark] .colab-df-quickchart:hover {\n",
              "    background-color: #434B5C;\n",
              "    box-shadow: 0px 1px 3px 1px rgba(0, 0, 0, 0.15);\n",
              "    filter: drop-shadow(0px 1px 2px rgba(0, 0, 0, 0.3));\n",
              "    fill: #FFFFFF;\n",
              "  }\n",
              "</style>\n",
              "\n",
              "    <script>\n",
              "      async function quickchart(key) {\n",
              "        const containerElement = document.querySelector('#' + key);\n",
              "        const charts = await google.colab.kernel.invokeFunction(\n",
              "            'suggestCharts', [key], {});\n",
              "      }\n",
              "    </script>\n",
              "\n",
              "      <script>\n",
              "\n",
              "function displayQuickchartButton(domScope) {\n",
              "  let quickchartButtonEl =\n",
              "    domScope.querySelector('#df-fff02d56-8f10-4bf2-8d2a-e1eba70be84d button.colab-df-quickchart');\n",
              "  quickchartButtonEl.style.display =\n",
              "    google.colab.kernel.accessAllowed ? 'block' : 'none';\n",
              "}\n",
              "\n",
              "        displayQuickchartButton(document);\n",
              "      </script>\n",
              "      <style>\n",
              "    .colab-df-container {\n",
              "      display:flex;\n",
              "      flex-wrap:wrap;\n",
              "      gap: 12px;\n",
              "    }\n",
              "\n",
              "    .colab-df-convert {\n",
              "      background-color: #E8F0FE;\n",
              "      border: none;\n",
              "      border-radius: 50%;\n",
              "      cursor: pointer;\n",
              "      display: none;\n",
              "      fill: #1967D2;\n",
              "      height: 32px;\n",
              "      padding: 0 0 0 0;\n",
              "      width: 32px;\n",
              "    }\n",
              "\n",
              "    .colab-df-convert:hover {\n",
              "      background-color: #E2EBFA;\n",
              "      box-shadow: 0px 1px 2px rgba(60, 64, 67, 0.3), 0px 1px 3px 1px rgba(60, 64, 67, 0.15);\n",
              "      fill: #174EA6;\n",
              "    }\n",
              "\n",
              "    [theme=dark] .colab-df-convert {\n",
              "      background-color: #3B4455;\n",
              "      fill: #D2E3FC;\n",
              "    }\n",
              "\n",
              "    [theme=dark] .colab-df-convert:hover {\n",
              "      background-color: #434B5C;\n",
              "      box-shadow: 0px 1px 3px 1px rgba(0, 0, 0, 0.15);\n",
              "      filter: drop-shadow(0px 1px 2px rgba(0, 0, 0, 0.3));\n",
              "      fill: #FFFFFF;\n",
              "    }\n",
              "  </style>\n",
              "\n",
              "      <script>\n",
              "        const buttonEl =\n",
              "          document.querySelector('#df-2fd35457-2739-49fc-87b2-471784928508 button.colab-df-convert');\n",
              "        buttonEl.style.display =\n",
              "          google.colab.kernel.accessAllowed ? 'block' : 'none';\n",
              "\n",
              "        async function convertToInteractive(key) {\n",
              "          const element = document.querySelector('#df-2fd35457-2739-49fc-87b2-471784928508');\n",
              "          const dataTable =\n",
              "            await google.colab.kernel.invokeFunction('convertToInteractive',\n",
              "                                                     [key], {});\n",
              "          if (!dataTable) return;\n",
              "\n",
              "          const docLinkHtml = 'Like what you see? Visit the ' +\n",
              "            '<a target=\"_blank\" href=https://colab.research.google.com/notebooks/data_table.ipynb>data table notebook</a>'\n",
              "            + ' to learn more about interactive tables.';\n",
              "          element.innerHTML = '';\n",
              "          dataTable['output_type'] = 'display_data';\n",
              "          await google.colab.output.renderOutput(dataTable, element);\n",
              "          const docLink = document.createElement('div');\n",
              "          docLink.innerHTML = docLinkHtml;\n",
              "          element.appendChild(docLink);\n",
              "        }\n",
              "      </script>\n",
              "    </div>\n",
              "  </div>\n"
            ]
          },
          "metadata": {},
          "execution_count": 60
        }
      ]
    },
    {
      "cell_type": "markdown",
      "source": [
        "# **One Hot Encoding**"
      ],
      "metadata": {
        "id": "ahT1PhS1UssG"
      }
    },
    {
      "cell_type": "code",
      "source": [
        "data= pd.get_dummies(data, columns=['call_type','mon','prev_outcome'])\n",
        "\n",
        "data.head()"
      ],
      "metadata": {
        "colab": {
          "base_uri": "https://localhost:8080/",
          "height": 299
        },
        "id": "qMF357BZniH6",
        "outputId": "813007e5-e4da-41bb-f606-ed14bcc426af"
      },
      "execution_count": 61,
      "outputs": [
        {
          "output_type": "execute_result",
          "data": {
            "text/plain": [
              "   age  job  marital  education_qual  day  dur  num_calls  y  \\\n",
              "0   58    7        0               2    5  261          1  0   \n",
              "1   44    4        2               1    5  151          1  0   \n",
              "2   33    1        0               1    5   76          1  0   \n",
              "3   47    0        0               1    5   92          1  0   \n",
              "4   33    0        2               1    5  198          1  0   \n",
              "\n",
              "   call_type_cellular  call_type_telephone  ...  mon_jun  mon_mar  mon_may  \\\n",
              "0                   0                    0  ...        0        0        1   \n",
              "1                   0                    0  ...        0        0        1   \n",
              "2                   0                    0  ...        0        0        1   \n",
              "3                   0                    0  ...        0        0        1   \n",
              "4                   0                    0  ...        0        0        1   \n",
              "\n",
              "   mon_nov  mon_oct  mon_sep  prev_outcome_failure  prev_outcome_other  \\\n",
              "0        0        0        0                     0                   0   \n",
              "1        0        0        0                     0                   0   \n",
              "2        0        0        0                     0                   0   \n",
              "3        0        0        0                     0                   0   \n",
              "4        0        0        0                     0                   0   \n",
              "\n",
              "   prev_outcome_success  prev_outcome_unknown  \n",
              "0                     0                     1  \n",
              "1                     0                     1  \n",
              "2                     0                     1  \n",
              "3                     0                     1  \n",
              "4                     0                     1  \n",
              "\n",
              "[5 rows x 27 columns]"
            ],
            "text/html": [
              "\n",
              "\n",
              "  <div id=\"df-b28ba8bf-509d-461a-a046-ec51bf075c66\">\n",
              "    <div class=\"colab-df-container\">\n",
              "      <div>\n",
              "<style scoped>\n",
              "    .dataframe tbody tr th:only-of-type {\n",
              "        vertical-align: middle;\n",
              "    }\n",
              "\n",
              "    .dataframe tbody tr th {\n",
              "        vertical-align: top;\n",
              "    }\n",
              "\n",
              "    .dataframe thead th {\n",
              "        text-align: right;\n",
              "    }\n",
              "</style>\n",
              "<table border=\"1\" class=\"dataframe\">\n",
              "  <thead>\n",
              "    <tr style=\"text-align: right;\">\n",
              "      <th></th>\n",
              "      <th>age</th>\n",
              "      <th>job</th>\n",
              "      <th>marital</th>\n",
              "      <th>education_qual</th>\n",
              "      <th>day</th>\n",
              "      <th>dur</th>\n",
              "      <th>num_calls</th>\n",
              "      <th>y</th>\n",
              "      <th>call_type_cellular</th>\n",
              "      <th>call_type_telephone</th>\n",
              "      <th>...</th>\n",
              "      <th>mon_jun</th>\n",
              "      <th>mon_mar</th>\n",
              "      <th>mon_may</th>\n",
              "      <th>mon_nov</th>\n",
              "      <th>mon_oct</th>\n",
              "      <th>mon_sep</th>\n",
              "      <th>prev_outcome_failure</th>\n",
              "      <th>prev_outcome_other</th>\n",
              "      <th>prev_outcome_success</th>\n",
              "      <th>prev_outcome_unknown</th>\n",
              "    </tr>\n",
              "  </thead>\n",
              "  <tbody>\n",
              "    <tr>\n",
              "      <th>0</th>\n",
              "      <td>58</td>\n",
              "      <td>7</td>\n",
              "      <td>0</td>\n",
              "      <td>2</td>\n",
              "      <td>5</td>\n",
              "      <td>261</td>\n",
              "      <td>1</td>\n",
              "      <td>0</td>\n",
              "      <td>0</td>\n",
              "      <td>0</td>\n",
              "      <td>...</td>\n",
              "      <td>0</td>\n",
              "      <td>0</td>\n",
              "      <td>1</td>\n",
              "      <td>0</td>\n",
              "      <td>0</td>\n",
              "      <td>0</td>\n",
              "      <td>0</td>\n",
              "      <td>0</td>\n",
              "      <td>0</td>\n",
              "      <td>1</td>\n",
              "    </tr>\n",
              "    <tr>\n",
              "      <th>1</th>\n",
              "      <td>44</td>\n",
              "      <td>4</td>\n",
              "      <td>2</td>\n",
              "      <td>1</td>\n",
              "      <td>5</td>\n",
              "      <td>151</td>\n",
              "      <td>1</td>\n",
              "      <td>0</td>\n",
              "      <td>0</td>\n",
              "      <td>0</td>\n",
              "      <td>...</td>\n",
              "      <td>0</td>\n",
              "      <td>0</td>\n",
              "      <td>1</td>\n",
              "      <td>0</td>\n",
              "      <td>0</td>\n",
              "      <td>0</td>\n",
              "      <td>0</td>\n",
              "      <td>0</td>\n",
              "      <td>0</td>\n",
              "      <td>1</td>\n",
              "    </tr>\n",
              "    <tr>\n",
              "      <th>2</th>\n",
              "      <td>33</td>\n",
              "      <td>1</td>\n",
              "      <td>0</td>\n",
              "      <td>1</td>\n",
              "      <td>5</td>\n",
              "      <td>76</td>\n",
              "      <td>1</td>\n",
              "      <td>0</td>\n",
              "      <td>0</td>\n",
              "      <td>0</td>\n",
              "      <td>...</td>\n",
              "      <td>0</td>\n",
              "      <td>0</td>\n",
              "      <td>1</td>\n",
              "      <td>0</td>\n",
              "      <td>0</td>\n",
              "      <td>0</td>\n",
              "      <td>0</td>\n",
              "      <td>0</td>\n",
              "      <td>0</td>\n",
              "      <td>1</td>\n",
              "    </tr>\n",
              "    <tr>\n",
              "      <th>3</th>\n",
              "      <td>47</td>\n",
              "      <td>0</td>\n",
              "      <td>0</td>\n",
              "      <td>1</td>\n",
              "      <td>5</td>\n",
              "      <td>92</td>\n",
              "      <td>1</td>\n",
              "      <td>0</td>\n",
              "      <td>0</td>\n",
              "      <td>0</td>\n",
              "      <td>...</td>\n",
              "      <td>0</td>\n",
              "      <td>0</td>\n",
              "      <td>1</td>\n",
              "      <td>0</td>\n",
              "      <td>0</td>\n",
              "      <td>0</td>\n",
              "      <td>0</td>\n",
              "      <td>0</td>\n",
              "      <td>0</td>\n",
              "      <td>1</td>\n",
              "    </tr>\n",
              "    <tr>\n",
              "      <th>4</th>\n",
              "      <td>33</td>\n",
              "      <td>0</td>\n",
              "      <td>2</td>\n",
              "      <td>1</td>\n",
              "      <td>5</td>\n",
              "      <td>198</td>\n",
              "      <td>1</td>\n",
              "      <td>0</td>\n",
              "      <td>0</td>\n",
              "      <td>0</td>\n",
              "      <td>...</td>\n",
              "      <td>0</td>\n",
              "      <td>0</td>\n",
              "      <td>1</td>\n",
              "      <td>0</td>\n",
              "      <td>0</td>\n",
              "      <td>0</td>\n",
              "      <td>0</td>\n",
              "      <td>0</td>\n",
              "      <td>0</td>\n",
              "      <td>1</td>\n",
              "    </tr>\n",
              "  </tbody>\n",
              "</table>\n",
              "<p>5 rows × 27 columns</p>\n",
              "</div>\n",
              "      <button class=\"colab-df-convert\" onclick=\"convertToInteractive('df-b28ba8bf-509d-461a-a046-ec51bf075c66')\"\n",
              "              title=\"Convert this dataframe to an interactive table.\"\n",
              "              style=\"display:none;\">\n",
              "\n",
              "  <svg xmlns=\"http://www.w3.org/2000/svg\" height=\"24px\"viewBox=\"0 0 24 24\"\n",
              "       width=\"24px\">\n",
              "    <path d=\"M0 0h24v24H0V0z\" fill=\"none\"/>\n",
              "    <path d=\"M18.56 5.44l.94 2.06.94-2.06 2.06-.94-2.06-.94-.94-2.06-.94 2.06-2.06.94zm-11 1L8.5 8.5l.94-2.06 2.06-.94-2.06-.94L8.5 2.5l-.94 2.06-2.06.94zm10 10l.94 2.06.94-2.06 2.06-.94-2.06-.94-.94-2.06-.94 2.06-2.06.94z\"/><path d=\"M17.41 7.96l-1.37-1.37c-.4-.4-.92-.59-1.43-.59-.52 0-1.04.2-1.43.59L10.3 9.45l-7.72 7.72c-.78.78-.78 2.05 0 2.83L4 21.41c.39.39.9.59 1.41.59.51 0 1.02-.2 1.41-.59l7.78-7.78 2.81-2.81c.8-.78.8-2.07 0-2.86zM5.41 20L4 18.59l7.72-7.72 1.47 1.35L5.41 20z\"/>\n",
              "  </svg>\n",
              "      </button>\n",
              "\n",
              "\n",
              "\n",
              "    <div id=\"df-56aa4940-c471-48fd-a146-f5ba891ce264\">\n",
              "      <button class=\"colab-df-quickchart\" onclick=\"quickchart('df-56aa4940-c471-48fd-a146-f5ba891ce264')\"\n",
              "              title=\"Suggest charts.\"\n",
              "              style=\"display:none;\">\n",
              "\n",
              "<svg xmlns=\"http://www.w3.org/2000/svg\" height=\"24px\"viewBox=\"0 0 24 24\"\n",
              "     width=\"24px\">\n",
              "    <g>\n",
              "        <path d=\"M19 3H5c-1.1 0-2 .9-2 2v14c0 1.1.9 2 2 2h14c1.1 0 2-.9 2-2V5c0-1.1-.9-2-2-2zM9 17H7v-7h2v7zm4 0h-2V7h2v10zm4 0h-2v-4h2v4z\"/>\n",
              "    </g>\n",
              "</svg>\n",
              "      </button>\n",
              "    </div>\n",
              "\n",
              "<style>\n",
              "  .colab-df-quickchart {\n",
              "    background-color: #E8F0FE;\n",
              "    border: none;\n",
              "    border-radius: 50%;\n",
              "    cursor: pointer;\n",
              "    display: none;\n",
              "    fill: #1967D2;\n",
              "    height: 32px;\n",
              "    padding: 0 0 0 0;\n",
              "    width: 32px;\n",
              "  }\n",
              "\n",
              "  .colab-df-quickchart:hover {\n",
              "    background-color: #E2EBFA;\n",
              "    box-shadow: 0px 1px 2px rgba(60, 64, 67, 0.3), 0px 1px 3px 1px rgba(60, 64, 67, 0.15);\n",
              "    fill: #174EA6;\n",
              "  }\n",
              "\n",
              "  [theme=dark] .colab-df-quickchart {\n",
              "    background-color: #3B4455;\n",
              "    fill: #D2E3FC;\n",
              "  }\n",
              "\n",
              "  [theme=dark] .colab-df-quickchart:hover {\n",
              "    background-color: #434B5C;\n",
              "    box-shadow: 0px 1px 3px 1px rgba(0, 0, 0, 0.15);\n",
              "    filter: drop-shadow(0px 1px 2px rgba(0, 0, 0, 0.3));\n",
              "    fill: #FFFFFF;\n",
              "  }\n",
              "</style>\n",
              "\n",
              "    <script>\n",
              "      async function quickchart(key) {\n",
              "        const containerElement = document.querySelector('#' + key);\n",
              "        const charts = await google.colab.kernel.invokeFunction(\n",
              "            'suggestCharts', [key], {});\n",
              "      }\n",
              "    </script>\n",
              "\n",
              "      <script>\n",
              "\n",
              "function displayQuickchartButton(domScope) {\n",
              "  let quickchartButtonEl =\n",
              "    domScope.querySelector('#df-56aa4940-c471-48fd-a146-f5ba891ce264 button.colab-df-quickchart');\n",
              "  quickchartButtonEl.style.display =\n",
              "    google.colab.kernel.accessAllowed ? 'block' : 'none';\n",
              "}\n",
              "\n",
              "        displayQuickchartButton(document);\n",
              "      </script>\n",
              "      <style>\n",
              "    .colab-df-container {\n",
              "      display:flex;\n",
              "      flex-wrap:wrap;\n",
              "      gap: 12px;\n",
              "    }\n",
              "\n",
              "    .colab-df-convert {\n",
              "      background-color: #E8F0FE;\n",
              "      border: none;\n",
              "      border-radius: 50%;\n",
              "      cursor: pointer;\n",
              "      display: none;\n",
              "      fill: #1967D2;\n",
              "      height: 32px;\n",
              "      padding: 0 0 0 0;\n",
              "      width: 32px;\n",
              "    }\n",
              "\n",
              "    .colab-df-convert:hover {\n",
              "      background-color: #E2EBFA;\n",
              "      box-shadow: 0px 1px 2px rgba(60, 64, 67, 0.3), 0px 1px 3px 1px rgba(60, 64, 67, 0.15);\n",
              "      fill: #174EA6;\n",
              "    }\n",
              "\n",
              "    [theme=dark] .colab-df-convert {\n",
              "      background-color: #3B4455;\n",
              "      fill: #D2E3FC;\n",
              "    }\n",
              "\n",
              "    [theme=dark] .colab-df-convert:hover {\n",
              "      background-color: #434B5C;\n",
              "      box-shadow: 0px 1px 3px 1px rgba(0, 0, 0, 0.15);\n",
              "      filter: drop-shadow(0px 1px 2px rgba(0, 0, 0, 0.3));\n",
              "      fill: #FFFFFF;\n",
              "    }\n",
              "  </style>\n",
              "\n",
              "      <script>\n",
              "        const buttonEl =\n",
              "          document.querySelector('#df-b28ba8bf-509d-461a-a046-ec51bf075c66 button.colab-df-convert');\n",
              "        buttonEl.style.display =\n",
              "          google.colab.kernel.accessAllowed ? 'block' : 'none';\n",
              "\n",
              "        async function convertToInteractive(key) {\n",
              "          const element = document.querySelector('#df-b28ba8bf-509d-461a-a046-ec51bf075c66');\n",
              "          const dataTable =\n",
              "            await google.colab.kernel.invokeFunction('convertToInteractive',\n",
              "                                                     [key], {});\n",
              "          if (!dataTable) return;\n",
              "\n",
              "          const docLinkHtml = 'Like what you see? Visit the ' +\n",
              "            '<a target=\"_blank\" href=https://colab.research.google.com/notebooks/data_table.ipynb>data table notebook</a>'\n",
              "            + ' to learn more about interactive tables.';\n",
              "          element.innerHTML = '';\n",
              "          dataTable['output_type'] = 'display_data';\n",
              "          await google.colab.output.renderOutput(dataTable, element);\n",
              "          const docLink = document.createElement('div');\n",
              "          docLink.innerHTML = docLinkHtml;\n",
              "          element.appendChild(docLink);\n",
              "        }\n",
              "      </script>\n",
              "    </div>\n",
              "  </div>\n"
            ]
          },
          "metadata": {},
          "execution_count": 61
        }
      ]
    },
    {
      "cell_type": "markdown",
      "source": [
        "# **Target and Feature**"
      ],
      "metadata": {
        "id": "RsWMgriLUtYF"
      }
    },
    {
      "cell_type": "code",
      "source": [
        "X = data[['age','job','marital','education_qual','day','dur','num_calls','call_type_cellular','call_type_telephone','call_type_unknown','mon_apr',\n",
        "          'mon_aug','mon_dec','mon_feb','mon_jan','mon_jul','mon_jun','mon_mar','mon_may','mon_nov','mon_oct','mon_sep','prev_outcome_failure','prev_outcome_other','prev_outcome_success','prev_outcome_unknown']].values\n",
        "\n",
        "y = data['y'].values"
      ],
      "metadata": {
        "id": "1nRvp14Kn2Pa"
      },
      "execution_count": 62,
      "outputs": []
    },
    {
      "cell_type": "markdown",
      "source": [
        "# **Splitting the data**"
      ],
      "metadata": {
        "id": "c34rbZ1IUt6d"
      }
    },
    {
      "cell_type": "code",
      "source": [
        "from sklearn.model_selection import train_test_split\n",
        "\n",
        "X_train,X_test,y_train,y_test = train_test_split(X,y,test_size=0.20,random_state=0)"
      ],
      "metadata": {
        "id": "oyUREeGToUzL"
      },
      "execution_count": 63,
      "outputs": []
    },
    {
      "cell_type": "code",
      "source": [
        "X_train.shape, X_test.shape, y_train.shape, y_test.shape"
      ],
      "metadata": {
        "colab": {
          "base_uri": "https://localhost:8080/"
        },
        "id": "7GayvkyOoaor",
        "outputId": "f55f624a-2fd2-4729-ad58-9788aae615ec"
      },
      "execution_count": 64,
      "outputs": [
        {
          "output_type": "execute_result",
          "data": {
            "text/plain": [
              "((36164, 26), (9041, 26), (36164,), (9041,))"
            ]
          },
          "metadata": {},
          "execution_count": 64
        }
      ]
    },
    {
      "cell_type": "markdown",
      "source": [
        "# **Balancing the data using (SMOTEENN)**"
      ],
      "metadata": {
        "id": "wwcXbTiyUujz"
      }
    },
    {
      "cell_type": "code",
      "source": [
        "# Balancing the data using SMOTEENN\n",
        "\n",
        "from imblearn.combine import SMOTEENN\n",
        "\n",
        "smt = SMOTEENN(sampling_strategy='all')\n",
        "X_train, y_train = smt.fit_resample(X_train, y_train)"
      ],
      "metadata": {
        "id": "E_mc5HeUo582"
      },
      "execution_count": 65,
      "outputs": []
    },
    {
      "cell_type": "code",
      "source": [
        "# Checking whether it is balanced or not\n",
        "print(len(X_train))\n",
        "print(len(y_train))"
      ],
      "metadata": {
        "colab": {
          "base_uri": "https://localhost:8080/"
        },
        "id": "f87mPsfUqtYM",
        "outputId": "29436e9f-2256-4558-8390-c0e979a7d62c"
      },
      "execution_count": 66,
      "outputs": [
        {
          "output_type": "stream",
          "name": "stdout",
          "text": [
            "51375\n",
            "51375\n"
          ]
        }
      ]
    },
    {
      "cell_type": "markdown",
      "source": [
        "# **Scaling the data**"
      ],
      "metadata": {
        "id": "LGE4-tm_UvGS"
      }
    },
    {
      "cell_type": "code",
      "source": [
        "# Scaling the data\n",
        "\n",
        "from sklearn.preprocessing import StandardScaler\n",
        "\n",
        "scaler = StandardScaler()\n",
        "X_train_scaled = scaler.fit_transform(X_train)\n",
        "X_test_scaled = scaler.transform(X_test)"
      ],
      "metadata": {
        "id": "z8Kj0ZaPrDqu"
      },
      "execution_count": 67,
      "outputs": []
    },
    {
      "cell_type": "markdown",
      "source": [
        "# **Modelling**"
      ],
      "metadata": {
        "id": "O5WtnJScUvuH"
      }
    },
    {
      "cell_type": "markdown",
      "source": [
        "### **1) Logistic Regression**"
      ],
      "metadata": {
        "id": "o06Gs0YqUwN_"
      }
    },
    {
      "cell_type": "code",
      "source": [
        "from sklearn.linear_model import LogisticRegression\n",
        "from sklearn.metrics import f1_score\n",
        "from sklearn.metrics import roc_auc_score\n",
        "\n",
        "# Creating an instance to LR\n",
        "Lr = LogisticRegression()\n",
        "\n",
        "# fitting the model to training dataset\n",
        "Lr.fit(X_train,y_train)\n",
        "\n",
        "# To find the Training accuracy\n",
        "Lr.score(X_train,y_train)\n",
        "\n",
        "# To make predictions on the test dataset\n",
        "y_pred = Lr.predict(X_test)\n",
        "\n",
        "print(\"Training Accuracy :\",Lr.score(X_train,y_train))\n",
        "print(\"Testing Accuracy :\",Lr.score(X_test,y_test))\n",
        "print(\"F1 Score :\", f1_score(y_test,y_pred))\n",
        "print(\"ROC AUC Score :\", roc_auc_score(y_test,y_pred))"
      ],
      "metadata": {
        "colab": {
          "base_uri": "https://localhost:8080/"
        },
        "id": "hDFjylkbroxx",
        "outputId": "6bbb07da-52a0-4aae-b03d-1e85907a5372"
      },
      "execution_count": 68,
      "outputs": [
        {
          "output_type": "stream",
          "name": "stdout",
          "text": [
            "Training Accuracy : 0.9361751824817518\n",
            "Testing Accuracy : 0.8274527154075877\n",
            "F1 Score : 0.5243902439024392\n",
            "ROC AUC Score : 0.8155787095154406\n"
          ]
        }
      ]
    },
    {
      "cell_type": "code",
      "source": [
        "# Training Accuracy for Linear Regression\n",
        "Lr = LogisticRegression()\n",
        "Lr.fit(X_train, y_train)\n",
        "Lr.score(X_train,y_train)\n",
        "\n",
        "lr_Train = Lr.score(X_train,y_train)\n",
        "print(lr_Train)"
      ],
      "metadata": {
        "colab": {
          "base_uri": "https://localhost:8080/"
        },
        "id": "Frq23e3ursLj",
        "outputId": "8ba766ed-9208-48f5-f3c8-8a5b8c80401d"
      },
      "execution_count": 69,
      "outputs": [
        {
          "output_type": "stream",
          "name": "stdout",
          "text": [
            "0.9361751824817518\n"
          ]
        }
      ]
    },
    {
      "cell_type": "code",
      "source": [
        "# Testing accuracy for Linear Regression\n",
        "Lr = LogisticRegression()\n",
        "Lr.fit(X_train, y_train)\n",
        "Lr.score(X_test,y_test)\n",
        "\n",
        "lr_Test = Lr.score(X_test,y_test)\n",
        "print(lr_Test)"
      ],
      "metadata": {
        "colab": {
          "base_uri": "https://localhost:8080/"
        },
        "id": "afWICI_JrsV6",
        "outputId": "b46779e5-c79d-4401-85bf-7fb1a3045f0d"
      },
      "execution_count": 70,
      "outputs": [
        {
          "output_type": "stream",
          "name": "stdout",
          "text": [
            "0.8274527154075877\n"
          ]
        }
      ]
    },
    {
      "cell_type": "code",
      "source": [
        "# ROC AUC score for Linear Regression\n",
        "Lr = LogisticRegression()\n",
        "Lr.fit(X_train, y_train)\n",
        "y_pred = Lr.predict(X_test)\n",
        "\n",
        "lr_auroc = roc_auc_score(y_test, y_pred)\n",
        "\n",
        "print(lr_auroc)"
      ],
      "metadata": {
        "colab": {
          "base_uri": "https://localhost:8080/"
        },
        "id": "2O6V83XZrsgn",
        "outputId": "f0c64696-c96a-445d-8807-8bcf53128aca"
      },
      "execution_count": 71,
      "outputs": [
        {
          "output_type": "stream",
          "name": "stdout",
          "text": [
            "0.8155787095154406\n"
          ]
        }
      ]
    },
    {
      "cell_type": "code",
      "source": [
        "# F1_Score for Linear Regression\n",
        "Lr = LogisticRegression()\n",
        "Lr.fit(X_train, y_train)\n",
        "y_pred = Lr.predict(X_test)\n",
        "\n",
        "lr_f1 = f1_score(y_test, y_pred)\n",
        "lr_f1"
      ],
      "metadata": {
        "colab": {
          "base_uri": "https://localhost:8080/"
        },
        "id": "57q8Pn1rrsqC",
        "outputId": "38b72cde-4dc6-4eee-aad5-e51b9c749204"
      },
      "execution_count": 72,
      "outputs": [
        {
          "output_type": "execute_result",
          "data": {
            "text/plain": [
              "0.5243902439024392"
            ]
          },
          "metadata": {},
          "execution_count": 72
        }
      ]
    },
    {
      "cell_type": "markdown",
      "source": [
        "# **2) Decision Tree**"
      ],
      "metadata": {
        "id": "cN4VaM0vUwzf"
      }
    },
    {
      "cell_type": "code",
      "source": [
        "from sklearn.tree import DecisionTreeClassifier\n",
        "from sklearn.metrics import accuracy_score\n",
        "from sklearn.model_selection import cross_val_score\n",
        "\n",
        "for depth in [1,2,3,4,5,6,7,8,9,10,20,40,60]:\n",
        "    dt = DecisionTreeClassifier(max_depth=depth) #this will stop the tree when it reaches the max depth\n",
        "\n",
        "    # fitting the model to training dataset\n",
        "    dt.fit(X_train, y_train)\n",
        "    # To find the Training accuracy\n",
        "    trainAccuracy = accuracy_score(y_train, dt.predict(X_train))\n",
        "\n",
        "    #By setting the maximum depth for DTC\n",
        "    dt = DecisionTreeClassifier(max_depth=depth)\n",
        "\n",
        "    #It evaluvate the classifier using K-Fold cross validation\n",
        "    #No of folds is 10\n",
        "    #the performance metric used for the model is F1 Score so 'Scoring' = 'f1'\n",
        "    valAccuracy = cross_val_score(dt, X_train, y_train, cv=10, scoring='f1')\n",
        "\n",
        "    #setting the max depth for another DTC\n",
        "    dt = DecisionTreeClassifier(max_depth=depth)\n",
        "    #Training the model\n",
        "    dt.fit(X_train,y_train)\n",
        "\n",
        "    #predicting the test dataset\n",
        "    y_pred = dt.predict(X_test)\n",
        "\n",
        "    #Used to evaluvate the binary classification models\n",
        "    roc = roc_auc_score(y_test,y_pred)\n",
        "\n",
        "    print(\"Depth  : \", depth, \" Training Accuracy : \", trainAccuracy, \" Cross val score : \" ,np.mean(valAccuracy))"
      ],
      "metadata": {
        "colab": {
          "base_uri": "https://localhost:8080/"
        },
        "id": "KR9xOn_hvHkR",
        "outputId": "74c87b11-a851-4cec-aed2-cae84d025431"
      },
      "execution_count": 73,
      "outputs": [
        {
          "output_type": "stream",
          "name": "stdout",
          "text": [
            "Depth  :  1  Training Accuracy :  0.7959513381995134  Cross val score :  0.8263677136716658\n",
            "Depth  :  2  Training Accuracy :  0.8316885644768857  Cross val score :  0.8627211811970996\n",
            "Depth  :  3  Training Accuracy :  0.8808953771289537  Cross val score :  0.9023520650551227\n",
            "Depth  :  4  Training Accuracy :  0.892301703163017  Cross val score :  0.9103736972696914\n",
            "Depth  :  5  Training Accuracy :  0.9067639902676399  Cross val score :  0.9179891127205048\n",
            "Depth  :  6  Training Accuracy :  0.9211484184914842  Cross val score :  0.9288703861479439\n",
            "Depth  :  7  Training Accuracy :  0.9338588807785888  Cross val score :  0.9390948213546861\n",
            "Depth  :  8  Training Accuracy :  0.9447980535279805  Cross val score :  0.9460502897442916\n",
            "Depth  :  9  Training Accuracy :  0.9517664233576643  Cross val score :  0.949444120342864\n",
            "Depth  :  10  Training Accuracy :  0.9607591240875912  Cross val score :  0.9553384518914827\n",
            "Depth  :  20  Training Accuracy :  0.9991824817518248  Cross val score :  0.9595332298625874\n",
            "Depth  :  40  Training Accuracy :  1.0  Cross val score :  0.9598065891244876\n",
            "Depth  :  60  Training Accuracy :  1.0  Cross val score :  0.9593047880435668\n"
          ]
        }
      ]
    },
    {
      "cell_type": "code",
      "source": [
        "t = DecisionTreeClassifier(max_depth=40)\n",
        "t.fit(X_train,y_train)\n",
        "y_pred = t.predict(X_test)\n",
        "print(\"Training Accuracy :\",t.score(X_train,y_train))\n",
        "print(\"Testing Accuracy :\",t.score(X_test,y_test))\n",
        "print(\"F1 Score :\", f1_score(y_test,y_pred))\n",
        "print(\"ROC AUC Score :\", roc_auc_score(y_test,y_pred))"
      ],
      "metadata": {
        "colab": {
          "base_uri": "https://localhost:8080/"
        },
        "id": "5QPimS0-wYDZ",
        "outputId": "15cace9d-dc14-4a4a-8b29-1e5b11e9a548"
      },
      "execution_count": 74,
      "outputs": [
        {
          "output_type": "stream",
          "name": "stdout",
          "text": [
            "Training Accuracy : 1.0\n",
            "Testing Accuracy : 0.8494635549164915\n",
            "F1 Score : 0.5285763768617942\n",
            "ROC AUC Score : 0.7890413910281487\n"
          ]
        }
      ]
    },
    {
      "cell_type": "code",
      "source": [
        "# Training Accuracy for Decision Tree Classifier\n",
        "t = DecisionTreeClassifier(max_depth=40)\n",
        "t.fit(X_train,y_train)\n",
        "t.score(X_train,y_train)\n",
        "\n",
        "dt_train = t.score(X_train,y_train)\n",
        "print(dt_train)"
      ],
      "metadata": {
        "colab": {
          "base_uri": "https://localhost:8080/"
        },
        "id": "_KwIHLRVwZrP",
        "outputId": "b76657f4-522b-4061-993d-1455371edc4e"
      },
      "execution_count": 75,
      "outputs": [
        {
          "output_type": "stream",
          "name": "stdout",
          "text": [
            "1.0\n"
          ]
        }
      ]
    },
    {
      "cell_type": "code",
      "source": [
        "# Testing Accuracy for Decision Tree Classifier\n",
        "t = DecisionTreeClassifier(max_depth=40)\n",
        "t.fit(X_train,y_train)\n",
        "t.score(X_train,y_train)\n",
        "\n",
        "dt_test = t.score(X_test,y_test)\n",
        "print(dt_test)"
      ],
      "metadata": {
        "colab": {
          "base_uri": "https://localhost:8080/"
        },
        "id": "n_dL_69YwZ0U",
        "outputId": "2830eb7a-9d3e-4c38-a7c4-ab6937640d56"
      },
      "execution_count": 76,
      "outputs": [
        {
          "output_type": "stream",
          "name": "stdout",
          "text": [
            "0.8509014489547616\n"
          ]
        }
      ]
    },
    {
      "cell_type": "code",
      "source": [
        "# F1_Score for Decision Tree Classifier\n",
        "t = DecisionTreeClassifier(max_depth=40)\n",
        "t.fit(X_train,y_train)\n",
        "y_pred = t.predict(X_test)\n",
        "\n",
        "dt_f1 = f1_score(y_test,y_pred)\n",
        "print(dt_f1)"
      ],
      "metadata": {
        "colab": {
          "base_uri": "https://localhost:8080/"
        },
        "id": "12xczkq3waAs",
        "outputId": "d1628d65-4ab8-4571-8f59-920a3a44416a"
      },
      "execution_count": 77,
      "outputs": [
        {
          "output_type": "stream",
          "name": "stdout",
          "text": [
            "0.5278733654507914\n"
          ]
        }
      ]
    },
    {
      "cell_type": "code",
      "source": [
        "# ROC AUC score for Decision Tree Classifier\n",
        "t = DecisionTreeClassifier(max_depth=40)\n",
        "t.fit(X_train,y_train)\n",
        "y_pred = t.predict(X_test)\n",
        "\n",
        "dt_auroc = roc_auc_score(y_test, y_pred)\n",
        "print(dt_auroc)"
      ],
      "metadata": {
        "colab": {
          "base_uri": "https://localhost:8080/"
        },
        "id": "dA_6LJ2lwaKc",
        "outputId": "409b5246-5c8e-4c65-959c-89c351b79ce5"
      },
      "execution_count": 78,
      "outputs": [
        {
          "output_type": "stream",
          "name": "stdout",
          "text": [
            "0.7905365244148095\n"
          ]
        }
      ]
    },
    {
      "cell_type": "markdown",
      "source": [
        "# **Feature Importance**"
      ],
      "metadata": {
        "id": "DqvoIJy2UxXv"
      }
    },
    {
      "cell_type": "code",
      "source": [
        "data.columns"
      ],
      "metadata": {
        "colab": {
          "base_uri": "https://localhost:8080/"
        },
        "id": "KFd6Y7Jqw6uZ",
        "outputId": "43aae1c7-ebae-4cc5-f889-a6dd5d6e87f0"
      },
      "execution_count": 79,
      "outputs": [
        {
          "output_type": "execute_result",
          "data": {
            "text/plain": [
              "Index(['age', 'job', 'marital', 'education_qual', 'day', 'dur', 'num_calls',\n",
              "       'y', 'call_type_cellular', 'call_type_telephone', 'call_type_unknown',\n",
              "       'mon_apr', 'mon_aug', 'mon_dec', 'mon_feb', 'mon_jan', 'mon_jul',\n",
              "       'mon_jun', 'mon_mar', 'mon_may', 'mon_nov', 'mon_oct', 'mon_sep',\n",
              "       'prev_outcome_failure', 'prev_outcome_other', 'prev_outcome_success',\n",
              "       'prev_outcome_unknown'],\n",
              "      dtype='object')"
            ]
          },
          "metadata": {},
          "execution_count": 79
        }
      ]
    },
    {
      "cell_type": "code",
      "source": [
        "X_test = pd.DataFrame(X_test, columns = ['age', 'job', 'marital', 'education_qual', 'day', 'dur', 'num_calls',\n",
        "       'call_type_cellular', 'call_type_telephone', 'call_type_unknown',\n",
        "       'mon_apr', 'mon_aug', 'mon_dec', 'mon_feb', 'mon_jan', 'mon_jul',\n",
        "       'mon_jun', 'mon_mar', 'mon_may', 'mon_nov', 'mon_oct', 'mon_sep',\n",
        "       'prev_outcome_failure', 'prev_outcome_other', 'prev_outcome_success',\n",
        "       'prev_outcome_unknown'])\n",
        "\n",
        "# Creating instance of decision tree classifier with maximum depth\n",
        "dtc = DecisionTreeClassifier(max_depth=40)\n",
        "\n",
        "# Fitting the model with training data for prediction\n",
        "dtc.fit(X_train, y_train)\n",
        "\n",
        "# this retrieves the feature importance from the model\n",
        "importance = dtc.feature_importances_\n",
        "\n",
        "# this combines the feature names and its importance in a list of tuples\n",
        "feature_importances = list(zip(X_test.columns, importance))\n",
        "\n",
        "# This sorts the values in descending order (gets the second element of each tuple)\n",
        "feature_importances.sort(key=lambda x: x[1], reverse=True)\n",
        "\n",
        "# Finding the maximum length of feature names for consistent spacing\n",
        "max_length = max(len(feature) for feature, _ in feature_importances)\n",
        "\n",
        "# Printing the sorted feature importances with consistent spacing\n",
        "for feature, importance in feature_importances:\n",
        "    spacing = ' ' * (max_length - len(feature) + 1)\n",
        "    print(feature + ':' + spacing, importance)\n"
      ],
      "metadata": {
        "colab": {
          "base_uri": "https://localhost:8080/"
        },
        "id": "wi2v04aXw63K",
        "outputId": "2089adcf-914a-43d5-fb25-b6500f58611f"
      },
      "execution_count": 80,
      "outputs": [
        {
          "output_type": "stream",
          "name": "stdout",
          "text": [
            "dur:                   0.46261123122641784\n",
            "prev_outcome_unknown:  0.1092319688677789\n",
            "prev_outcome_failure:  0.06861894274806517\n",
            "call_type_unknown:     0.06847234877180598\n",
            "age:                   0.044074095034420765\n",
            "day:                   0.04111643128669977\n",
            "prev_outcome_other:    0.03713712484531453\n",
            "mon_may:               0.024810797700194995\n",
            "mon_jul:               0.023086680549404066\n",
            "mon_nov:               0.019199436720391202\n",
            "mon_aug:               0.01738565207127643\n",
            "job:                   0.0152536257532426\n",
            "mon_feb:               0.012126635859705106\n",
            "mon_apr:               0.011485715897742109\n",
            "mon_jan:               0.01023531661259814\n",
            "num_calls:             0.01022543384068944\n",
            "marital:               0.004645637218824735\n",
            "education_qual:        0.004117801552364741\n",
            "call_type_telephone:   0.0031684349711108067\n",
            "prev_outcome_success:  0.00293213461002419\n",
            "mon_jun:               0.0025943254806111648\n",
            "mon_oct:               0.0022188226110679936\n",
            "call_type_cellular:    0.001987651850107695\n",
            "mon_mar:               0.001667932361342474\n",
            "mon_sep:               0.0012602933302318185\n",
            "mon_dec:               0.00033552822856748815\n"
          ]
        }
      ]
    },
    {
      "cell_type": "markdown",
      "source": [
        "The Feature importance is\n",
        "\n",
        "1) Duration of the call\n",
        "\n",
        "2) Previous outcome unknown\n",
        "\n",
        "3) Call type unknown"
      ],
      "metadata": {
        "id": "5BOBtFHyxUQO"
      }
    },
    {
      "cell_type": "markdown",
      "source": [
        "# **3) K-Nearest Neighbour**"
      ],
      "metadata": {
        "id": "mZUKuI6hUyFO"
      }
    },
    {
      "cell_type": "code",
      "source": [
        "from sklearn.neighbors import KNeighborsClassifier\n",
        "\n",
        "for i in [1,2,3,4,5,6,7,8,9,10,20,30,40,50]:\n",
        "    knn= KNeighborsClassifier(i)\n",
        "    knn.fit(X_train, y_train)\n",
        "    print(\"K value  : \" , i, \" Train score : \", knn.score(X_train,y_train) , \" Cross val score : \", np.mean(cross_val_score(knn, X_train, y_train, cv=10, scoring='f1')))"
      ],
      "metadata": {
        "colab": {
          "base_uri": "https://localhost:8080/"
        },
        "id": "i4AUdo_MxxGq",
        "outputId": "8b855c33-8d5d-4aad-f9f8-04353788f684"
      },
      "execution_count": 81,
      "outputs": [
        {
          "output_type": "stream",
          "name": "stdout",
          "text": [
            "K value  :  1  Train score :  1.0  Cross val score :  0.9949695201863984\n",
            "K value  :  2  Train score :  0.9996885644768857  Cross val score :  0.9953104584024534\n",
            "K value  :  3  Train score :  0.9964379562043796  Cross val score :  0.9858088831580781\n",
            "K value  :  4  Train score :  0.9962238442822384  Cross val score :  0.9864140416142204\n",
            "K value  :  5  Train score :  0.9877761557177616  Cross val score :  0.9746512964495911\n",
            "K value  :  6  Train score :  0.9884963503649635  Cross val score :  0.9771057830105121\n",
            "K value  :  7  Train score :  0.9778491484184915  Cross val score :  0.9667525986104557\n",
            "K value  :  8  Train score :  0.9799124087591241  Cross val score :  0.9688747480076685\n",
            "K value  :  9  Train score :  0.9693430656934306  Cross val score :  0.959450030082024\n",
            "K value  :  10  Train score :  0.97130900243309  Cross val score :  0.9616696154952862\n",
            "K value  :  20  Train score :  0.9391338199513382  Cross val score :  0.9374695744930645\n",
            "K value  :  30  Train score :  0.9198442822384428  Cross val score :  0.9235426142124872\n",
            "K value  :  40  Train score :  0.904934306569343  Cross val score :  0.9125980976264364\n",
            "K value  :  50  Train score :  0.8951240875912408  Cross val score :  0.9042494499251816\n"
          ]
        }
      ]
    },
    {
      "cell_type": "code",
      "source": [
        "from sklearn.neighbors import KNeighborsClassifier\n",
        "knn = KNeighborsClassifier(4)\n",
        "knn.fit(X_train,y_train)\n",
        "y_pred = knn.predict(X_test)\n",
        "print(\"Training Accuracy :\",knn.score(X_train,y_train))\n",
        "print(\"Testing Accuracy :\",knn.score(X_test,y_test))\n",
        "print(\"F1 Score :\", f1_score(y_test,y_pred))\n",
        "print(\"ROC AUC Score :\", roc_auc_score(y_test,y_pred))"
      ],
      "metadata": {
        "colab": {
          "base_uri": "https://localhost:8080/"
        },
        "id": "_49UpHOXxyY3",
        "outputId": "d1c5b04c-40ef-4ec5-dc53-0a6c0bae8a3c"
      },
      "execution_count": 82,
      "outputs": [
        {
          "output_type": "stream",
          "name": "stdout",
          "text": [
            "Training Accuracy : 0.9962238442822384\n",
            "Testing Accuracy : 0.7121999778785533\n",
            "F1 Score : 0.3730120481927711\n",
            "ROC AUC Score : 0.7155736881747425\n"
          ]
        }
      ]
    },
    {
      "cell_type": "code",
      "source": [
        "# Training Accuracy for KNN classifier\n",
        "knn = KNeighborsClassifier(4)\n",
        "knn.fit(X_train,y_train)\n",
        "knn.score(X_train,y_train)\n",
        "\n",
        "knn_train = knn.score(X_train,y_train)\n",
        "print(knn_train)"
      ],
      "metadata": {
        "id": "3I6Yh50vxyjp",
        "colab": {
          "base_uri": "https://localhost:8080/"
        },
        "outputId": "3b34bd1f-273c-43dc-e77c-d79be7869f86"
      },
      "execution_count": 83,
      "outputs": [
        {
          "output_type": "stream",
          "name": "stdout",
          "text": [
            "0.9962238442822384\n"
          ]
        }
      ]
    },
    {
      "cell_type": "code",
      "source": [
        "# Testing Accuracy for KNN classifier\n",
        "knn = KNeighborsClassifier(4)\n",
        "knn.fit(X_train,y_train)\n",
        "knn.score(X_train,y_train)\n",
        "\n",
        "knn_test = knn.score(X_test,y_test)\n",
        "print(knn_test)"
      ],
      "metadata": {
        "id": "qeBzNVpYxyrN",
        "colab": {
          "base_uri": "https://localhost:8080/"
        },
        "outputId": "36d83da1-05e2-4603-b8c1-b8f4e7bc8c2a"
      },
      "execution_count": 84,
      "outputs": [
        {
          "output_type": "stream",
          "name": "stdout",
          "text": [
            "0.7121999778785533\n"
          ]
        }
      ]
    },
    {
      "cell_type": "code",
      "source": [
        "# F1_Score for KNN classifier\n",
        "knn = KNeighborsClassifier(4)\n",
        "knn.fit(X_train,y_train)\n",
        "y_pred = knn.predict(X_test)\n",
        "\n",
        "knn_f1 = f1_score(y_test,y_pred)\n",
        "print(knn_f1)"
      ],
      "metadata": {
        "id": "EafSis8qxyzR",
        "colab": {
          "base_uri": "https://localhost:8080/"
        },
        "outputId": "13f818f7-077c-4236-947e-58bbfbed18f2"
      },
      "execution_count": 85,
      "outputs": [
        {
          "output_type": "stream",
          "name": "stdout",
          "text": [
            "0.3730120481927711\n"
          ]
        }
      ]
    },
    {
      "cell_type": "code",
      "source": [
        "# ROC AUC score for KNN classifier\n",
        "knn = KNeighborsClassifier(4)\n",
        "knn.fit(X_train,y_train)\n",
        "y_pred = knn.predict(X_test)\n",
        "\n",
        "knn_auroc = roc_auc_score(y_test, y_pred)\n",
        "print(knn_auroc)"
      ],
      "metadata": {
        "id": "_H-xv_xVxy7G",
        "colab": {
          "base_uri": "https://localhost:8080/"
        },
        "outputId": "4b3e780b-7623-48ec-b46a-adf79f6c6834"
      },
      "execution_count": 86,
      "outputs": [
        {
          "output_type": "stream",
          "name": "stdout",
          "text": [
            "0.7155736881747425\n"
          ]
        }
      ]
    },
    {
      "cell_type": "markdown",
      "source": [
        "# **4) XG-Boost**"
      ],
      "metadata": {
        "id": "uL2cuxb0UypN"
      }
    },
    {
      "cell_type": "code",
      "source": [
        "import xgboost as xgb\n",
        "from xgboost import XGBClassifier\n",
        "for i in [0.01,0.02,0.03,0.04,0.05,0.06,0.07,0.08,0.09,0.1,0.11,0.12,0.13,0.14,0.15,0.2,0.5,0.7,1]:\n",
        "       model = xgb.XGBClassifier(learning_rate = i, n_estimators=100, verbosity = 0)\n",
        "       model.fit(X_train,y_train)\n",
        "       model.score(X_test, y_test)\n",
        "\n",
        "       print(\"Learning rate : \", i, \" Train score : \", model.score(X_train,y_train), \" Cross-Val score : \", np.mean(cross_val_score(model, X_train, y_train, cv=10, scoring='f1')))"
      ],
      "metadata": {
        "id": "eb37Qj2dx5ih",
        "colab": {
          "base_uri": "https://localhost:8080/"
        },
        "outputId": "5b3a6604-c072-445e-bbd7-08e039e220e4"
      },
      "execution_count": 87,
      "outputs": [
        {
          "output_type": "stream",
          "name": "stdout",
          "text": [
            "Learning rate :  0.01  Train score :  0.9394452554744526  Cross-Val score :  0.9429019963477243\n",
            "Learning rate :  0.02  Train score :  0.9507153284671532  Cross-Val score :  0.95229159352498\n",
            "Learning rate :  0.03  Train score :  0.9567883211678833  Cross-Val score :  0.9570904942737659\n",
            "Learning rate :  0.04  Train score :  0.965625304136253  Cross-Val score :  0.9639429421844807\n",
            "Learning rate :  0.05  Train score :  0.9694598540145986  Cross-Val score :  0.9659800101941791\n",
            "Learning rate :  0.06  Train score :  0.9717566909975669  Cross-Val score :  0.9672972241037104\n",
            "Learning rate :  0.07  Train score :  0.9737615571776156  Cross-Val score :  0.9680636147681174\n",
            "Learning rate :  0.08  Train score :  0.9747931873479319  Cross-Val score :  0.9685392306465882\n",
            "Learning rate :  0.09  Train score :  0.9755328467153285  Cross-Val score :  0.9687832374759775\n",
            "Learning rate :  0.1  Train score :  0.9767980535279805  Cross-Val score :  0.9691645867101302\n",
            "Learning rate :  0.11  Train score :  0.9775571776155718  Cross-Val score :  0.9694049499540393\n",
            "Learning rate :  0.12  Train score :  0.9781411192214112  Cross-Val score :  0.9698781889241841\n",
            "Learning rate :  0.13  Train score :  0.9788029197080292  Cross-Val score :  0.9694931250822828\n",
            "Learning rate :  0.14  Train score :  0.9784720194647202  Cross-Val score :  0.9695725763763482\n",
            "Learning rate :  0.15  Train score :  0.9794063260340633  Cross-Val score :  0.9691915659308392\n",
            "Learning rate :  0.2  Train score :  0.9818588807785888  Cross-Val score :  0.96978849726001\n",
            "Learning rate :  0.5  Train score :  0.9937712895377129  Cross-Val score :  0.970159699611662\n",
            "Learning rate :  0.7  Train score :  0.997742092457421  Cross-Val score :  0.9701122837501508\n",
            "Learning rate :  1  Train score :  0.9992408759124087  Cross-Val score :  0.9692844303220092\n"
          ]
        }
      ]
    },
    {
      "cell_type": "code",
      "source": [
        "xg = XGBClassifier(learning_rate = 0.7, n_estimators=100, verbosity = 0)\n",
        "xg.fit(X_train,y_train)\n",
        "y_pred = xg.predict(X_test)\n",
        "print(\"Training Accuracy :\",xg.score(X_train,y_train))\n",
        "print(\"Testing Accuracy :\",xg.score(X_test,y_test))\n",
        "print(\"F1 Score :\", f1_score(y_test,y_pred))\n",
        "print(\"ROC AUC Score :\", roc_auc_score(y_test,y_pred))"
      ],
      "metadata": {
        "id": "2moeWe3yx5qI",
        "colab": {
          "base_uri": "https://localhost:8080/"
        },
        "outputId": "485b65ec-ec55-4390-e1ad-0d79a271c92d"
      },
      "execution_count": 88,
      "outputs": [
        {
          "output_type": "stream",
          "name": "stdout",
          "text": [
            "Training Accuracy : 0.997742092457421\n",
            "Testing Accuracy : 0.8711425727242562\n",
            "F1 Score : 0.5864394746183883\n",
            "ROC AUC Score : 0.8266916955199132\n"
          ]
        }
      ]
    },
    {
      "cell_type": "code",
      "source": [
        "# Training Accuracy for XG-Boost classifier\n",
        "xg = XGBClassifier(learning_rate = 0.5, n_estimators=100, verbosity = 0)\n",
        "xg.fit(X_train,y_train)\n",
        "xg.score(X_train,y_train)\n",
        "\n",
        "xg_train = xg.score(X_train,y_train)\n",
        "print(xg_train)"
      ],
      "metadata": {
        "id": "V0kV1Zlkx514",
        "colab": {
          "base_uri": "https://localhost:8080/"
        },
        "outputId": "f63ea43b-d879-4cab-a759-3d8f0327c957"
      },
      "execution_count": 89,
      "outputs": [
        {
          "output_type": "stream",
          "name": "stdout",
          "text": [
            "0.9937712895377129\n"
          ]
        }
      ]
    },
    {
      "cell_type": "code",
      "source": [
        "# Testing Accuracy for XG-Boost classifier\n",
        "xg = XGBClassifier(learning_rate = 0.5, n_estimators=100, verbosity = 0)\n",
        "xg.fit(X_train,y_train)\n",
        "xg.score(X_train,y_train)\n",
        "\n",
        "xg_test = xg.score(X_test,y_test)\n",
        "print(xg_test)"
      ],
      "metadata": {
        "id": "Zy3zoRq0x6Al",
        "colab": {
          "base_uri": "https://localhost:8080/"
        },
        "outputId": "d095198a-5831-4ba9-fd64-a576df38183c"
      },
      "execution_count": 90,
      "outputs": [
        {
          "output_type": "stream",
          "name": "stdout",
          "text": [
            "0.8705895365556907\n"
          ]
        }
      ]
    },
    {
      "cell_type": "code",
      "source": [
        "# F1_Score for XG-Boost classifier\n",
        "xg = XGBClassifier(learning_rate = 0.5, n_estimators=100, verbosity = 0)\n",
        "xg.fit(X_train,y_train)\n",
        "y_pred = xg.predict(X_test)\n",
        "\n",
        "xg_f1 = f1_score(y_test,y_pred)\n",
        "print(xg_f1)"
      ],
      "metadata": {
        "id": "31OEdjQZx6II",
        "colab": {
          "base_uri": "https://localhost:8080/"
        },
        "outputId": "73edddc8-224b-47a8-a822-567fa65acc53"
      },
      "execution_count": 91,
      "outputs": [
        {
          "output_type": "stream",
          "name": "stdout",
          "text": [
            "0.5891853932584269\n"
          ]
        }
      ]
    },
    {
      "cell_type": "code",
      "source": [
        "# ROC AUC Score for XG-Boost classifier\n",
        "xg = XGBClassifier(learning_rate = 0.5, n_estimators=100, verbosity = 0)\n",
        "xg.fit(X_train,y_train)\n",
        "y_pred = xg.predict(X_test)\n",
        "\n",
        "xg_auroc = roc_auc_score(y_test, y_pred)\n",
        "print(xg_auroc)"
      ],
      "metadata": {
        "id": "KwigY1bOx6Qu",
        "colab": {
          "base_uri": "https://localhost:8080/"
        },
        "outputId": "5d35e933-a613-4200-b6eb-747d3d5ffc93"
      },
      "execution_count": 92,
      "outputs": [
        {
          "output_type": "stream",
          "name": "stdout",
          "text": [
            "0.8316084054907777\n"
          ]
        }
      ]
    },
    {
      "cell_type": "markdown",
      "source": [
        "# **Feature Importance for XG-Boost**"
      ],
      "metadata": {
        "id": "xTrdYcC9UzRq"
      }
    },
    {
      "cell_type": "code",
      "source": [
        "data.columns"
      ],
      "metadata": {
        "id": "xuhqIms2x7K6",
        "colab": {
          "base_uri": "https://localhost:8080/"
        },
        "outputId": "4dfefe13-654c-4858-f9ce-679caf8af44e"
      },
      "execution_count": 93,
      "outputs": [
        {
          "output_type": "execute_result",
          "data": {
            "text/plain": [
              "Index(['age', 'job', 'marital', 'education_qual', 'day', 'dur', 'num_calls',\n",
              "       'y', 'call_type_cellular', 'call_type_telephone', 'call_type_unknown',\n",
              "       'mon_apr', 'mon_aug', 'mon_dec', 'mon_feb', 'mon_jan', 'mon_jul',\n",
              "       'mon_jun', 'mon_mar', 'mon_may', 'mon_nov', 'mon_oct', 'mon_sep',\n",
              "       'prev_outcome_failure', 'prev_outcome_other', 'prev_outcome_success',\n",
              "       'prev_outcome_unknown'],\n",
              "      dtype='object')"
            ]
          },
          "metadata": {},
          "execution_count": 93
        }
      ]
    },
    {
      "cell_type": "code",
      "source": [
        "X_test = pd.DataFrame(X_test, columns = ['age', 'job', 'marital', 'education_qual', 'day', 'dur', 'num_calls',\n",
        "       'call_type_cellular', 'call_type_telephone', 'call_type_unknown',\n",
        "       'mon_apr', 'mon_aug', 'mon_dec', 'mon_feb', 'mon_jan', 'mon_jul',\n",
        "       'mon_jun', 'mon_mar', 'mon_may', 'mon_nov', 'mon_oct', 'mon_sep',\n",
        "       'prev_outcome_failure', 'prev_outcome_other', 'prev_outcome_success',\n",
        "       'prev_outcome_unknown'])\n",
        "\n",
        "# Creating instance of decision tree classifier with maximum depth\n",
        "xgboost_model = xgb.XGBClassifier(learning_rate = 0.5)\n",
        "\n",
        "# Fitting the model with training data for prediction\n",
        "xgboost_model.fit(X_train, y_train)\n",
        "\n",
        "# this retrieves the feature importance from the model\n",
        "importance = xgboost_model.feature_importances_\n",
        "\n",
        "# this combines the feature names and its importance in a list of tuples\n",
        "feature_importances = list(zip(X_test.columns, importance))\n",
        "\n",
        "# This sorts the values in descending order (gets the second element of each tuple)\n",
        "feature_importances.sort(key=lambda x: x[1], reverse=True)\n",
        "\n",
        "# Finding the maximum length of feature names for consistent spacing\n",
        "max_length = max(len(feature) for feature, _ in feature_importances)\n",
        "\n",
        "# Printing the sorted feature importances with consistent spacing\n",
        "for feature, importance in feature_importances:\n",
        "    spacing = ' ' * (max_length - len(feature) + 1)\n",
        "    print(feature + ':' + spacing, importance)"
      ],
      "metadata": {
        "id": "OvL90VJpx7Uj",
        "colab": {
          "base_uri": "https://localhost:8080/"
        },
        "outputId": "9d8ffb66-a37f-49a7-bf03-f705f714579f"
      },
      "execution_count": 94,
      "outputs": [
        {
          "output_type": "stream",
          "name": "stdout",
          "text": [
            "prev_outcome_failure:  0.15468112\n",
            "call_type_unknown:     0.13844742\n",
            "prev_outcome_other:    0.12096939\n",
            "prev_outcome_unknown:  0.112480804\n",
            "mon_may:               0.06329206\n",
            "mon_nov:               0.06208166\n",
            "mon_aug:               0.0610903\n",
            "mon_jul:               0.056772858\n",
            "mon_jan:               0.0389697\n",
            "dur:                   0.038555104\n",
            "mon_feb:               0.026725516\n",
            "mon_apr:               0.024039088\n",
            "mon_jun:               0.013930668\n",
            "prev_outcome_success:  0.013717785\n",
            "mon_oct:               0.009703025\n",
            "mon_mar:               0.008616345\n",
            "num_calls:             0.008422247\n",
            "mon_sep:               0.007926573\n",
            "call_type_cellular:    0.0072931065\n",
            "call_type_telephone:   0.0060571036\n",
            "mon_dec:               0.005982124\n",
            "job:                   0.0054981695\n",
            "day:                   0.005446419\n",
            "age:                   0.0048899353\n",
            "education_qual:        0.0024456384\n",
            "marital:               0.0019658606\n"
          ]
        }
      ]
    },
    {
      "cell_type": "markdown",
      "source": [
        "The feature importance is:\n",
        "\n",
        "call_type Unknown\n",
        "\n",
        "Prev_outcome_failure\n",
        "\n",
        "prev_outcome_other"
      ],
      "metadata": {
        "id": "0DiEmbtjthmc"
      }
    },
    {
      "cell_type": "markdown",
      "source": [
        "# **Random Forest**"
      ],
      "metadata": {
        "id": "LBqAh6n0CJcK"
      }
    },
    {
      "cell_type": "code",
      "source": [
        "from sklearn.ensemble import RandomForestClassifier\n",
        "random = RandomForestClassifier(max_depth=2,n_estimators=100,max_features=\"sqrt\")\n",
        "random.fit(X_train, y_train)\n",
        "y_pred= random.predict(X_test)"
      ],
      "metadata": {
        "id": "oX9yJ3uJx8Yl"
      },
      "execution_count": 95,
      "outputs": []
    },
    {
      "cell_type": "code",
      "source": [
        "for depth in [1,2,3,4,5,6,7,8,9,10]:\n",
        "    random = RandomForestClassifier(max_depth=2,n_estimators=100,max_features=\"sqrt\")\n",
        "    random.fit(X_train, y_train)\n",
        "    random = RandomForestClassifier(max_depth=2,n_estimators=100,max_features=\"sqrt\")\n",
        "    valAccuracy = cross_val_score(random, X_train, y_train, cv=10, scoring='f1')\n",
        "\n",
        "    print(\"Depth  : \", depth, \" Training Accuracy : \", trainAccuracy, \" Cross val score : \" ,np.mean(valAccuracy))"
      ],
      "metadata": {
        "id": "RBov_v9Px8f5",
        "colab": {
          "base_uri": "https://localhost:8080/"
        },
        "outputId": "f261c1f8-74e4-427d-91c6-d0b35fe96e5f"
      },
      "execution_count": 96,
      "outputs": [
        {
          "output_type": "stream",
          "name": "stdout",
          "text": [
            "Depth  :  1  Training Accuracy :  1.0  Cross val score :  0.88883056314929\n",
            "Depth  :  2  Training Accuracy :  1.0  Cross val score :  0.8935166153832096\n",
            "Depth  :  3  Training Accuracy :  1.0  Cross val score :  0.8936581927011836\n",
            "Depth  :  4  Training Accuracy :  1.0  Cross val score :  0.889146019619233\n",
            "Depth  :  5  Training Accuracy :  1.0  Cross val score :  0.8910987867412719\n",
            "Depth  :  6  Training Accuracy :  1.0  Cross val score :  0.8901257048866814\n",
            "Depth  :  7  Training Accuracy :  1.0  Cross val score :  0.8884513027371232\n",
            "Depth  :  8  Training Accuracy :  1.0  Cross val score :  0.8938738232124008\n",
            "Depth  :  9  Training Accuracy :  1.0  Cross val score :  0.8872243432403699\n",
            "Depth  :  10  Training Accuracy :  1.0  Cross val score :  0.8879059401830048\n"
          ]
        }
      ]
    },
    {
      "cell_type": "code",
      "source": [
        "random = RandomForestClassifier(n_estimators= 100, max_depth = 10, max_features='sqrt')\n",
        "random.fit(X_train, y_train)\n",
        "predictions = random.predict(X_test)\n",
        "print(\"Training Accuracy :\",random.score(X_train,y_train))\n",
        "print(\"Testing Accuracy :\",random.score(X_test,y_test))\n",
        "print(\"F1 Score :\", f1_score(y_test,predictions))\n",
        "print(\"ROC AUC Score :\", roc_auc_score(y_test,predictions))"
      ],
      "metadata": {
        "id": "Kkpv5kfKx8nu",
        "colab": {
          "base_uri": "https://localhost:8080/"
        },
        "outputId": "35cbfef8-d1e9-4392-b3d3-9a0a281a5f3f"
      },
      "execution_count": 97,
      "outputs": [
        {
          "output_type": "stream",
          "name": "stdout",
          "text": [
            "Training Accuracy : 0.9634452554744526\n",
            "Testing Accuracy : 0.8361906868709214\n",
            "F1 Score : 0.5556555655565557\n",
            "ROC AUC Score : 0.8470923517974648\n"
          ]
        }
      ]
    },
    {
      "cell_type": "code",
      "source": [
        "# Training Accuracy for Random Forest classifier\n",
        "random = RandomForestClassifier(n_estimators= 100, max_depth = 10, max_features='sqrt')\n",
        "random.fit(X_train, y_train)\n",
        "random.score(X_train,y_train)\n",
        "\n",
        "random_train = random.score(X_train,y_train)\n",
        "print(random_train)"
      ],
      "metadata": {
        "id": "gwUmBFGNx8vg",
        "colab": {
          "base_uri": "https://localhost:8080/"
        },
        "outputId": "7267a503-5dac-420a-ae21-80bccf40490d"
      },
      "execution_count": 98,
      "outputs": [
        {
          "output_type": "stream",
          "name": "stdout",
          "text": [
            "0.9630559610705596\n"
          ]
        }
      ]
    },
    {
      "cell_type": "code",
      "source": [
        "# Testing Accuracy for Random Forest classifier\n",
        "random = RandomForestClassifier(n_estimators= 100, max_depth = 10, max_features='sqrt')\n",
        "random.fit(X_train, y_train)\n",
        "random.score(X_train,y_train)\n",
        "\n",
        "random_test = random.score(X_test,y_test)\n",
        "print(random_test)"
      ],
      "metadata": {
        "id": "aX_vHYEox83V",
        "colab": {
          "base_uri": "https://localhost:8080/"
        },
        "outputId": "c6baad81-859e-4d35-a4c6-29c66de08b66"
      },
      "execution_count": 99,
      "outputs": [
        {
          "output_type": "stream",
          "name": "stdout",
          "text": [
            "0.8377391881429046\n"
          ]
        }
      ]
    },
    {
      "cell_type": "code",
      "source": [
        "# F1_Score for Random Forest classifier\n",
        "random = RandomForestClassifier(n_estimators= 100, max_depth = 10, max_features='sqrt')\n",
        "random.fit(X_train, y_train)\n",
        "predictions = random.predict(X_test)\n",
        "\n",
        "random_f1 = f1_score(y_test,predictions)\n",
        "print(random_f1)"
      ],
      "metadata": {
        "id": "qiEfK2_sx8_b",
        "colab": {
          "base_uri": "https://localhost:8080/"
        },
        "outputId": "332283a1-8fd6-4381-ef04-5b2ddfdc7cd1"
      },
      "execution_count": 100,
      "outputs": [
        {
          "output_type": "stream",
          "name": "stdout",
          "text": [
            "0.5508196721311476\n"
          ]
        }
      ]
    },
    {
      "cell_type": "code",
      "source": [
        "# ROC AUC score for Random Forest classifier\n",
        "random = RandomForestClassifier(n_estimators= 100, max_depth = 10, max_features='sqrt')\n",
        "random.fit(X_train, y_train)\n",
        "predictions = random.predict(X_test)\n",
        "\n",
        "random_auroc = roc_auc_score(y_test,predictions)\n",
        "print(random_auroc)"
      ],
      "metadata": {
        "colab": {
          "base_uri": "https://localhost:8080/"
        },
        "id": "-LAV3JwtshLr",
        "outputId": "3def37b3-f748-4ad1-b381-e45462b0fdf9"
      },
      "execution_count": 101,
      "outputs": [
        {
          "output_type": "stream",
          "name": "stdout",
          "text": [
            "0.8452318866811858\n"
          ]
        }
      ]
    },
    {
      "cell_type": "code",
      "source": [
        "data.columns"
      ],
      "metadata": {
        "colab": {
          "base_uri": "https://localhost:8080/"
        },
        "id": "Ujr24tIfskvL",
        "outputId": "62c1236e-a4d1-4ff5-d2cc-3f0ed6534166"
      },
      "execution_count": 102,
      "outputs": [
        {
          "output_type": "execute_result",
          "data": {
            "text/plain": [
              "Index(['age', 'job', 'marital', 'education_qual', 'day', 'dur', 'num_calls',\n",
              "       'y', 'call_type_cellular', 'call_type_telephone', 'call_type_unknown',\n",
              "       'mon_apr', 'mon_aug', 'mon_dec', 'mon_feb', 'mon_jan', 'mon_jul',\n",
              "       'mon_jun', 'mon_mar', 'mon_may', 'mon_nov', 'mon_oct', 'mon_sep',\n",
              "       'prev_outcome_failure', 'prev_outcome_other', 'prev_outcome_success',\n",
              "       'prev_outcome_unknown'],\n",
              "      dtype='object')"
            ]
          },
          "metadata": {},
          "execution_count": 102
        }
      ]
    },
    {
      "cell_type": "markdown",
      "source": [
        "# **Conclusion**"
      ],
      "metadata": {
        "id": "jBDMy8MQU0jV"
      }
    },
    {
      "cell_type": "code",
      "source": [
        "# Creating a dataframe to analyse the best value of F1_Score\n",
        "models = {'Model_Classifier':['Logistic Regression','Decision Tree','K-Nearest Neighbour','XG-Boost','Random Forest'],\n",
        "          'Train_Accuracy':[lr_Train,dt_train,knn_train,xg_train,random_train],\n",
        "          'Test_Accuracy': [lr_Test,dt_test,knn_test,xg_test,random_test],\n",
        "          'roc_auc_score': [lr_auroc,dt_auroc,knn_auroc,xg_auroc,random_auroc],\n",
        "          'F1_Score':      [lr_f1,dt_f1,knn_f1,xg_f1,random_f1]}"
      ],
      "metadata": {
        "id": "6yCK3b6Fx92O"
      },
      "execution_count": 103,
      "outputs": []
    },
    {
      "cell_type": "code",
      "source": [
        "# Assuming `models` is a list of models\n",
        "mdf = pd.DataFrame(models)\n",
        "\n",
        "# Applying alignment using the `style` attribute\n",
        "mdf_styled = mdf.style.set_properties(**{'text-align': 'center', 'white-space': 'pre'}).set_table_styles([{'selector': 'th', 'props': [('text-align', 'center')]}])\n",
        "\n",
        "# Displaying the styled dataframe\n",
        "display(mdf_styled)"
      ],
      "metadata": {
        "id": "UNC-HQDNx9-2",
        "colab": {
          "base_uri": "https://localhost:8080/",
          "height": 206
        },
        "outputId": "12453dc3-6953-4518-b940-0877220f7730"
      },
      "execution_count": 104,
      "outputs": [
        {
          "output_type": "display_data",
          "data": {
            "text/plain": [
              "<pandas.io.formats.style.Styler at 0x7a2aabdea140>"
            ],
            "text/html": [
              "<style type=\"text/css\">\n",
              "#T_dc29f th {\n",
              "  text-align: center;\n",
              "}\n",
              "#T_dc29f_row0_col0, #T_dc29f_row0_col1, #T_dc29f_row0_col2, #T_dc29f_row0_col3, #T_dc29f_row0_col4, #T_dc29f_row1_col0, #T_dc29f_row1_col1, #T_dc29f_row1_col2, #T_dc29f_row1_col3, #T_dc29f_row1_col4, #T_dc29f_row2_col0, #T_dc29f_row2_col1, #T_dc29f_row2_col2, #T_dc29f_row2_col3, #T_dc29f_row2_col4, #T_dc29f_row3_col0, #T_dc29f_row3_col1, #T_dc29f_row3_col2, #T_dc29f_row3_col3, #T_dc29f_row3_col4, #T_dc29f_row4_col0, #T_dc29f_row4_col1, #T_dc29f_row4_col2, #T_dc29f_row4_col3, #T_dc29f_row4_col4 {\n",
              "  text-align: center;\n",
              "  white-space: pre;\n",
              "}\n",
              "</style>\n",
              "<table id=\"T_dc29f\" class=\"dataframe\">\n",
              "  <thead>\n",
              "    <tr>\n",
              "      <th class=\"blank level0\" >&nbsp;</th>\n",
              "      <th id=\"T_dc29f_level0_col0\" class=\"col_heading level0 col0\" >Model_Classifier</th>\n",
              "      <th id=\"T_dc29f_level0_col1\" class=\"col_heading level0 col1\" >Train_Accuracy</th>\n",
              "      <th id=\"T_dc29f_level0_col2\" class=\"col_heading level0 col2\" >Test_Accuracy</th>\n",
              "      <th id=\"T_dc29f_level0_col3\" class=\"col_heading level0 col3\" >roc_auc_score</th>\n",
              "      <th id=\"T_dc29f_level0_col4\" class=\"col_heading level0 col4\" >F1_Score</th>\n",
              "    </tr>\n",
              "  </thead>\n",
              "  <tbody>\n",
              "    <tr>\n",
              "      <th id=\"T_dc29f_level0_row0\" class=\"row_heading level0 row0\" >0</th>\n",
              "      <td id=\"T_dc29f_row0_col0\" class=\"data row0 col0\" >Logistic Regression</td>\n",
              "      <td id=\"T_dc29f_row0_col1\" class=\"data row0 col1\" >0.936175</td>\n",
              "      <td id=\"T_dc29f_row0_col2\" class=\"data row0 col2\" >0.827453</td>\n",
              "      <td id=\"T_dc29f_row0_col3\" class=\"data row0 col3\" >0.815579</td>\n",
              "      <td id=\"T_dc29f_row0_col4\" class=\"data row0 col4\" >0.524390</td>\n",
              "    </tr>\n",
              "    <tr>\n",
              "      <th id=\"T_dc29f_level0_row1\" class=\"row_heading level0 row1\" >1</th>\n",
              "      <td id=\"T_dc29f_row1_col0\" class=\"data row1 col0\" >Decision Tree</td>\n",
              "      <td id=\"T_dc29f_row1_col1\" class=\"data row1 col1\" >1.000000</td>\n",
              "      <td id=\"T_dc29f_row1_col2\" class=\"data row1 col2\" >0.850901</td>\n",
              "      <td id=\"T_dc29f_row1_col3\" class=\"data row1 col3\" >0.790537</td>\n",
              "      <td id=\"T_dc29f_row1_col4\" class=\"data row1 col4\" >0.527873</td>\n",
              "    </tr>\n",
              "    <tr>\n",
              "      <th id=\"T_dc29f_level0_row2\" class=\"row_heading level0 row2\" >2</th>\n",
              "      <td id=\"T_dc29f_row2_col0\" class=\"data row2 col0\" >K-Nearest Neighbour</td>\n",
              "      <td id=\"T_dc29f_row2_col1\" class=\"data row2 col1\" >0.996224</td>\n",
              "      <td id=\"T_dc29f_row2_col2\" class=\"data row2 col2\" >0.712200</td>\n",
              "      <td id=\"T_dc29f_row2_col3\" class=\"data row2 col3\" >0.715574</td>\n",
              "      <td id=\"T_dc29f_row2_col4\" class=\"data row2 col4\" >0.373012</td>\n",
              "    </tr>\n",
              "    <tr>\n",
              "      <th id=\"T_dc29f_level0_row3\" class=\"row_heading level0 row3\" >3</th>\n",
              "      <td id=\"T_dc29f_row3_col0\" class=\"data row3 col0\" >XG-Boost</td>\n",
              "      <td id=\"T_dc29f_row3_col1\" class=\"data row3 col1\" >0.993771</td>\n",
              "      <td id=\"T_dc29f_row3_col2\" class=\"data row3 col2\" >0.870590</td>\n",
              "      <td id=\"T_dc29f_row3_col3\" class=\"data row3 col3\" >0.831608</td>\n",
              "      <td id=\"T_dc29f_row3_col4\" class=\"data row3 col4\" >0.589185</td>\n",
              "    </tr>\n",
              "    <tr>\n",
              "      <th id=\"T_dc29f_level0_row4\" class=\"row_heading level0 row4\" >4</th>\n",
              "      <td id=\"T_dc29f_row4_col0\" class=\"data row4 col0\" >Random Forest</td>\n",
              "      <td id=\"T_dc29f_row4_col1\" class=\"data row4 col1\" >0.963056</td>\n",
              "      <td id=\"T_dc29f_row4_col2\" class=\"data row4 col2\" >0.837739</td>\n",
              "      <td id=\"T_dc29f_row4_col3\" class=\"data row4 col3\" >0.845232</td>\n",
              "      <td id=\"T_dc29f_row4_col4\" class=\"data row4 col4\" >0.550820</td>\n",
              "    </tr>\n",
              "  </tbody>\n",
              "</table>\n"
            ]
          },
          "metadata": {}
        }
      ]
    },
    {
      "cell_type": "markdown",
      "source": [
        "After building the Model, the important features for Customer Conversion Predictions for an insurance company are :\n",
        "\n",
        "prev_outcome_unknown : the customers failed to share the details of unknown plays ideal role to subscribe for an insurance.\n",
        "\n",
        "prev_outcome_failure : The prev_outcome failed and that is a important role to subscribe for an insurance.\n",
        "\n",
        "Duration of call : The amount of time spent with the customer during the call, may have major impact in the conversion.\n",
        "\n",
        "Hence, XG-Boost classifier gives the highest value for F1_Score"
      ],
      "metadata": {
        "id": "5dTp5TKhtV0G"
      }
    }
  ]
}